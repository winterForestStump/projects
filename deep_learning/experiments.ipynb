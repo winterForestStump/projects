{
 "cells": [
  {
   "attachments": {},
   "cell_type": "markdown",
   "metadata": {},
   "source": [
    "# Predicting African Government Debt Interest Rates"
   ]
  },
  {
   "cell_type": "code",
   "execution_count": 1,
   "metadata": {},
   "outputs": [],
   "source": [
    "# !pip install openpyxl\n",
    "import copy\n",
    "import time\n",
    "import pandas as pd\n",
    "import numpy as np\n",
    "import matplotlib.pyplot as plt\n",
    "\n",
    "from scipy.stats import pearsonr\n",
    "\n",
    "from sklearn.metrics import mean_squared_error\n",
    "from sklearn.metrics import mean_absolute_percentage_error\n",
    "from sklearn.metrics import r2_score\n",
    "from sklearn.model_selection import train_test_split\n",
    "from sklearn.preprocessing import MinMaxScaler\n",
    "from sklearn.linear_model import LinearRegression\n",
    "from sklearn.model_selection import ParameterGrid\n",
    "from sklearn.model_selection import KFold\n",
    "from sklearn.base import BaseEstimator\n",
    "from sklearn.preprocessing import PolynomialFeatures\n",
    "\n",
    "import torch\n",
    "import torch.nn as nn\n",
    "import torch.optim as optim\n",
    "\n",
    "torch.set_default_dtype(torch.float)\n",
    "\n",
    "import warnings"
   ]
  },
  {
   "attachments": {},
   "cell_type": "markdown",
   "metadata": {},
   "source": [
    "## Story"
   ]
  },
  {
   "attachments": {},
   "cell_type": "markdown",
   "metadata": {},
   "source": [
    "Context (fictional):\n",
    "\n",
    "As a data scientist working for a international financial institution called Global Economic Analytics (GEA), I am assigned to a critical project aimed at improving our understanding of African government debt and enhancing our ability to predict interest rates. GEA's mission is to provide data-driven insights and analysis to support informed economic decision-making, and this project aligns perfectly with our objectives.\n",
    "\n",
    "Recent experiences have highlighted the centrality of debt transparency both to avoid defaults and effectively resolving renegotiations. Mozambique's recent default, for example, came after large amounts of previously hidden debt became public knowledge. In Zambia, a key stumbling block during debt renegotiations with private creditors is the role of Chinese debts, in particular the lack of transparency on lending volumes and\n",
    "interest payments.There is a growing international recognition that better, more granular debt data is needed in developing countries. In recent years, African countries have witnessed significant economic growth and development. However, managing government debt has become increasingly complex due to diverse sources of funding, differing debt structures, and varying interest rates. To aid policy-makers, investors, and international organizations, GEA recognizes the need to create a robust predictive model for African government debt interest rates.\n",
    "\n",
    "Project Task:\n",
    "\n",
    "The task of this project is to develop a regression neural network model to predict interest rates on loans and bonds issued by African governments. By leveraging a comprehensive dataset covering over 7,493 loans and bonds between 2000 and 2020, we aim to create a tool that forecasts interest rates, which will help in a situation of insufficient public information enable proactive decision-making and risk management in the African debt market.\n",
    "\n",
    "Experiment Plan:\n",
    "\n",
    "1) Dataset Acquisition and Preparation: Gather the dataset from reliable open sources, ensuring completeness and data quality.\n",
    "Perform data cleaning. Convert categorical variables into numerical representations for model compatibility.\n",
    "2) Feature Selection and Engineering: Conduct a thorough analysis of the dataset to identify the most relevant features for predicting interest rates. Convert categorical variables (such as CreditorGroup) into numerical representations using techniques like one-hot encoding. Remove rare features.\n",
    "3) Model Architecture and Training: Use a simple baseline (Mean, Linear Regression). Develop regression neural networks with different architectures (number and types of layers, parameters). Define criterion and optimizer. Train the models using the training set and optimize hyperparameters to maximize performance.\n",
    "4) Model Evaluation and Validation: Calculate evaluation metrics such as MSE, MAE, MAPE. Compare the NN results with baselines and between each over. Fine-tune the models.\n",
    "\n",
    "\n",
    "Purpose and Value:\n",
    "\n",
    "The primary objective of this experiment is to create a regression neural network model that predicts interest rates on African government loans and bonds. By achieving this goal, we aim to provide GEA's stakeholders with a tool that enhances their understanding of African debt markets. The model's predictions will enable policy-makers to make proactive decisions, investors to assess risk, and international organizations to develop targeted strategies for supporting economic development in African countries.\n",
    "\n",
    "Through this project, GEA aims to contribute to the economic growth and stability of African nations by providing data-driven insights and empowering decision-makers in their debt management efforts."
   ]
  },
  {
   "attachments": {},
   "cell_type": "markdown",
   "metadata": {},
   "source": [
    "## The Data"
   ]
  },
  {
   "attachments": {},
   "cell_type": "markdown",
   "metadata": {},
   "source": [
    "Dataset Source: https://www.ifw-kiel.de/publications/kiel-working-papers/2022/who-lends-to-africa-and-how-introducing-the-africa-debt-database-17146/\n",
    "\n",
    "Authors of the dataset: David Mihalyi and Christoph Trebesch from Kiel Institute for the World Economy. I asked one of the authors (Christoph Trebesch) by email about the possible restrictions to use the dataset and received an answer that the data is public and free to use for all.\n",
    "\n",
    "About the dataset: Dataset covers over 7493 loans and bonds taken and issued by African countries (all 54 out of the 54 countries on the continent) between 2000 and 2020, with a total volume of 790 billion USD. The dataset is gathered instrument-by-instrument, so each loan or bond is a single record. Dataset focuses on external debt by central governments. External debt is defined by currency, governing law, and place of issuance, with an emphasis on currency. African government debt in hard currency is thus generally part of this data collection, as are sovereign bonds placed in New York or London or loans extended by Chinese state-owned banks. \n",
    "\n",
    "The following list describes the selection criteria for the dataset:\n",
    "- Domestic government debt, in particular local currency bonds, even if they are held or issued abroad, excluded.\n",
    "- Government-to-government loans, including those extended by China’s state-owned companies included.\n",
    "- Debt raised by public corporations and debt that is publicly guaranteed excluded.\n",
    "- Short term debt instruments are excluded (focusing on external public bonds and loans with maturities of a year or more).\n",
    "- Focusing on sovereign bonds only. The dataset does not cover bank loans or loans by commodity traders.\n",
    "- Focusing on loans and bonds, grants are excluded.\n",
    "- Loans where the recipient was a regional organization were excluded\n",
    "\n",
    "Sources of the information about loans: Official loans reported to OECD (3491 loans), World Bank lending (2470 loans), Chinese lenders (1149 loans), IMF lending (187 loans), USA bilateral lending (42 loans), External bonds (154 bonds).\n",
    "\n",
    "17 variables in the African Debt Dataset:\n",
    "\n",
    "Borrower info:\n",
    "* Country - Name of the borrowing country\n",
    "* Iso3c - iso3c code of the borrowing country\n",
    "* BorrowerType  - Type of borrowing entity: Central government/JV=Joint Venture/SOE=State-owned enterprise\n",
    "* BorrowerAgency - Name of borrower agency\n",
    "\n",
    "Creditor info:\n",
    "* CreditorName - Name of creditor country if bilateral loan, name of creditor institution if multilateral loan, Bondholders if sovereign bond\n",
    "* CreditorName_short - Abbreviations for multilateral institutions, short creditor country names.\n",
    "* CreditorGroup - Bilateral/multilateral/private. Chinese loans are considered as bilateral, if the creditor is the central government or another government agency or a state-owned policy bank. Chinese SOE and state-owned commercial bank loans are considered as private.\n",
    "* CreditorAgency - Name of the lending agency (E.g., ministries, bank names, SOE names, multilateral creditor agency names, etc.)\n",
    "* CreditorAgencyType  - Type of lending agency, if available. (E.g., central government, SOE, multilateral development bank, etc.)\n",
    "\n",
    "Basic information:\n",
    "* Year - Year of loan commitment or bond issuance.\n",
    "* Quarter - Quarter of the year in which commitment was made (bond issued). Possible values: Q1, Q2, Q3, Q4.\n",
    "* Amount_musd  - Commitment amount in the case of loans, original amount issued in case of bonds. When bonds are re-opened,the reopening amounts are not considered. All are measured in million USD and were converted using market exchange rates\n",
    "\n",
    "Financial terms:\n",
    "* Interest - Interest rate of loan. All floating rates were transformed into a fixed rate equivalent using the following method:average reference rate of the commitment year + margin.\n",
    "* Structure - Type of interest rate in the case of OECD loans: fix or floating (variable). Repayment structure in case of bonds: sinking fund or bullet (or unknown). Type of facility in case of IMF loans. All bonds have fixed interest rates\n",
    "* Maturity - Number of years between issuance date and the date when the principal on the loan or bond is due (last tranche).\n",
    "* Grace - Number of years between commitment date and the date of the first installment. \n",
    "\n",
    "Data source used:\n",
    "* Source - Short citation of the source of the loan terms.\n",
    "\n",
    "Due to the fact that the collection of data on the debt of African countries is not systematized, as well as the lack of transparency in the reporting of these countries, this dataset is collected from open sources and is incomplete."
   ]
  },
  {
   "attachments": {},
   "cell_type": "markdown",
   "metadata": {},
   "source": [
    "## Initial Data Analysis"
   ]
  },
  {
   "attachments": {},
   "cell_type": "markdown",
   "metadata": {},
   "source": [
    "Open the excel file with the database already downloaded from the link: https://www.ifw-kiel.de/fileadmin/Dateiverwaltung/IfW-Publications/-ifw/Kiel_Working_Paper/2022/KWP_2217_Who_Lends_to_Africa_and_How_/Africa_Debt_Database_2023_NEU.xlsx"
   ]
  },
  {
   "cell_type": "code",
   "execution_count": 2,
   "metadata": {},
   "outputs": [],
   "source": [
    "data = pd.read_excel('data/Africa_Debt_Database_2023_NEU.xlsx', sheet_name='Database')"
   ]
  },
  {
   "cell_type": "code",
   "execution_count": 3,
   "metadata": {},
   "outputs": [
    {
     "data": {
      "text/html": [
       "<div>\n",
       "<style scoped>\n",
       "    .dataframe tbody tr th:only-of-type {\n",
       "        vertical-align: middle;\n",
       "    }\n",
       "\n",
       "    .dataframe tbody tr th {\n",
       "        vertical-align: top;\n",
       "    }\n",
       "\n",
       "    .dataframe thead th {\n",
       "        text-align: right;\n",
       "    }\n",
       "</style>\n",
       "<table border=\"1\" class=\"dataframe\">\n",
       "  <thead>\n",
       "    <tr style=\"text-align: right;\">\n",
       "      <th></th>\n",
       "      <th>country</th>\n",
       "      <th>iso3c</th>\n",
       "      <th>BorrowerType</th>\n",
       "      <th>BorrowerAgency</th>\n",
       "      <th>CreditorName</th>\n",
       "      <th>CreditorName_short</th>\n",
       "      <th>CreditorGroup</th>\n",
       "      <th>CreditorAgency</th>\n",
       "      <th>CreditorAgencyType</th>\n",
       "      <th>year</th>\n",
       "      <th>quarter</th>\n",
       "      <th>Amount_musd</th>\n",
       "      <th>interest</th>\n",
       "      <th>structure</th>\n",
       "      <th>maturity</th>\n",
       "      <th>grace</th>\n",
       "      <th>source</th>\n",
       "    </tr>\n",
       "  </thead>\n",
       "  <tbody>\n",
       "    <tr>\n",
       "      <th>0</th>\n",
       "      <td>Algeria</td>\n",
       "      <td>DZA</td>\n",
       "      <td>NaN</td>\n",
       "      <td>Government of Algeria</td>\n",
       "      <td>World Bank (IBRD)</td>\n",
       "      <td>WB-IBRD</td>\n",
       "      <td>Multilateral</td>\n",
       "      <td>IBRD</td>\n",
       "      <td>Multilateral development bank</td>\n",
       "      <td>2000</td>\n",
       "      <td>Q3</td>\n",
       "      <td>83</td>\n",
       "      <td>NaN</td>\n",
       "      <td>FSL</td>\n",
       "      <td>16.000000</td>\n",
       "      <td>2.750000</td>\n",
       "      <td>World Bank</td>\n",
       "    </tr>\n",
       "    <tr>\n",
       "      <th>1</th>\n",
       "      <td>Algeria</td>\n",
       "      <td>DZA</td>\n",
       "      <td>NaN</td>\n",
       "      <td>NaN</td>\n",
       "      <td>African Development Bank</td>\n",
       "      <td>AfDB</td>\n",
       "      <td>Multilateral</td>\n",
       "      <td>AfDB Ordinary Capital</td>\n",
       "      <td>NaN</td>\n",
       "      <td>2000</td>\n",
       "      <td>Q4</td>\n",
       "      <td>117</td>\n",
       "      <td>NaN</td>\n",
       "      <td>NaN</td>\n",
       "      <td>20.000000</td>\n",
       "      <td>5.000000</td>\n",
       "      <td>OECD</td>\n",
       "    </tr>\n",
       "    <tr>\n",
       "      <th>2</th>\n",
       "      <td>Algeria</td>\n",
       "      <td>DZA</td>\n",
       "      <td>NaN</td>\n",
       "      <td>NaN</td>\n",
       "      <td>Islamic Development Bank</td>\n",
       "      <td>IsDB</td>\n",
       "      <td>Multilateral</td>\n",
       "      <td>Islamic Development Bank</td>\n",
       "      <td>NaN</td>\n",
       "      <td>2000</td>\n",
       "      <td>Q4</td>\n",
       "      <td>87</td>\n",
       "      <td>NaN</td>\n",
       "      <td>NaN</td>\n",
       "      <td>NaN</td>\n",
       "      <td>NaN</td>\n",
       "      <td>OECD</td>\n",
       "    </tr>\n",
       "    <tr>\n",
       "      <th>3</th>\n",
       "      <td>Algeria</td>\n",
       "      <td>DZA</td>\n",
       "      <td>NaN</td>\n",
       "      <td>Government of Algeria</td>\n",
       "      <td>World Bank (IBRD)</td>\n",
       "      <td>WB-IBRD</td>\n",
       "      <td>Multilateral</td>\n",
       "      <td>IBRD</td>\n",
       "      <td>Multilateral development bank</td>\n",
       "      <td>2000</td>\n",
       "      <td>Q4</td>\n",
       "      <td>5</td>\n",
       "      <td>NaN</td>\n",
       "      <td>FSL</td>\n",
       "      <td>13.480769</td>\n",
       "      <td>3.692308</td>\n",
       "      <td>World Bank</td>\n",
       "    </tr>\n",
       "    <tr>\n",
       "      <th>4</th>\n",
       "      <td>Algeria</td>\n",
       "      <td>DZA</td>\n",
       "      <td>NaN</td>\n",
       "      <td>Government of Algeria</td>\n",
       "      <td>World Bank (IBRD)</td>\n",
       "      <td>WB-IBRD</td>\n",
       "      <td>Multilateral</td>\n",
       "      <td>IBRD</td>\n",
       "      <td>Multilateral development bank</td>\n",
       "      <td>2000</td>\n",
       "      <td>Q4</td>\n",
       "      <td>9</td>\n",
       "      <td>NaN</td>\n",
       "      <td>FSL</td>\n",
       "      <td>14.000000</td>\n",
       "      <td>3.711539</td>\n",
       "      <td>World Bank</td>\n",
       "    </tr>\n",
       "  </tbody>\n",
       "</table>\n",
       "</div>"
      ],
      "text/plain": [
       "   country iso3c BorrowerType         BorrowerAgency  \\\n",
       "0  Algeria   DZA          NaN  Government of Algeria   \n",
       "1  Algeria   DZA          NaN                    NaN   \n",
       "2  Algeria   DZA          NaN                    NaN   \n",
       "3  Algeria   DZA          NaN  Government of Algeria   \n",
       "4  Algeria   DZA          NaN  Government of Algeria   \n",
       "\n",
       "               CreditorName CreditorName_short CreditorGroup  \\\n",
       "0         World Bank (IBRD)            WB-IBRD  Multilateral   \n",
       "1  African Development Bank               AfDB  Multilateral   \n",
       "2  Islamic Development Bank               IsDB  Multilateral   \n",
       "3         World Bank (IBRD)            WB-IBRD  Multilateral   \n",
       "4         World Bank (IBRD)            WB-IBRD  Multilateral   \n",
       "\n",
       "              CreditorAgency             CreditorAgencyType  year quarter  \\\n",
       "0                       IBRD  Multilateral development bank  2000      Q3   \n",
       "1      AfDB Ordinary Capital                            NaN  2000      Q4   \n",
       "2  Islamic Development Bank                             NaN  2000      Q4   \n",
       "3                       IBRD  Multilateral development bank  2000      Q4   \n",
       "4                       IBRD  Multilateral development bank  2000      Q4   \n",
       "\n",
       "   Amount_musd  interest structure   maturity     grace      source  \n",
       "0           83       NaN       FSL  16.000000  2.750000  World Bank  \n",
       "1          117       NaN       NaN  20.000000  5.000000        OECD  \n",
       "2           87       NaN       NaN        NaN       NaN        OECD  \n",
       "3            5       NaN       FSL  13.480769  3.692308  World Bank  \n",
       "4            9       NaN       FSL  14.000000  3.711539  World Bank  "
      ]
     },
     "execution_count": 3,
     "metadata": {},
     "output_type": "execute_result"
    }
   ],
   "source": [
    "data.head()"
   ]
  },
  {
   "cell_type": "code",
   "execution_count": 4,
   "metadata": {},
   "outputs": [
    {
     "name": "stdout",
     "output_type": "stream",
     "text": [
      "<class 'pandas.core.frame.DataFrame'>\n",
      "RangeIndex: 7493 entries, 0 to 7492\n",
      "Data columns (total 17 columns):\n",
      " #   Column              Non-Null Count  Dtype  \n",
      "---  ------              --------------  -----  \n",
      " 0   country             7493 non-null   object \n",
      " 1   iso3c               7493 non-null   object \n",
      " 2   BorrowerType        1405 non-null   object \n",
      " 3   BorrowerAgency      5298 non-null   object \n",
      " 4   CreditorName        7493 non-null   object \n",
      " 5   CreditorName_short  7493 non-null   object \n",
      " 6   CreditorGroup       7493 non-null   object \n",
      " 7   CreditorAgency      7493 non-null   object \n",
      " 8   CreditorAgencyType  3769 non-null   object \n",
      " 9   year                7493 non-null   int64  \n",
      " 10  quarter             6147 non-null   object \n",
      " 11  Amount_musd         7493 non-null   int64  \n",
      " 12  interest            5602 non-null   float64\n",
      " 13  structure           2887 non-null   object \n",
      " 14  maturity            5620 non-null   float64\n",
      " 15  grace               5411 non-null   float64\n",
      " 16  source              7493 non-null   object \n",
      "dtypes: float64(3), int64(2), object(12)\n",
      "memory usage: 995.3+ KB\n"
     ]
    }
   ],
   "source": [
    "data.info()"
   ]
  },
  {
   "attachments": {},
   "cell_type": "markdown",
   "metadata": {},
   "source": [
    "There are 7493 rows with credit entries for each and 17 columns with features (one of the columns is a target - the 'interest'). Most of the columns contain categorical data (object dtype) and also some of the data is missing"
   ]
  },
  {
   "attachments": {},
   "cell_type": "markdown",
   "metadata": {},
   "source": [
    "Statisctics for the numerical data:"
   ]
  },
  {
   "cell_type": "code",
   "execution_count": 5,
   "metadata": {},
   "outputs": [
    {
     "data": {
      "text/html": [
       "<div>\n",
       "<style scoped>\n",
       "    .dataframe tbody tr th:only-of-type {\n",
       "        vertical-align: middle;\n",
       "    }\n",
       "\n",
       "    .dataframe tbody tr th {\n",
       "        vertical-align: top;\n",
       "    }\n",
       "\n",
       "    .dataframe thead th {\n",
       "        text-align: right;\n",
       "    }\n",
       "</style>\n",
       "<table border=\"1\" class=\"dataframe\">\n",
       "  <thead>\n",
       "    <tr style=\"text-align: right;\">\n",
       "      <th></th>\n",
       "      <th>year</th>\n",
       "      <th>Amount_musd</th>\n",
       "      <th>interest</th>\n",
       "      <th>maturity</th>\n",
       "      <th>grace</th>\n",
       "    </tr>\n",
       "  </thead>\n",
       "  <tbody>\n",
       "    <tr>\n",
       "      <th>count</th>\n",
       "      <td>7493.000000</td>\n",
       "      <td>7493.000000</td>\n",
       "      <td>5602.000000</td>\n",
       "      <td>5620.000000</td>\n",
       "      <td>5411.000000</td>\n",
       "    </tr>\n",
       "    <tr>\n",
       "      <th>mean</th>\n",
       "      <td>2011.757374</td>\n",
       "      <td>105.477112</td>\n",
       "      <td>1.403177</td>\n",
       "      <td>25.431677</td>\n",
       "      <td>7.812739</td>\n",
       "    </tr>\n",
       "    <tr>\n",
       "      <th>std</th>\n",
       "      <td>6.005747</td>\n",
       "      <td>278.032840</td>\n",
       "      <td>1.584041</td>\n",
       "      <td>10.371935</td>\n",
       "      <td>3.839673</td>\n",
       "    </tr>\n",
       "    <tr>\n",
       "      <th>min</th>\n",
       "      <td>2000.000000</td>\n",
       "      <td>0.000000</td>\n",
       "      <td>0.000000</td>\n",
       "      <td>0.000000</td>\n",
       "      <td>0.000000</td>\n",
       "    </tr>\n",
       "    <tr>\n",
       "      <th>25%</th>\n",
       "      <td>2007.000000</td>\n",
       "      <td>13.000000</td>\n",
       "      <td>0.800000</td>\n",
       "      <td>19.500000</td>\n",
       "      <td>5.000000</td>\n",
       "    </tr>\n",
       "    <tr>\n",
       "      <th>50%</th>\n",
       "      <td>2013.000000</td>\n",
       "      <td>34.000000</td>\n",
       "      <td>0.800000</td>\n",
       "      <td>29.000000</td>\n",
       "      <td>7.000000</td>\n",
       "    </tr>\n",
       "    <tr>\n",
       "      <th>75%</th>\n",
       "      <td>2017.000000</td>\n",
       "      <td>90.000000</td>\n",
       "      <td>2.000000</td>\n",
       "      <td>30.000000</td>\n",
       "      <td>10.000000</td>\n",
       "    </tr>\n",
       "    <tr>\n",
       "      <th>max</th>\n",
       "      <td>2020.000000</td>\n",
       "      <td>6900.000000</td>\n",
       "      <td>12.300000</td>\n",
       "      <td>62.000000</td>\n",
       "      <td>55.000000</td>\n",
       "    </tr>\n",
       "  </tbody>\n",
       "</table>\n",
       "</div>"
      ],
      "text/plain": [
       "              year  Amount_musd     interest     maturity        grace\n",
       "count  7493.000000  7493.000000  5602.000000  5620.000000  5411.000000\n",
       "mean   2011.757374   105.477112     1.403177    25.431677     7.812739\n",
       "std       6.005747   278.032840     1.584041    10.371935     3.839673\n",
       "min    2000.000000     0.000000     0.000000     0.000000     0.000000\n",
       "25%    2007.000000    13.000000     0.800000    19.500000     5.000000\n",
       "50%    2013.000000    34.000000     0.800000    29.000000     7.000000\n",
       "75%    2017.000000    90.000000     2.000000    30.000000    10.000000\n",
       "max    2020.000000  6900.000000    12.300000    62.000000    55.000000"
      ]
     },
     "execution_count": 5,
     "metadata": {},
     "output_type": "execute_result"
    }
   ],
   "source": [
    "data.describe()"
   ]
  },
  {
   "attachments": {},
   "cell_type": "markdown",
   "metadata": {},
   "source": [
    "Year, Amount of the loans, Interest rates, Maturity and Grace periods are numerical features. Some of the data is missing for interest rates. Also the mininmum of 0 for Amount, interest and maturity is most likely a mistake (or lack of relevant information) because it makes no sense"
   ]
  },
  {
   "attachments": {},
   "cell_type": "markdown",
   "metadata": {},
   "source": [
    "Statisctics for the categorical data:"
   ]
  },
  {
   "cell_type": "code",
   "execution_count": 6,
   "metadata": {},
   "outputs": [
    {
     "data": {
      "text/html": [
       "<div>\n",
       "<style scoped>\n",
       "    .dataframe tbody tr th:only-of-type {\n",
       "        vertical-align: middle;\n",
       "    }\n",
       "\n",
       "    .dataframe tbody tr th {\n",
       "        vertical-align: top;\n",
       "    }\n",
       "\n",
       "    .dataframe thead th {\n",
       "        text-align: right;\n",
       "    }\n",
       "</style>\n",
       "<table border=\"1\" class=\"dataframe\">\n",
       "  <thead>\n",
       "    <tr style=\"text-align: right;\">\n",
       "      <th></th>\n",
       "      <th>country</th>\n",
       "      <th>iso3c</th>\n",
       "      <th>BorrowerType</th>\n",
       "      <th>BorrowerAgency</th>\n",
       "      <th>CreditorName</th>\n",
       "      <th>CreditorName_short</th>\n",
       "      <th>CreditorGroup</th>\n",
       "      <th>CreditorAgency</th>\n",
       "      <th>CreditorAgencyType</th>\n",
       "      <th>quarter</th>\n",
       "      <th>structure</th>\n",
       "      <th>source</th>\n",
       "    </tr>\n",
       "  </thead>\n",
       "  <tbody>\n",
       "    <tr>\n",
       "      <th>count</th>\n",
       "      <td>7493</td>\n",
       "      <td>7493</td>\n",
       "      <td>1405</td>\n",
       "      <td>5298</td>\n",
       "      <td>7493</td>\n",
       "      <td>7493</td>\n",
       "      <td>7493</td>\n",
       "      <td>7493</td>\n",
       "      <td>3769</td>\n",
       "      <td>6147</td>\n",
       "      <td>2887</td>\n",
       "      <td>7493</td>\n",
       "    </tr>\n",
       "    <tr>\n",
       "      <th>unique</th>\n",
       "      <td>54</td>\n",
       "      <td>54</td>\n",
       "      <td>27</td>\n",
       "      <td>377</td>\n",
       "      <td>34</td>\n",
       "      <td>33</td>\n",
       "      <td>3</td>\n",
       "      <td>113</td>\n",
       "      <td>12</td>\n",
       "      <td>4</td>\n",
       "      <td>10</td>\n",
       "      <td>7</td>\n",
       "    </tr>\n",
       "    <tr>\n",
       "      <th>top</th>\n",
       "      <td>Morocco</td>\n",
       "      <td>MAR</td>\n",
       "      <td>Central government</td>\n",
       "      <td>Government of Angola</td>\n",
       "      <td>World Bank (IDA)</td>\n",
       "      <td>WB-IDA</td>\n",
       "      <td>Multilateral</td>\n",
       "      <td>IDA</td>\n",
       "      <td>Multilateral development bank</td>\n",
       "      <td>Q4</td>\n",
       "      <td>Fixed</td>\n",
       "      <td>OECD</td>\n",
       "    </tr>\n",
       "    <tr>\n",
       "      <th>freq</th>\n",
       "      <td>350</td>\n",
       "      <td>350</td>\n",
       "      <td>1087</td>\n",
       "      <td>218</td>\n",
       "      <td>2262</td>\n",
       "      <td>2262</td>\n",
       "      <td>4583</td>\n",
       "      <td>2262</td>\n",
       "      <td>2470</td>\n",
       "      <td>2247</td>\n",
       "      <td>2086</td>\n",
       "      <td>3491</td>\n",
       "    </tr>\n",
       "  </tbody>\n",
       "</table>\n",
       "</div>"
      ],
      "text/plain": [
       "        country iso3c        BorrowerType        BorrowerAgency  \\\n",
       "count      7493  7493                1405                  5298   \n",
       "unique       54    54                  27                   377   \n",
       "top     Morocco   MAR  Central government  Government of Angola   \n",
       "freq        350   350                1087                   218   \n",
       "\n",
       "            CreditorName CreditorName_short CreditorGroup CreditorAgency  \\\n",
       "count               7493               7493          7493           7493   \n",
       "unique                34                 33             3            113   \n",
       "top     World Bank (IDA)             WB-IDA  Multilateral            IDA   \n",
       "freq                2262               2262          4583           2262   \n",
       "\n",
       "                   CreditorAgencyType quarter structure source  \n",
       "count                            3769    6147      2887   7493  \n",
       "unique                             12       4        10      7  \n",
       "top     Multilateral development bank      Q4     Fixed   OECD  \n",
       "freq                             2470    2247      2086   3491  "
      ]
     },
     "execution_count": 6,
     "metadata": {},
     "output_type": "execute_result"
    }
   ],
   "source": [
    "data.describe(include=[object])"
   ]
  },
  {
   "attachments": {},
   "cell_type": "markdown",
   "metadata": {},
   "source": [
    "Also there are some missing data. Also for some columns there are a large number of unique values."
   ]
  },
  {
   "attachments": {},
   "cell_type": "markdown",
   "metadata": {},
   "source": [
    "We can look at the mean distribution of loans amounts, interest rates and maturity for different creditor groups"
   ]
  },
  {
   "cell_type": "code",
   "execution_count": 7,
   "metadata": {},
   "outputs": [
    {
     "data": {
      "text/html": [
       "<div>\n",
       "<style scoped>\n",
       "    .dataframe tbody tr th:only-of-type {\n",
       "        vertical-align: middle;\n",
       "    }\n",
       "\n",
       "    .dataframe tbody tr th {\n",
       "        vertical-align: top;\n",
       "    }\n",
       "\n",
       "    .dataframe thead th {\n",
       "        text-align: right;\n",
       "    }\n",
       "</style>\n",
       "<table border=\"1\" class=\"dataframe\">\n",
       "  <thead>\n",
       "    <tr style=\"text-align: right;\">\n",
       "      <th></th>\n",
       "      <th>CreditorGroup</th>\n",
       "      <th>interest</th>\n",
       "      <th>Amount_musd</th>\n",
       "      <th>maturity</th>\n",
       "    </tr>\n",
       "  </thead>\n",
       "  <tbody>\n",
       "    <tr>\n",
       "      <th>0</th>\n",
       "      <td>Private</td>\n",
       "      <td>3.605263</td>\n",
       "      <td>384.315789</td>\n",
       "      <td>14.686933</td>\n",
       "    </tr>\n",
       "    <tr>\n",
       "      <th>1</th>\n",
       "      <td>Bilateral</td>\n",
       "      <td>1.870645</td>\n",
       "      <td>92.155647</td>\n",
       "      <td>23.086475</td>\n",
       "    </tr>\n",
       "    <tr>\n",
       "      <th>2</th>\n",
       "      <td>Multilateral</td>\n",
       "      <td>0.921194</td>\n",
       "      <td>83.655029</td>\n",
       "      <td>27.996420</td>\n",
       "    </tr>\n",
       "  </tbody>\n",
       "</table>\n",
       "</div>"
      ],
      "text/plain": [
       "  CreditorGroup  interest  Amount_musd   maturity\n",
       "0       Private  3.605263   384.315789  14.686933\n",
       "1     Bilateral  1.870645    92.155647  23.086475\n",
       "2  Multilateral  0.921194    83.655029  27.996420"
      ]
     },
     "execution_count": 7,
     "metadata": {},
     "output_type": "execute_result"
    }
   ],
   "source": [
    "data[['CreditorGroup', 'interest', 'Amount_musd', 'maturity']].groupby('CreditorGroup').mean().sort_values(by='interest', ascending=False).reset_index()"
   ]
  },
  {
   "attachments": {},
   "cell_type": "markdown",
   "metadata": {},
   "source": [
    "Private investors have the largest size of the mean loan amount, the shortest mean maturity perid and the largest mean interest rate."
   ]
  },
  {
   "attachments": {},
   "cell_type": "markdown",
   "metadata": {},
   "source": [
    "Distribution of debt among investors:"
   ]
  },
  {
   "cell_type": "code",
   "execution_count": 8,
   "metadata": {},
   "outputs": [
    {
     "data": {
      "text/html": [
       "<div>\n",
       "<style scoped>\n",
       "    .dataframe tbody tr th:only-of-type {\n",
       "        vertical-align: middle;\n",
       "    }\n",
       "\n",
       "    .dataframe tbody tr th {\n",
       "        vertical-align: top;\n",
       "    }\n",
       "\n",
       "    .dataframe thead th {\n",
       "        text-align: right;\n",
       "    }\n",
       "</style>\n",
       "<table border=\"1\" class=\"dataframe\">\n",
       "  <thead>\n",
       "    <tr style=\"text-align: right;\">\n",
       "      <th></th>\n",
       "      <th>CreditorName</th>\n",
       "      <th>CreditorGroup</th>\n",
       "      <th>Amount_musd</th>\n",
       "    </tr>\n",
       "  </thead>\n",
       "  <tbody>\n",
       "    <tr>\n",
       "      <th>0</th>\n",
       "      <td>Bondholders</td>\n",
       "      <td>Private</td>\n",
       "      <td>146343</td>\n",
       "    </tr>\n",
       "    <tr>\n",
       "      <th>1</th>\n",
       "      <td>World Bank (IDA)</td>\n",
       "      <td>Multilateral</td>\n",
       "      <td>145683</td>\n",
       "    </tr>\n",
       "    <tr>\n",
       "      <th>2</th>\n",
       "      <td>China</td>\n",
       "      <td>Bilateral</td>\n",
       "      <td>143739</td>\n",
       "    </tr>\n",
       "    <tr>\n",
       "      <th>3</th>\n",
       "      <td>International Monetary Fund</td>\n",
       "      <td>Multilateral</td>\n",
       "      <td>76544</td>\n",
       "    </tr>\n",
       "    <tr>\n",
       "      <th>4</th>\n",
       "      <td>African Development Bank</td>\n",
       "      <td>Multilateral</td>\n",
       "      <td>45663</td>\n",
       "    </tr>\n",
       "    <tr>\n",
       "      <th>5</th>\n",
       "      <td>China private</td>\n",
       "      <td>Private</td>\n",
       "      <td>36207</td>\n",
       "    </tr>\n",
       "    <tr>\n",
       "      <th>6</th>\n",
       "      <td>Islamic Development Bank</td>\n",
       "      <td>Multilateral</td>\n",
       "      <td>33117</td>\n",
       "    </tr>\n",
       "    <tr>\n",
       "      <th>7</th>\n",
       "      <td>France</td>\n",
       "      <td>Bilateral</td>\n",
       "      <td>30769</td>\n",
       "    </tr>\n",
       "    <tr>\n",
       "      <th>8</th>\n",
       "      <td>World Bank (IBRD)</td>\n",
       "      <td>Multilateral</td>\n",
       "      <td>28382</td>\n",
       "    </tr>\n",
       "    <tr>\n",
       "      <th>9</th>\n",
       "      <td>African Development Fund</td>\n",
       "      <td>Multilateral</td>\n",
       "      <td>20695</td>\n",
       "    </tr>\n",
       "  </tbody>\n",
       "</table>\n",
       "</div>"
      ],
      "text/plain": [
       "                  CreditorName CreditorGroup  Amount_musd\n",
       "0                  Bondholders       Private       146343\n",
       "1             World Bank (IDA)  Multilateral       145683\n",
       "2                        China     Bilateral       143739\n",
       "3  International Monetary Fund  Multilateral        76544\n",
       "4     African Development Bank  Multilateral        45663\n",
       "5                China private       Private        36207\n",
       "6     Islamic Development Bank  Multilateral        33117\n",
       "7                       France     Bilateral        30769\n",
       "8            World Bank (IBRD)  Multilateral        28382\n",
       "9     African Development Fund  Multilateral        20695"
      ]
     },
     "execution_count": 8,
     "metadata": {},
     "output_type": "execute_result"
    }
   ],
   "source": [
    "data[['CreditorName', 'CreditorGroup', 'Amount_musd',]].groupby(['CreditorName', 'CreditorGroup']).sum().sort_values(by='Amount_musd', ascending=False).reset_index().head(10)"
   ]
  },
  {
   "attachments": {},
   "cell_type": "markdown",
   "metadata": {},
   "source": [
    "Private bondholders, World Bank loans and credits from China are major investors"
   ]
  },
  {
   "attachments": {},
   "cell_type": "markdown",
   "metadata": {},
   "source": [
    "On the other hand, we can look at the countries that are the most active borrowers. Top 5 countries with the largest amount of debt:"
   ]
  },
  {
   "cell_type": "code",
   "execution_count": 9,
   "metadata": {},
   "outputs": [
    {
     "data": {
      "text/html": [
       "<div>\n",
       "<style scoped>\n",
       "    .dataframe tbody tr th:only-of-type {\n",
       "        vertical-align: middle;\n",
       "    }\n",
       "\n",
       "    .dataframe tbody tr th {\n",
       "        vertical-align: top;\n",
       "    }\n",
       "\n",
       "    .dataframe thead th {\n",
       "        text-align: right;\n",
       "    }\n",
       "</style>\n",
       "<table border=\"1\" class=\"dataframe\">\n",
       "  <thead>\n",
       "    <tr style=\"text-align: right;\">\n",
       "      <th></th>\n",
       "      <th>country</th>\n",
       "      <th>Amount_musd</th>\n",
       "    </tr>\n",
       "  </thead>\n",
       "  <tbody>\n",
       "    <tr>\n",
       "      <th>0</th>\n",
       "      <td>Egypt</td>\n",
       "      <td>74197</td>\n",
       "    </tr>\n",
       "    <tr>\n",
       "      <th>1</th>\n",
       "      <td>Morocco</td>\n",
       "      <td>73445</td>\n",
       "    </tr>\n",
       "    <tr>\n",
       "      <th>2</th>\n",
       "      <td>Angola</td>\n",
       "      <td>63768</td>\n",
       "    </tr>\n",
       "    <tr>\n",
       "      <th>3</th>\n",
       "      <td>South Africa</td>\n",
       "      <td>56135</td>\n",
       "    </tr>\n",
       "    <tr>\n",
       "      <th>4</th>\n",
       "      <td>Nigeria</td>\n",
       "      <td>52531</td>\n",
       "    </tr>\n",
       "  </tbody>\n",
       "</table>\n",
       "</div>"
      ],
      "text/plain": [
       "        country  Amount_musd\n",
       "0         Egypt        74197\n",
       "1       Morocco        73445\n",
       "2        Angola        63768\n",
       "3  South Africa        56135\n",
       "4       Nigeria        52531"
      ]
     },
     "execution_count": 9,
     "metadata": {},
     "output_type": "execute_result"
    }
   ],
   "source": [
    "data[['country', 'Amount_musd']].groupby('country').sum().sort_values(by='Amount_musd', ascending=False).reset_index().head(5)"
   ]
  },
  {
   "attachments": {},
   "cell_type": "markdown",
   "metadata": {},
   "source": [
    "Top 5 countries with the highest mean interest rates:"
   ]
  },
  {
   "cell_type": "code",
   "execution_count": 10,
   "metadata": {},
   "outputs": [
    {
     "data": {
      "text/html": [
       "<div>\n",
       "<style scoped>\n",
       "    .dataframe tbody tr th:only-of-type {\n",
       "        vertical-align: middle;\n",
       "    }\n",
       "\n",
       "    .dataframe tbody tr th {\n",
       "        vertical-align: top;\n",
       "    }\n",
       "\n",
       "    .dataframe thead th {\n",
       "        text-align: right;\n",
       "    }\n",
       "</style>\n",
       "<table border=\"1\" class=\"dataframe\">\n",
       "  <thead>\n",
       "    <tr style=\"text-align: right;\">\n",
       "      <th></th>\n",
       "      <th>country</th>\n",
       "      <th>interest</th>\n",
       "    </tr>\n",
       "  </thead>\n",
       "  <tbody>\n",
       "    <tr>\n",
       "      <th>0</th>\n",
       "      <td>South Africa</td>\n",
       "      <td>4.666337</td>\n",
       "    </tr>\n",
       "    <tr>\n",
       "      <th>1</th>\n",
       "      <td>Angola</td>\n",
       "      <td>3.635606</td>\n",
       "    </tr>\n",
       "    <tr>\n",
       "      <th>2</th>\n",
       "      <td>Botswana</td>\n",
       "      <td>3.041176</td>\n",
       "    </tr>\n",
       "    <tr>\n",
       "      <th>3</th>\n",
       "      <td>Seychelles</td>\n",
       "      <td>2.935714</td>\n",
       "    </tr>\n",
       "    <tr>\n",
       "      <th>4</th>\n",
       "      <td>Equatorial Guinea</td>\n",
       "      <td>2.866667</td>\n",
       "    </tr>\n",
       "  </tbody>\n",
       "</table>\n",
       "</div>"
      ],
      "text/plain": [
       "             country  interest\n",
       "0       South Africa  4.666337\n",
       "1             Angola  3.635606\n",
       "2           Botswana  3.041176\n",
       "3         Seychelles  2.935714\n",
       "4  Equatorial Guinea  2.866667"
      ]
     },
     "execution_count": 10,
     "metadata": {},
     "output_type": "execute_result"
    }
   ],
   "source": [
    "data[['country', 'interest']].groupby('country').mean().sort_values(by='interest', ascending=False).reset_index().head(5)"
   ]
  },
  {
   "attachments": {},
   "cell_type": "markdown",
   "metadata": {},
   "source": [
    "PLotting mean debt interest rates for each African country:"
   ]
  },
  {
   "cell_type": "code",
   "execution_count": 11,
   "metadata": {},
   "outputs": [
    {
     "data": {
      "image/png": "[encoded data removed]",
      "text/plain": [
       "<Figure size 1100x900 with 1 Axes>"
      ]
     },
     "metadata": {},
     "output_type": "display_data"
    }
   ],
   "source": [
    "countries = data[['country', 'interest', 'Amount_musd']].groupby('country').mean().sort_values(by='interest', ascending=False).reset_index()\n",
    "x = countries['interest']\n",
    "y = range(len(countries))\n",
    "radius = countries['Amount_musd']\n",
    "labels = countries['country']\n",
    "\n",
    "fig, ax = plt.subplots(figsize=(11, 9))\n",
    "\n",
    "circles = ax.scatter(x, y, s=radius, alpha=0.5)\n",
    "ax.set_yticks(y)\n",
    "ax.set_yticklabels(labels)\n",
    "xticks = np.arange(0,5,0.2) \n",
    "ax.set_xticks(xticks)\n",
    "ax.set_xlabel('Mean Interest')\n",
    "ax.set_ylabel('Country')\n",
    "ax.set_title('Mean Interest Rates')\n",
    "\n",
    "plt.show()"
   ]
  },
  {
   "attachments": {},
   "cell_type": "markdown",
   "metadata": {},
   "source": [
    "## Data Preprocessing"
   ]
  },
  {
   "attachments": {},
   "cell_type": "markdown",
   "metadata": {},
   "source": [
    "Firstly we can drop the redundant ('iso3c') and useless in research columns. We do not need additional info about borrowers ('BorrowerType', 'BorrowerAgency'), just the name of the country will be enough. We are not interested in 'CreditorName', 'CreditorAgency', 'CreditorAgencyType' columns because some info is missing."
   ]
  },
  {
   "cell_type": "code",
   "execution_count": 12,
   "metadata": {},
   "outputs": [
    {
     "data": {
      "text/html": [
       "<div>\n",
       "<style scoped>\n",
       "    .dataframe tbody tr th:only-of-type {\n",
       "        vertical-align: middle;\n",
       "    }\n",
       "\n",
       "    .dataframe tbody tr th {\n",
       "        vertical-align: top;\n",
       "    }\n",
       "\n",
       "    .dataframe thead th {\n",
       "        text-align: right;\n",
       "    }\n",
       "</style>\n",
       "<table border=\"1\" class=\"dataframe\">\n",
       "  <thead>\n",
       "    <tr style=\"text-align: right;\">\n",
       "      <th></th>\n",
       "      <th>country</th>\n",
       "      <th>CreditorName_short</th>\n",
       "      <th>CreditorGroup</th>\n",
       "      <th>year</th>\n",
       "      <th>Amount_musd</th>\n",
       "      <th>interest</th>\n",
       "      <th>maturity</th>\n",
       "      <th>grace</th>\n",
       "    </tr>\n",
       "  </thead>\n",
       "  <tbody>\n",
       "    <tr>\n",
       "      <th>0</th>\n",
       "      <td>Algeria</td>\n",
       "      <td>WB-IBRD</td>\n",
       "      <td>Multilateral</td>\n",
       "      <td>2000</td>\n",
       "      <td>83</td>\n",
       "      <td>NaN</td>\n",
       "      <td>16.000000</td>\n",
       "      <td>2.750000</td>\n",
       "    </tr>\n",
       "    <tr>\n",
       "      <th>1</th>\n",
       "      <td>Algeria</td>\n",
       "      <td>AfDB</td>\n",
       "      <td>Multilateral</td>\n",
       "      <td>2000</td>\n",
       "      <td>117</td>\n",
       "      <td>NaN</td>\n",
       "      <td>20.000000</td>\n",
       "      <td>5.000000</td>\n",
       "    </tr>\n",
       "    <tr>\n",
       "      <th>2</th>\n",
       "      <td>Algeria</td>\n",
       "      <td>IsDB</td>\n",
       "      <td>Multilateral</td>\n",
       "      <td>2000</td>\n",
       "      <td>87</td>\n",
       "      <td>NaN</td>\n",
       "      <td>NaN</td>\n",
       "      <td>NaN</td>\n",
       "    </tr>\n",
       "    <tr>\n",
       "      <th>3</th>\n",
       "      <td>Algeria</td>\n",
       "      <td>WB-IBRD</td>\n",
       "      <td>Multilateral</td>\n",
       "      <td>2000</td>\n",
       "      <td>5</td>\n",
       "      <td>NaN</td>\n",
       "      <td>13.480769</td>\n",
       "      <td>3.692308</td>\n",
       "    </tr>\n",
       "    <tr>\n",
       "      <th>4</th>\n",
       "      <td>Algeria</td>\n",
       "      <td>WB-IBRD</td>\n",
       "      <td>Multilateral</td>\n",
       "      <td>2000</td>\n",
       "      <td>9</td>\n",
       "      <td>NaN</td>\n",
       "      <td>14.000000</td>\n",
       "      <td>3.711539</td>\n",
       "    </tr>\n",
       "  </tbody>\n",
       "</table>\n",
       "</div>"
      ],
      "text/plain": [
       "   country CreditorName_short CreditorGroup  year  Amount_musd  interest  \\\n",
       "0  Algeria            WB-IBRD  Multilateral  2000           83       NaN   \n",
       "1  Algeria               AfDB  Multilateral  2000          117       NaN   \n",
       "2  Algeria               IsDB  Multilateral  2000           87       NaN   \n",
       "3  Algeria            WB-IBRD  Multilateral  2000            5       NaN   \n",
       "4  Algeria            WB-IBRD  Multilateral  2000            9       NaN   \n",
       "\n",
       "    maturity     grace  \n",
       "0  16.000000  2.750000  \n",
       "1  20.000000  5.000000  \n",
       "2        NaN       NaN  \n",
       "3  13.480769  3.692308  \n",
       "4  14.000000  3.711539  "
      ]
     },
     "execution_count": 12,
     "metadata": {},
     "output_type": "execute_result"
    }
   ],
   "source": [
    "df = data.drop(columns=['iso3c', 'BorrowerType', 'BorrowerAgency', 'CreditorName', 'CreditorAgency', 'CreditorAgencyType', 'quarter', 'structure', 'source'])\n",
    "df.head()"
   ]
  },
  {
   "attachments": {},
   "cell_type": "markdown",
   "metadata": {},
   "source": [
    "Additionally delete missing information:"
   ]
  },
  {
   "cell_type": "code",
   "execution_count": 13,
   "metadata": {},
   "outputs": [],
   "source": [
    "df=df.dropna(axis=0)"
   ]
  },
  {
   "attachments": {},
   "cell_type": "markdown",
   "metadata": {},
   "source": [
    "Delete rows where the interest rate is zero to avoid dividing by zero in the future:"
   ]
  },
  {
   "cell_type": "code",
   "execution_count": 14,
   "metadata": {},
   "outputs": [],
   "source": [
    "df = df[df['interest'] != 0]"
   ]
  },
  {
   "attachments": {},
   "cell_type": "markdown",
   "metadata": {},
   "source": [
    "We do not have the task of analyzing data over time, so let's apply the category datatype to the \"year\" column:"
   ]
  },
  {
   "cell_type": "code",
   "execution_count": 15,
   "metadata": {},
   "outputs": [],
   "source": [
    "df['year']=df['year'].astype(object)"
   ]
  },
  {
   "cell_type": "code",
   "execution_count": 16,
   "metadata": {},
   "outputs": [
    {
     "data": {
      "text/html": [
       "<div>\n",
       "<style scoped>\n",
       "    .dataframe tbody tr th:only-of-type {\n",
       "        vertical-align: middle;\n",
       "    }\n",
       "\n",
       "    .dataframe tbody tr th {\n",
       "        vertical-align: top;\n",
       "    }\n",
       "\n",
       "    .dataframe thead th {\n",
       "        text-align: right;\n",
       "    }\n",
       "</style>\n",
       "<table border=\"1\" class=\"dataframe\">\n",
       "  <thead>\n",
       "    <tr style=\"text-align: right;\">\n",
       "      <th></th>\n",
       "      <th>Amount_musd</th>\n",
       "      <th>interest</th>\n",
       "      <th>maturity</th>\n",
       "      <th>grace</th>\n",
       "    </tr>\n",
       "  </thead>\n",
       "  <tbody>\n",
       "    <tr>\n",
       "      <th>count</th>\n",
       "      <td>4317.000000</td>\n",
       "      <td>4317.000000</td>\n",
       "      <td>4317.000000</td>\n",
       "      <td>4317.000000</td>\n",
       "    </tr>\n",
       "    <tr>\n",
       "      <th>mean</th>\n",
       "      <td>106.207320</td>\n",
       "      <td>1.530762</td>\n",
       "      <td>26.303461</td>\n",
       "      <td>7.733693</td>\n",
       "    </tr>\n",
       "    <tr>\n",
       "      <th>std</th>\n",
       "      <td>264.166543</td>\n",
       "      <td>1.456440</td>\n",
       "      <td>9.729305</td>\n",
       "      <td>3.536621</td>\n",
       "    </tr>\n",
       "    <tr>\n",
       "      <th>min</th>\n",
       "      <td>0.000000</td>\n",
       "      <td>0.100000</td>\n",
       "      <td>0.000000</td>\n",
       "      <td>0.000000</td>\n",
       "    </tr>\n",
       "    <tr>\n",
       "      <th>25%</th>\n",
       "      <td>14.000000</td>\n",
       "      <td>0.800000</td>\n",
       "      <td>20.000000</td>\n",
       "      <td>5.000000</td>\n",
       "    </tr>\n",
       "    <tr>\n",
       "      <th>50%</th>\n",
       "      <td>35.000000</td>\n",
       "      <td>0.800000</td>\n",
       "      <td>29.500000</td>\n",
       "      <td>7.000000</td>\n",
       "    </tr>\n",
       "    <tr>\n",
       "      <th>75%</th>\n",
       "      <td>88.000000</td>\n",
       "      <td>2.000000</td>\n",
       "      <td>30.019178</td>\n",
       "      <td>9.980769</td>\n",
       "    </tr>\n",
       "    <tr>\n",
       "      <th>max</th>\n",
       "      <td>5156.000000</td>\n",
       "      <td>12.300000</td>\n",
       "      <td>53.000000</td>\n",
       "      <td>40.027397</td>\n",
       "    </tr>\n",
       "  </tbody>\n",
       "</table>\n",
       "</div>"
      ],
      "text/plain": [
       "       Amount_musd     interest     maturity        grace\n",
       "count  4317.000000  4317.000000  4317.000000  4317.000000\n",
       "mean    106.207320     1.530762    26.303461     7.733693\n",
       "std     264.166543     1.456440     9.729305     3.536621\n",
       "min       0.000000     0.100000     0.000000     0.000000\n",
       "25%      14.000000     0.800000    20.000000     5.000000\n",
       "50%      35.000000     0.800000    29.500000     7.000000\n",
       "75%      88.000000     2.000000    30.019178     9.980769\n",
       "max    5156.000000    12.300000    53.000000    40.027397"
      ]
     },
     "execution_count": 16,
     "metadata": {},
     "output_type": "execute_result"
    }
   ],
   "source": [
    "df.describe()"
   ]
  },
  {
   "attachments": {},
   "cell_type": "markdown",
   "metadata": {},
   "source": [
    "Now we have 4317 rows of with 4 columns of non-missing numerical features, with not-zero interest rates data"
   ]
  },
  {
   "cell_type": "code",
   "execution_count": 17,
   "metadata": {},
   "outputs": [
    {
     "data": {
      "text/html": [
       "<div>\n",
       "<style scoped>\n",
       "    .dataframe tbody tr th:only-of-type {\n",
       "        vertical-align: middle;\n",
       "    }\n",
       "\n",
       "    .dataframe tbody tr th {\n",
       "        vertical-align: top;\n",
       "    }\n",
       "\n",
       "    .dataframe thead th {\n",
       "        text-align: right;\n",
       "    }\n",
       "</style>\n",
       "<table border=\"1\" class=\"dataframe\">\n",
       "  <thead>\n",
       "    <tr style=\"text-align: right;\">\n",
       "      <th></th>\n",
       "      <th>country</th>\n",
       "      <th>CreditorName_short</th>\n",
       "      <th>CreditorGroup</th>\n",
       "      <th>year</th>\n",
       "    </tr>\n",
       "  </thead>\n",
       "  <tbody>\n",
       "    <tr>\n",
       "      <th>count</th>\n",
       "      <td>4317</td>\n",
       "      <td>4317</td>\n",
       "      <td>4317</td>\n",
       "      <td>4317</td>\n",
       "    </tr>\n",
       "    <tr>\n",
       "      <th>unique</th>\n",
       "      <td>53</td>\n",
       "      <td>25</td>\n",
       "      <td>3</td>\n",
       "      <td>21</td>\n",
       "    </tr>\n",
       "    <tr>\n",
       "      <th>top</th>\n",
       "      <td>Kenya</td>\n",
       "      <td>WB-IDA</td>\n",
       "      <td>Multilateral</td>\n",
       "      <td>2017</td>\n",
       "    </tr>\n",
       "    <tr>\n",
       "      <th>freq</th>\n",
       "      <td>230</td>\n",
       "      <td>1837</td>\n",
       "      <td>2697</td>\n",
       "      <td>303</td>\n",
       "    </tr>\n",
       "  </tbody>\n",
       "</table>\n",
       "</div>"
      ],
      "text/plain": [
       "       country CreditorName_short CreditorGroup  year\n",
       "count     4317               4317          4317  4317\n",
       "unique      53                 25             3    21\n",
       "top      Kenya             WB-IDA  Multilateral  2017\n",
       "freq       230               1837          2697   303"
      ]
     },
     "execution_count": 17,
     "metadata": {},
     "output_type": "execute_result"
    }
   ],
   "source": [
    "df.describe(include='object')"
   ]
  },
  {
   "attachments": {},
   "cell_type": "markdown",
   "metadata": {},
   "source": [
    "Also 4317 rows of non-missing categorical data with 4 features"
   ]
  },
  {
   "cell_type": "code",
   "execution_count": 18,
   "metadata": {},
   "outputs": [
    {
     "data": {
      "text/html": [
       "<div>\n",
       "<style scoped>\n",
       "    .dataframe tbody tr th:only-of-type {\n",
       "        vertical-align: middle;\n",
       "    }\n",
       "\n",
       "    .dataframe tbody tr th {\n",
       "        vertical-align: top;\n",
       "    }\n",
       "\n",
       "    .dataframe thead th {\n",
       "        text-align: right;\n",
       "    }\n",
       "</style>\n",
       "<table border=\"1\" class=\"dataframe\">\n",
       "  <thead>\n",
       "    <tr style=\"text-align: right;\">\n",
       "      <th></th>\n",
       "      <th>country</th>\n",
       "      <th>CreditorName_short</th>\n",
       "      <th>CreditorGroup</th>\n",
       "      <th>year</th>\n",
       "      <th>Amount_musd</th>\n",
       "      <th>interest</th>\n",
       "      <th>maturity</th>\n",
       "      <th>grace</th>\n",
       "    </tr>\n",
       "  </thead>\n",
       "  <tbody>\n",
       "    <tr>\n",
       "      <th>5</th>\n",
       "      <td>Algeria</td>\n",
       "      <td>Belgium</td>\n",
       "      <td>Bilateral</td>\n",
       "      <td>2001</td>\n",
       "      <td>4</td>\n",
       "      <td>2.0</td>\n",
       "      <td>28.0</td>\n",
       "      <td>9.0</td>\n",
       "    </tr>\n",
       "    <tr>\n",
       "      <th>12</th>\n",
       "      <td>Algeria</td>\n",
       "      <td>France</td>\n",
       "      <td>Bilateral</td>\n",
       "      <td>2002</td>\n",
       "      <td>5</td>\n",
       "      <td>0.4</td>\n",
       "      <td>31.0</td>\n",
       "      <td>11.0</td>\n",
       "    </tr>\n",
       "    <tr>\n",
       "      <th>13</th>\n",
       "      <td>Algeria</td>\n",
       "      <td>Italy</td>\n",
       "      <td>Bilateral</td>\n",
       "      <td>2002</td>\n",
       "      <td>27</td>\n",
       "      <td>1.0</td>\n",
       "      <td>25.0</td>\n",
       "      <td>10.0</td>\n",
       "    </tr>\n",
       "    <tr>\n",
       "      <th>16</th>\n",
       "      <td>Algeria</td>\n",
       "      <td>Spain</td>\n",
       "      <td>Bilateral</td>\n",
       "      <td>2002</td>\n",
       "      <td>62</td>\n",
       "      <td>1.5</td>\n",
       "      <td>20.0</td>\n",
       "      <td>9.0</td>\n",
       "    </tr>\n",
       "    <tr>\n",
       "      <th>21</th>\n",
       "      <td>Algeria</td>\n",
       "      <td>France</td>\n",
       "      <td>Bilateral</td>\n",
       "      <td>2003</td>\n",
       "      <td>45</td>\n",
       "      <td>3.5</td>\n",
       "      <td>10.0</td>\n",
       "      <td>4.0</td>\n",
       "    </tr>\n",
       "  </tbody>\n",
       "</table>\n",
       "</div>"
      ],
      "text/plain": [
       "    country CreditorName_short CreditorGroup  year  Amount_musd  interest  \\\n",
       "5   Algeria            Belgium     Bilateral  2001            4       2.0   \n",
       "12  Algeria             France     Bilateral  2002            5       0.4   \n",
       "13  Algeria              Italy     Bilateral  2002           27       1.0   \n",
       "16  Algeria              Spain     Bilateral  2002           62       1.5   \n",
       "21  Algeria             France     Bilateral  2003           45       3.5   \n",
       "\n",
       "    maturity  grace  \n",
       "5       28.0    9.0  \n",
       "12      31.0   11.0  \n",
       "13      25.0   10.0  \n",
       "16      20.0    9.0  \n",
       "21      10.0    4.0  "
      ]
     },
     "execution_count": 18,
     "metadata": {},
     "output_type": "execute_result"
    }
   ],
   "source": [
    "df.head()"
   ]
  },
  {
   "attachments": {},
   "cell_type": "markdown",
   "metadata": {},
   "source": [
    "Distribution of Creditors by the name:"
   ]
  },
  {
   "cell_type": "code",
   "execution_count": 19,
   "metadata": {},
   "outputs": [
    {
     "data": {
      "text/plain": [
       "WB-IDA     0.425527\n",
       "France     0.107482\n",
       "AfDB       0.090572\n",
       "China      0.085476\n",
       "Germany    0.048413\n",
       "Name: CreditorName_short, dtype: float64"
      ]
     },
     "execution_count": 19,
     "metadata": {},
     "output_type": "execute_result"
    }
   ],
   "source": [
    "df['CreditorName_short'].value_counts(normalize=True).head(5)"
   ]
  },
  {
   "cell_type": "code",
   "execution_count": 20,
   "metadata": {},
   "outputs": [
    {
     "data": {
      "text/plain": [
       "array(['Belgium', 'France', 'Italy', 'Spain', 'IFAD', 'UAE', 'WB-IDA',\n",
       "       'China', 'Portugal', 'China private', 'Korea', 'AfDB', 'IMF',\n",
       "       'Bondholders', 'OPEC Fund', 'Kuwait', 'Japan', 'BADEA',\n",
       "       'Saudi Arabia', 'Germany', 'WB-IBRD', 'AFESD', 'United States',\n",
       "       'Poland', 'Sweden'], dtype=object)"
      ]
     },
     "execution_count": 20,
     "metadata": {},
     "output_type": "execute_result"
    }
   ],
   "source": [
    "df['CreditorName_short'].unique()"
   ]
  },
  {
   "attachments": {},
   "cell_type": "markdown",
   "metadata": {},
   "source": [
    "We can remove rare creditor names categories into the 'Other' value:"
   ]
  },
  {
   "cell_type": "code",
   "execution_count": 21,
   "metadata": {},
   "outputs": [],
   "source": [
    "df['CreditorName_New'] = df['CreditorName_short'].mask(df['CreditorName_short'].map(df['CreditorName_short'].value_counts(normalize=True)) < 0.01, 'Other')\n",
    "df=df.drop('CreditorName_short', axis=1)"
   ]
  },
  {
   "attachments": {},
   "cell_type": "markdown",
   "metadata": {},
   "source": [
    "Also the same could be done with the borrower's country names: rare countries will be groupped inside the 'Other' category"
   ]
  },
  {
   "cell_type": "code",
   "execution_count": 22,
   "metadata": {},
   "outputs": [],
   "source": [
    "df['country_new'] = df['country'].mask(df['country'].map(df['country'].value_counts(normalize=True)) < 0.01, 'Other')\n",
    "df=df.drop('country', axis=1)"
   ]
  },
  {
   "cell_type": "code",
   "execution_count": 23,
   "metadata": {},
   "outputs": [
    {
     "data": {
      "text/html": [
       "<div>\n",
       "<style scoped>\n",
       "    .dataframe tbody tr th:only-of-type {\n",
       "        vertical-align: middle;\n",
       "    }\n",
       "\n",
       "    .dataframe tbody tr th {\n",
       "        vertical-align: top;\n",
       "    }\n",
       "\n",
       "    .dataframe thead th {\n",
       "        text-align: right;\n",
       "    }\n",
       "</style>\n",
       "<table border=\"1\" class=\"dataframe\">\n",
       "  <thead>\n",
       "    <tr style=\"text-align: right;\">\n",
       "      <th></th>\n",
       "      <th>CreditorGroup</th>\n",
       "      <th>year</th>\n",
       "      <th>CreditorName_New</th>\n",
       "      <th>country_new</th>\n",
       "    </tr>\n",
       "  </thead>\n",
       "  <tbody>\n",
       "    <tr>\n",
       "      <th>count</th>\n",
       "      <td>4317</td>\n",
       "      <td>4317</td>\n",
       "      <td>4317</td>\n",
       "      <td>4317</td>\n",
       "    </tr>\n",
       "    <tr>\n",
       "      <th>unique</th>\n",
       "      <td>3</td>\n",
       "      <td>21</td>\n",
       "      <td>15</td>\n",
       "      <td>34</td>\n",
       "    </tr>\n",
       "    <tr>\n",
       "      <th>top</th>\n",
       "      <td>Multilateral</td>\n",
       "      <td>2017</td>\n",
       "      <td>WB-IDA</td>\n",
       "      <td>Other</td>\n",
       "    </tr>\n",
       "    <tr>\n",
       "      <th>freq</th>\n",
       "      <td>2697</td>\n",
       "      <td>303</td>\n",
       "      <td>1837</td>\n",
       "      <td>393</td>\n",
       "    </tr>\n",
       "  </tbody>\n",
       "</table>\n",
       "</div>"
      ],
      "text/plain": [
       "       CreditorGroup  year CreditorName_New country_new\n",
       "count           4317  4317             4317        4317\n",
       "unique             3    21               15          34\n",
       "top     Multilateral  2017           WB-IDA       Other\n",
       "freq            2697   303             1837         393"
      ]
     },
     "execution_count": 23,
     "metadata": {},
     "output_type": "execute_result"
    }
   ],
   "source": [
    "df.describe(include='object')"
   ]
  },
  {
   "cell_type": "code",
   "execution_count": 24,
   "metadata": {},
   "outputs": [
    {
     "name": "stdout",
     "output_type": "stream",
     "text": [
      "(4317, 8)\n"
     ]
    },
    {
     "data": {
      "text/html": [
       "<div>\n",
       "<style scoped>\n",
       "    .dataframe tbody tr th:only-of-type {\n",
       "        vertical-align: middle;\n",
       "    }\n",
       "\n",
       "    .dataframe tbody tr th {\n",
       "        vertical-align: top;\n",
       "    }\n",
       "\n",
       "    .dataframe thead th {\n",
       "        text-align: right;\n",
       "    }\n",
       "</style>\n",
       "<table border=\"1\" class=\"dataframe\">\n",
       "  <thead>\n",
       "    <tr style=\"text-align: right;\">\n",
       "      <th></th>\n",
       "      <th>CreditorGroup</th>\n",
       "      <th>year</th>\n",
       "      <th>Amount_musd</th>\n",
       "      <th>interest</th>\n",
       "      <th>maturity</th>\n",
       "      <th>grace</th>\n",
       "      <th>CreditorName_New</th>\n",
       "      <th>country_new</th>\n",
       "    </tr>\n",
       "  </thead>\n",
       "  <tbody>\n",
       "    <tr>\n",
       "      <th>5</th>\n",
       "      <td>Bilateral</td>\n",
       "      <td>2001</td>\n",
       "      <td>4</td>\n",
       "      <td>2.0</td>\n",
       "      <td>28.0</td>\n",
       "      <td>9.0</td>\n",
       "      <td>Other</td>\n",
       "      <td>Other</td>\n",
       "    </tr>\n",
       "    <tr>\n",
       "      <th>12</th>\n",
       "      <td>Bilateral</td>\n",
       "      <td>2002</td>\n",
       "      <td>5</td>\n",
       "      <td>0.4</td>\n",
       "      <td>31.0</td>\n",
       "      <td>11.0</td>\n",
       "      <td>France</td>\n",
       "      <td>Other</td>\n",
       "    </tr>\n",
       "    <tr>\n",
       "      <th>13</th>\n",
       "      <td>Bilateral</td>\n",
       "      <td>2002</td>\n",
       "      <td>27</td>\n",
       "      <td>1.0</td>\n",
       "      <td>25.0</td>\n",
       "      <td>10.0</td>\n",
       "      <td>Other</td>\n",
       "      <td>Other</td>\n",
       "    </tr>\n",
       "    <tr>\n",
       "      <th>16</th>\n",
       "      <td>Bilateral</td>\n",
       "      <td>2002</td>\n",
       "      <td>62</td>\n",
       "      <td>1.5</td>\n",
       "      <td>20.0</td>\n",
       "      <td>9.0</td>\n",
       "      <td>Spain</td>\n",
       "      <td>Other</td>\n",
       "    </tr>\n",
       "    <tr>\n",
       "      <th>21</th>\n",
       "      <td>Bilateral</td>\n",
       "      <td>2003</td>\n",
       "      <td>45</td>\n",
       "      <td>3.5</td>\n",
       "      <td>10.0</td>\n",
       "      <td>4.0</td>\n",
       "      <td>France</td>\n",
       "      <td>Other</td>\n",
       "    </tr>\n",
       "  </tbody>\n",
       "</table>\n",
       "</div>"
      ],
      "text/plain": [
       "   CreditorGroup  year  Amount_musd  interest  maturity  grace  \\\n",
       "5      Bilateral  2001            4       2.0      28.0    9.0   \n",
       "12     Bilateral  2002            5       0.4      31.0   11.0   \n",
       "13     Bilateral  2002           27       1.0      25.0   10.0   \n",
       "16     Bilateral  2002           62       1.5      20.0    9.0   \n",
       "21     Bilateral  2003           45       3.5      10.0    4.0   \n",
       "\n",
       "   CreditorName_New country_new  \n",
       "5             Other       Other  \n",
       "12           France       Other  \n",
       "13            Other       Other  \n",
       "16            Spain       Other  \n",
       "21           France       Other  "
      ]
     },
     "execution_count": 24,
     "metadata": {},
     "output_type": "execute_result"
    }
   ],
   "source": [
    "print(df.shape)\n",
    "df.head(5)"
   ]
  },
  {
   "attachments": {},
   "cell_type": "markdown",
   "metadata": {},
   "source": [
    "We have 4317 rows of instances, 7 columns of features and 1 target column"
   ]
  },
  {
   "attachments": {},
   "cell_type": "markdown",
   "metadata": {},
   "source": [
    "## Setup ML Experiment"
   ]
  },
  {
   "attachments": {},
   "cell_type": "markdown",
   "metadata": {},
   "source": [
    "The goal is to predict the interest rates for African countries loans based on features"
   ]
  },
  {
   "attachments": {},
   "cell_type": "markdown",
   "metadata": {},
   "source": [
    "Remove target column 'interest' from the dataset and create 'target' variable:"
   ]
  },
  {
   "cell_type": "code",
   "execution_count": 25,
   "metadata": {},
   "outputs": [],
   "source": [
    "target = df.loc[:, [\"interest\"]]\n",
    "data = df.drop(\"interest\", axis=1)"
   ]
  },
  {
   "attachments": {},
   "cell_type": "markdown",
   "metadata": {},
   "source": [
    "We will convert categorical variables into a numerical representation by using \"pd.get_dummies()\" function. It creates a new DataFrame with binary columns for each unique value in the categorical variable. Each column represents one unique value, and the values in the column are either 0 or 1, indicating the absence or presence of that value in the original variable. By creating these binary columns, we preserve the information about the categories while enabling the machine learning algorithm to operate on the data - one-hot encoding."
   ]
  },
  {
   "cell_type": "code",
   "execution_count": 26,
   "metadata": {},
   "outputs": [
    {
     "name": "stdout",
     "output_type": "stream",
     "text": [
      "(4317, 72)\n"
     ]
    }
   ],
   "source": [
    "warnings.filterwarnings('ignore') #Ignoring warnings\n",
    "df_dummified=pd.get_dummies(data, drop_first=True)\n",
    "print(df_dummified.shape)\n",
    "df_dummified.head(5)\n",
    "warnings.filterwarnings('default') #Returning warnings"
   ]
  },
  {
   "attachments": {},
   "cell_type": "markdown",
   "metadata": {},
   "source": [
    "\"drop_first=True\" parameter is set to True, indicating that the function should drop the first category for each categorical variable. By default, pd.get_dummies() creates dummy variables for all unique values in a categorical variable. Dropping the first category helps avoid ulticollinearity, a situation where one category can be predicted perfectly from the others."
   ]
  },
  {
   "cell_type": "code",
   "execution_count": 27,
   "metadata": {},
   "outputs": [
    {
     "data": {
      "text/html": [
       "<div>\n",
       "<style scoped>\n",
       "    .dataframe tbody tr th:only-of-type {\n",
       "        vertical-align: middle;\n",
       "    }\n",
       "\n",
       "    .dataframe tbody tr th {\n",
       "        vertical-align: top;\n",
       "    }\n",
       "\n",
       "    .dataframe thead th {\n",
       "        text-align: right;\n",
       "    }\n",
       "</style>\n",
       "<table border=\"1\" class=\"dataframe\">\n",
       "  <thead>\n",
       "    <tr style=\"text-align: right;\">\n",
       "      <th></th>\n",
       "      <th>Amount_musd</th>\n",
       "      <th>maturity</th>\n",
       "      <th>grace</th>\n",
       "      <th>CreditorGroup_Multilateral</th>\n",
       "      <th>CreditorGroup_Private</th>\n",
       "      <th>year_2001</th>\n",
       "      <th>year_2002</th>\n",
       "      <th>year_2003</th>\n",
       "      <th>year_2004</th>\n",
       "      <th>year_2005</th>\n",
       "      <th>...</th>\n",
       "      <th>country_new_Other</th>\n",
       "      <th>country_new_Rwanda</th>\n",
       "      <th>country_new_Senegal</th>\n",
       "      <th>country_new_Sierra Leone</th>\n",
       "      <th>country_new_South Africa</th>\n",
       "      <th>country_new_Sudan</th>\n",
       "      <th>country_new_Tanzania</th>\n",
       "      <th>country_new_Tunisia</th>\n",
       "      <th>country_new_Uganda</th>\n",
       "      <th>country_new_Zambia</th>\n",
       "    </tr>\n",
       "  </thead>\n",
       "  <tbody>\n",
       "    <tr>\n",
       "      <th>count</th>\n",
       "      <td>4317.000000</td>\n",
       "      <td>4317.000000</td>\n",
       "      <td>4317.000000</td>\n",
       "      <td>4317.000000</td>\n",
       "      <td>4317.000000</td>\n",
       "      <td>4317.000000</td>\n",
       "      <td>4317.000000</td>\n",
       "      <td>4317.000000</td>\n",
       "      <td>4317.000000</td>\n",
       "      <td>4317.000000</td>\n",
       "      <td>...</td>\n",
       "      <td>4317.000000</td>\n",
       "      <td>4317.000000</td>\n",
       "      <td>4317.000000</td>\n",
       "      <td>4317.000000</td>\n",
       "      <td>4317.000000</td>\n",
       "      <td>4317.000000</td>\n",
       "      <td>4317.000000</td>\n",
       "      <td>4317.000000</td>\n",
       "      <td>4317.000000</td>\n",
       "      <td>4317.000000</td>\n",
       "    </tr>\n",
       "    <tr>\n",
       "      <th>mean</th>\n",
       "      <td>106.207320</td>\n",
       "      <td>26.303461</td>\n",
       "      <td>7.733693</td>\n",
       "      <td>0.624739</td>\n",
       "      <td>0.042854</td>\n",
       "      <td>0.044244</td>\n",
       "      <td>0.035905</td>\n",
       "      <td>0.031735</td>\n",
       "      <td>0.023859</td>\n",
       "      <td>0.037063</td>\n",
       "      <td>...</td>\n",
       "      <td>0.091035</td>\n",
       "      <td>0.023396</td>\n",
       "      <td>0.045634</td>\n",
       "      <td>0.017373</td>\n",
       "      <td>0.016215</td>\n",
       "      <td>0.010656</td>\n",
       "      <td>0.044939</td>\n",
       "      <td>0.042159</td>\n",
       "      <td>0.032198</td>\n",
       "      <td>0.026407</td>\n",
       "    </tr>\n",
       "    <tr>\n",
       "      <th>std</th>\n",
       "      <td>264.166543</td>\n",
       "      <td>9.729305</td>\n",
       "      <td>3.536621</td>\n",
       "      <td>0.484246</td>\n",
       "      <td>0.202551</td>\n",
       "      <td>0.205660</td>\n",
       "      <td>0.186074</td>\n",
       "      <td>0.175314</td>\n",
       "      <td>0.152628</td>\n",
       "      <td>0.188938</td>\n",
       "      <td>...</td>\n",
       "      <td>0.287693</td>\n",
       "      <td>0.151175</td>\n",
       "      <td>0.208713</td>\n",
       "      <td>0.130673</td>\n",
       "      <td>0.126316</td>\n",
       "      <td>0.102686</td>\n",
       "      <td>0.207193</td>\n",
       "      <td>0.200975</td>\n",
       "      <td>0.176547</td>\n",
       "      <td>0.160362</td>\n",
       "    </tr>\n",
       "    <tr>\n",
       "      <th>min</th>\n",
       "      <td>0.000000</td>\n",
       "      <td>0.000000</td>\n",
       "      <td>0.000000</td>\n",
       "      <td>0.000000</td>\n",
       "      <td>0.000000</td>\n",
       "      <td>0.000000</td>\n",
       "      <td>0.000000</td>\n",
       "      <td>0.000000</td>\n",
       "      <td>0.000000</td>\n",
       "      <td>0.000000</td>\n",
       "      <td>...</td>\n",
       "      <td>0.000000</td>\n",
       "      <td>0.000000</td>\n",
       "      <td>0.000000</td>\n",
       "      <td>0.000000</td>\n",
       "      <td>0.000000</td>\n",
       "      <td>0.000000</td>\n",
       "      <td>0.000000</td>\n",
       "      <td>0.000000</td>\n",
       "      <td>0.000000</td>\n",
       "      <td>0.000000</td>\n",
       "    </tr>\n",
       "    <tr>\n",
       "      <th>25%</th>\n",
       "      <td>14.000000</td>\n",
       "      <td>20.000000</td>\n",
       "      <td>5.000000</td>\n",
       "      <td>0.000000</td>\n",
       "      <td>0.000000</td>\n",
       "      <td>0.000000</td>\n",
       "      <td>0.000000</td>\n",
       "      <td>0.000000</td>\n",
       "      <td>0.000000</td>\n",
       "      <td>0.000000</td>\n",
       "      <td>...</td>\n",
       "      <td>0.000000</td>\n",
       "      <td>0.000000</td>\n",
       "      <td>0.000000</td>\n",
       "      <td>0.000000</td>\n",
       "      <td>0.000000</td>\n",
       "      <td>0.000000</td>\n",
       "      <td>0.000000</td>\n",
       "      <td>0.000000</td>\n",
       "      <td>0.000000</td>\n",
       "      <td>0.000000</td>\n",
       "    </tr>\n",
       "    <tr>\n",
       "      <th>50%</th>\n",
       "      <td>35.000000</td>\n",
       "      <td>29.500000</td>\n",
       "      <td>7.000000</td>\n",
       "      <td>1.000000</td>\n",
       "      <td>0.000000</td>\n",
       "      <td>0.000000</td>\n",
       "      <td>0.000000</td>\n",
       "      <td>0.000000</td>\n",
       "      <td>0.000000</td>\n",
       "      <td>0.000000</td>\n",
       "      <td>...</td>\n",
       "      <td>0.000000</td>\n",
       "      <td>0.000000</td>\n",
       "      <td>0.000000</td>\n",
       "      <td>0.000000</td>\n",
       "      <td>0.000000</td>\n",
       "      <td>0.000000</td>\n",
       "      <td>0.000000</td>\n",
       "      <td>0.000000</td>\n",
       "      <td>0.000000</td>\n",
       "      <td>0.000000</td>\n",
       "    </tr>\n",
       "    <tr>\n",
       "      <th>75%</th>\n",
       "      <td>88.000000</td>\n",
       "      <td>30.019178</td>\n",
       "      <td>9.980769</td>\n",
       "      <td>1.000000</td>\n",
       "      <td>0.000000</td>\n",
       "      <td>0.000000</td>\n",
       "      <td>0.000000</td>\n",
       "      <td>0.000000</td>\n",
       "      <td>0.000000</td>\n",
       "      <td>0.000000</td>\n",
       "      <td>...</td>\n",
       "      <td>0.000000</td>\n",
       "      <td>0.000000</td>\n",
       "      <td>0.000000</td>\n",
       "      <td>0.000000</td>\n",
       "      <td>0.000000</td>\n",
       "      <td>0.000000</td>\n",
       "      <td>0.000000</td>\n",
       "      <td>0.000000</td>\n",
       "      <td>0.000000</td>\n",
       "      <td>0.000000</td>\n",
       "    </tr>\n",
       "    <tr>\n",
       "      <th>max</th>\n",
       "      <td>5156.000000</td>\n",
       "      <td>53.000000</td>\n",
       "      <td>40.027397</td>\n",
       "      <td>1.000000</td>\n",
       "      <td>1.000000</td>\n",
       "      <td>1.000000</td>\n",
       "      <td>1.000000</td>\n",
       "      <td>1.000000</td>\n",
       "      <td>1.000000</td>\n",
       "      <td>1.000000</td>\n",
       "      <td>...</td>\n",
       "      <td>1.000000</td>\n",
       "      <td>1.000000</td>\n",
       "      <td>1.000000</td>\n",
       "      <td>1.000000</td>\n",
       "      <td>1.000000</td>\n",
       "      <td>1.000000</td>\n",
       "      <td>1.000000</td>\n",
       "      <td>1.000000</td>\n",
       "      <td>1.000000</td>\n",
       "      <td>1.000000</td>\n",
       "    </tr>\n",
       "  </tbody>\n",
       "</table>\n",
       "<p>8 rows × 72 columns</p>\n",
       "</div>"
      ],
      "text/plain": [
       "       Amount_musd     maturity        grace  CreditorGroup_Multilateral  \\\n",
       "count  4317.000000  4317.000000  4317.000000                 4317.000000   \n",
       "mean    106.207320    26.303461     7.733693                    0.624739   \n",
       "std     264.166543     9.729305     3.536621                    0.484246   \n",
       "min       0.000000     0.000000     0.000000                    0.000000   \n",
       "25%      14.000000    20.000000     5.000000                    0.000000   \n",
       "50%      35.000000    29.500000     7.000000                    1.000000   \n",
       "75%      88.000000    30.019178     9.980769                    1.000000   \n",
       "max    5156.000000    53.000000    40.027397                    1.000000   \n",
       "\n",
       "       CreditorGroup_Private    year_2001    year_2002    year_2003  \\\n",
       "count            4317.000000  4317.000000  4317.000000  4317.000000   \n",
       "mean                0.042854     0.044244     0.035905     0.031735   \n",
       "std                 0.202551     0.205660     0.186074     0.175314   \n",
       "min                 0.000000     0.000000     0.000000     0.000000   \n",
       "25%                 0.000000     0.000000     0.000000     0.000000   \n",
       "50%                 0.000000     0.000000     0.000000     0.000000   \n",
       "75%                 0.000000     0.000000     0.000000     0.000000   \n",
       "max                 1.000000     1.000000     1.000000     1.000000   \n",
       "\n",
       "         year_2004    year_2005  ...  country_new_Other  country_new_Rwanda  \\\n",
       "count  4317.000000  4317.000000  ...        4317.000000         4317.000000   \n",
       "mean      0.023859     0.037063  ...           0.091035            0.023396   \n",
       "std       0.152628     0.188938  ...           0.287693            0.151175   \n",
       "min       0.000000     0.000000  ...           0.000000            0.000000   \n",
       "25%       0.000000     0.000000  ...           0.000000            0.000000   \n",
       "50%       0.000000     0.000000  ...           0.000000            0.000000   \n",
       "75%       0.000000     0.000000  ...           0.000000            0.000000   \n",
       "max       1.000000     1.000000  ...           1.000000            1.000000   \n",
       "\n",
       "       country_new_Senegal  country_new_Sierra Leone  \\\n",
       "count          4317.000000               4317.000000   \n",
       "mean              0.045634                  0.017373   \n",
       "std               0.208713                  0.130673   \n",
       "min               0.000000                  0.000000   \n",
       "25%               0.000000                  0.000000   \n",
       "50%               0.000000                  0.000000   \n",
       "75%               0.000000                  0.000000   \n",
       "max               1.000000                  1.000000   \n",
       "\n",
       "       country_new_South Africa  country_new_Sudan  country_new_Tanzania  \\\n",
       "count               4317.000000        4317.000000           4317.000000   \n",
       "mean                   0.016215           0.010656              0.044939   \n",
       "std                    0.126316           0.102686              0.207193   \n",
       "min                    0.000000           0.000000              0.000000   \n",
       "25%                    0.000000           0.000000              0.000000   \n",
       "50%                    0.000000           0.000000              0.000000   \n",
       "75%                    0.000000           0.000000              0.000000   \n",
       "max                    1.000000           1.000000              1.000000   \n",
       "\n",
       "       country_new_Tunisia  country_new_Uganda  country_new_Zambia  \n",
       "count          4317.000000         4317.000000         4317.000000  \n",
       "mean              0.042159            0.032198            0.026407  \n",
       "std               0.200975            0.176547            0.160362  \n",
       "min               0.000000            0.000000            0.000000  \n",
       "25%               0.000000            0.000000            0.000000  \n",
       "50%               0.000000            0.000000            0.000000  \n",
       "75%               0.000000            0.000000            0.000000  \n",
       "max               1.000000            1.000000            1.000000  \n",
       "\n",
       "[8 rows x 72 columns]"
      ]
     },
     "execution_count": 27,
     "metadata": {},
     "output_type": "execute_result"
    }
   ],
   "source": [
    "df_dummified.describe()"
   ]
  },
  {
   "cell_type": "code",
   "execution_count": 28,
   "metadata": {},
   "outputs": [
    {
     "data": {
      "text/plain": [
       "(4317, 72)"
      ]
     },
     "execution_count": 28,
     "metadata": {},
     "output_type": "execute_result"
    }
   ],
   "source": [
    "df_dummified.shape"
   ]
  },
  {
   "attachments": {},
   "cell_type": "markdown",
   "metadata": {},
   "source": [
    "After dummification we have 52 columns with features"
   ]
  },
  {
   "attachments": {},
   "cell_type": "markdown",
   "metadata": {},
   "source": [
    "Now we can explore correlation between target value ('interest') and each feature:"
   ]
  },
  {
   "cell_type": "code",
   "execution_count": 29,
   "metadata": {},
   "outputs": [],
   "source": [
    "correlation_df = pd.DataFrame(columns=['Column', 'Correlation', 'p-value'])\n",
    "\n",
    "for c in range(df_dummified.shape[1]):\n",
    "    correlation, p_value = pearsonr(target.squeeze(), df_dummified.iloc[:, c])\n",
    "    correlation_df.loc[c] = [df_dummified.columns[c], correlation, p_value]\n",
    "\n",
    "positive = correlation_df.sort_values(by='Correlation', ascending=False).head(5)\n",
    "negative = correlation_df.sort_values(by='Correlation', ascending=True).head(5)"
   ]
  },
  {
   "attachments": {},
   "cell_type": "markdown",
   "metadata": {},
   "source": [
    "Top 5 positive correlations:"
   ]
  },
  {
   "cell_type": "code",
   "execution_count": 30,
   "metadata": {},
   "outputs": [
    {
     "name": "stdout",
     "output_type": "stream",
     "text": [
      "                          Column  Correlation        p-value\n",
      "4          CreditorGroup_Private     0.614112   0.000000e+00\n",
      "25  CreditorName_New_Bondholders     0.583253   0.000000e+00\n",
      "0                    Amount_musd     0.390758  1.741215e-157\n",
      "26        CreditorName_New_China     0.273112   1.029201e-74\n",
      "66      country_new_South Africa     0.209499   5.093534e-44\n"
     ]
    }
   ],
   "source": [
    "print(positive)"
   ]
  },
  {
   "attachments": {},
   "cell_type": "markdown",
   "metadata": {},
   "source": [
    "We can see positive correlation between interest rates and Private creditors group and Bondholders creditor's name (p-value are small, which means it is not just a coincidence), also with large loan amount correlate with larger interest rates. We have already seen these patterns"
   ]
  },
  {
   "attachments": {},
   "cell_type": "markdown",
   "metadata": {},
   "source": [
    "Top 5 negative correlations:"
   ]
  },
  {
   "cell_type": "code",
   "execution_count": 31,
   "metadata": {},
   "outputs": [
    {
     "name": "stdout",
     "output_type": "stream",
     "text": [
      "                        Column  Correlation        p-value\n",
      "3   CreditorGroup_Multilateral    -0.477917  2.802366e-245\n",
      "1                     maturity    -0.469734  6.679156e-236\n",
      "38     CreditorName_New_WB-IDA    -0.351192  1.587910e-125\n",
      "2                        grace    -0.102147   1.730471e-11\n",
      "31        CreditorName_New_IMF    -0.089261   4.232657e-09\n"
     ]
    }
   ],
   "source": [
    "print(negative)"
   ]
  },
  {
   "attachments": {},
   "cell_type": "markdown",
   "metadata": {},
   "source": [
    "For multirateral creditor groups, World Bank loans (WB-IDA) and longer maturity the interest rates are lower"
   ]
  },
  {
   "attachments": {},
   "cell_type": "markdown",
   "metadata": {},
   "source": [
    "The plot shows the correlation between maturity and interest rates:"
   ]
  },
  {
   "cell_type": "code",
   "execution_count": 32,
   "metadata": {},
   "outputs": [
    {
     "data": {
      "text/plain": [
       "<matplotlib.collections.PathCollection at 0x2e133adfa10>"
      ]
     },
     "execution_count": 32,
     "metadata": {},
     "output_type": "execute_result"
    },
    {
     "data": {
      "image/png": "[encoded data removed]",
      "text/plain": [
       "<Figure size 640x480 with 1 Axes>"
      ]
     },
     "metadata": {},
     "output_type": "display_data"
    }
   ],
   "source": [
    "plt.scatter(df_dummified.maturity, target)"
   ]
  },
  {
   "attachments": {},
   "cell_type": "markdown",
   "metadata": {},
   "source": [
    "There is a negative correlation between maturity of the loans and target interest rates: longe the loan lower the interest rates. Pearson correlation coefficient between maturity and interests is -0.47, with pvalue=6.67e-236 (lower than 0.05)."
   ]
  },
  {
   "attachments": {},
   "cell_type": "markdown",
   "metadata": {},
   "source": [
    "### Split dataset into Test and Training Data"
   ]
  },
  {
   "attachments": {},
   "cell_type": "markdown",
   "metadata": {},
   "source": [
    "Split the dataset into the train (60%) and test (40%):"
   ]
  },
  {
   "cell_type": "code",
   "execution_count": 33,
   "metadata": {},
   "outputs": [],
   "source": [
    "X_train, X_test, y_train, y_test = train_test_split(df_dummified, target, test_size=0.4, shuffle=True, random_state=42)"
   ]
  },
  {
   "cell_type": "code",
   "execution_count": 34,
   "metadata": {},
   "outputs": [
    {
     "name": "stdout",
     "output_type": "stream",
     "text": [
      "(2590, 72)\n",
      "(1727, 72)\n",
      "(2590, 1)\n",
      "(1727, 1)\n"
     ]
    }
   ],
   "source": [
    "for i in (X_train, X_test, y_train, y_test):\n",
    "    print(i.shape)"
   ]
  },
  {
   "attachments": {},
   "cell_type": "markdown",
   "metadata": {},
   "source": [
    "Scale the data\n",
    "\n",
    "Scaling is important because the features are multiplied by the model weights. So, the scale of the outputs and the scale of the gradients are affected by the scale of the inputs. Although a model might converge without feature normalization, normalization makes training much more stable."
   ]
  },
  {
   "cell_type": "code",
   "execution_count": 35,
   "metadata": {},
   "outputs": [],
   "source": [
    "x_scaler = MinMaxScaler()\n",
    "y_scaler = MinMaxScaler()"
   ]
  },
  {
   "cell_type": "code",
   "execution_count": 36,
   "metadata": {},
   "outputs": [],
   "source": [
    "X_train_sc = x_scaler.fit_transform(X_train)\n",
    "X_test_sc = x_scaler.transform(X_test)\n",
    "y_train_sc=y_scaler.fit_transform(y_train)\n",
    "y_test_sc=y_scaler.transform(y_test)"
   ]
  },
  {
   "attachments": {},
   "cell_type": "markdown",
   "metadata": {},
   "source": [
    "Create Tensors for PyTorch"
   ]
  },
  {
   "cell_type": "code",
   "execution_count": 37,
   "metadata": {},
   "outputs": [],
   "source": [
    "X_train_tensor=torch.Tensor(X_train_sc)\n",
    "X_test_tensor=torch.Tensor(X_test_sc)\n",
    "y_train_tensor=torch.Tensor(y_train_sc)\n",
    "y_test_tensor=torch.Tensor(y_test_sc)"
   ]
  },
  {
   "attachments": {},
   "cell_type": "markdown",
   "metadata": {},
   "source": [
    "## Creating Evaluation metrics and Baselines"
   ]
  },
  {
   "attachments": {},
   "cell_type": "markdown",
   "metadata": {},
   "source": [
    "For regression problems, we never expect the model to predict the values perfectly. Therefore, you need to care about how close the prediction is to the actual value. The loss metrics that can be used for this are the mean square error (MSE), mean absolute error (MAE), mean absolute percentage error (MAPE).\n",
    "* **Mean absolute error (MAE)** - the mean difference between each of the predictions.\n",
    "* **Mean squared error (MSE)** - the squared mean difference between of the predictions (use if larger errors are more detrimental than smaller errors).\n",
    "* **Mean absolute percentage error (MAPE)** - the most common measure used to forecast error, probably because the variable’s units are scaled to percentage units, which makes it easier to understand.\n",
    "\n",
    "The lower each of these values, the better."
   ]
  },
  {
   "cell_type": "code",
   "execution_count": 38,
   "metadata": {},
   "outputs": [],
   "source": [
    "results = pd.DataFrame()\n",
    "\n",
    "def add_eval(results, algorithm, y_train, y_train_pred, y_test, y_test_pred):\n",
    "    for dataset, actual, predicted in zip((\"train\", \"test\"), (y_train, y_test), (y_train_pred, y_test_pred)):\n",
    "        results= pd.concat([results, pd.DataFrame([{\n",
    "            \"algorithm\": algorithm, \n",
    "            \"dataset\": dataset,\n",
    "            \"MSE\": round(mean_squared_error(actual, predicted),5),\n",
    "            \"MAE\": round(mean_squared_error(actual, predicted, squared=False),5),\n",
    "            \"MAPE\": round(mean_absolute_percentage_error(actual, predicted),5)\n",
    "        }])], ignore_index=True)   \n",
    "    return results"
   ]
  },
  {
   "attachments": {},
   "cell_type": "markdown",
   "metadata": {},
   "source": [
    "### Mean\n",
    "\n",
    "A regular mean is the first baseline measure"
   ]
  },
  {
   "cell_type": "code",
   "execution_count": 39,
   "metadata": {},
   "outputs": [],
   "source": [
    "y_train_mean=y_train.interest.mean()\n",
    "y_test_mean=y_test.interest.mean()\n",
    "\n",
    "y_train_const=np.ones_like(y_train)* y_train_mean\n",
    "y_test_const=np.ones_like(y_test)* y_test_mean\n",
    "\n",
    "results = add_eval(results, \"Mean_baseline\", y_train, y_train_const, y_test, y_test_const)"
   ]
  },
  {
   "attachments": {},
   "cell_type": "markdown",
   "metadata": {},
   "source": [
    "### Linear Regression\n",
    "\n",
    "For the baseline we will use ordinary least squares Linear Regression. LinearRegression fits a linear model with coefficients  to minimize the residual sum of squares between the observed targets in the dataset, and the targets predicted by the linear approximation."
   ]
  },
  {
   "cell_type": "code",
   "execution_count": 40,
   "metadata": {},
   "outputs": [],
   "source": [
    "clf = LinearRegression()\n",
    "clf.fit(X_train_sc, y_train_sc)\n",
    "y_train_lin_pred=y_scaler.inverse_transform(clf.predict(X_train_sc))\n",
    "y_test_lin_pred=y_scaler.inverse_transform(clf.predict(X_test_sc))\n",
    "results = add_eval(results, \"LR_baseline\", y_train, y_train_lin_pred, y_test, y_test_lin_pred)"
   ]
  },
  {
   "attachments": {},
   "cell_type": "markdown",
   "metadata": {},
   "source": [
    "Linear Regression stores the coefficients of the linear model in its coef_ member:"
   ]
  },
  {
   "cell_type": "code",
   "execution_count": 41,
   "metadata": {},
   "outputs": [
    {
     "name": "stdout",
     "output_type": "stream",
     "text": [
      "(1, 72)\n"
     ]
    }
   ],
   "source": [
    "print(clf.coef_.shape)"
   ]
  },
  {
   "attachments": {},
   "cell_type": "markdown",
   "metadata": {},
   "source": [
    "In total 52 coefficients, each for every feature"
   ]
  },
  {
   "attachments": {},
   "cell_type": "markdown",
   "metadata": {},
   "source": [
    "R2 (coefficient of determination) regression score function. An R2 of 1.0 indicates that the data perfectly fit the linear model. Any R2 value less than 1.0 indicates that at least some variability in the data cannot be accounted for by the model (e.g., an R2 of 0.60 indicates that 40% of the variability in the outcome data cannot be explained by the model). \n",
    "\n",
    "Generally, an R-Squared above 0.6 makes a model worth your attention. If we wish to label the strength of the association, for absolute values of r, 0-0.19 is regarded as very weak, 0.2-0.39 as weak, 0.40-0.59 as moderate, 0.6-0.79 as strong and 0.8-1 as very strong correlation, but these are rather arbitrary limits, and the context of the results should be considered."
   ]
  },
  {
   "cell_type": "code",
   "execution_count": 42,
   "metadata": {},
   "outputs": [
    {
     "data": {
      "text/plain": [
       "0.6126011258164987"
      ]
     },
     "execution_count": 42,
     "metadata": {},
     "output_type": "execute_result"
    }
   ],
   "source": [
    "r2_score(y_test, y_test_lin_pred)"
   ]
  },
  {
   "attachments": {},
   "cell_type": "markdown",
   "metadata": {},
   "source": [
    "R2 score of 0.61 means a strong correlation"
   ]
  },
  {
   "cell_type": "code",
   "execution_count": 43,
   "metadata": {},
   "outputs": [
    {
     "data": {
      "text/html": [
       "<div>\n",
       "<style scoped>\n",
       "    .dataframe tbody tr th:only-of-type {\n",
       "        vertical-align: middle;\n",
       "    }\n",
       "\n",
       "    .dataframe tbody tr th {\n",
       "        vertical-align: top;\n",
       "    }\n",
       "\n",
       "    .dataframe thead th {\n",
       "        text-align: right;\n",
       "    }\n",
       "</style>\n",
       "<table border=\"1\" class=\"dataframe\">\n",
       "  <thead>\n",
       "    <tr style=\"text-align: right;\">\n",
       "      <th></th>\n",
       "      <th>algorithm</th>\n",
       "      <th>dataset</th>\n",
       "      <th>MSE</th>\n",
       "      <th>MAE</th>\n",
       "      <th>MAPE</th>\n",
       "    </tr>\n",
       "  </thead>\n",
       "  <tbody>\n",
       "    <tr>\n",
       "      <th>0</th>\n",
       "      <td>Mean_baseline</td>\n",
       "      <td>train</td>\n",
       "      <td>2.24988</td>\n",
       "      <td>1.49996</td>\n",
       "      <td>1.07217</td>\n",
       "    </tr>\n",
       "    <tr>\n",
       "      <th>1</th>\n",
       "      <td>Mean_baseline</td>\n",
       "      <td>test</td>\n",
       "      <td>1.92293</td>\n",
       "      <td>1.38670</td>\n",
       "      <td>0.94593</td>\n",
       "    </tr>\n",
       "    <tr>\n",
       "      <th>2</th>\n",
       "      <td>LR_baseline</td>\n",
       "      <td>train</td>\n",
       "      <td>0.78620</td>\n",
       "      <td>0.88668</td>\n",
       "      <td>0.60351</td>\n",
       "    </tr>\n",
       "    <tr>\n",
       "      <th>3</th>\n",
       "      <td>LR_baseline</td>\n",
       "      <td>test</td>\n",
       "      <td>0.74494</td>\n",
       "      <td>0.86310</td>\n",
       "      <td>0.57113</td>\n",
       "    </tr>\n",
       "  </tbody>\n",
       "</table>\n",
       "</div>"
      ],
      "text/plain": [
       "       algorithm dataset      MSE      MAE     MAPE\n",
       "0  Mean_baseline   train  2.24988  1.49996  1.07217\n",
       "1  Mean_baseline    test  1.92293  1.38670  0.94593\n",
       "2    LR_baseline   train  0.78620  0.88668  0.60351\n",
       "3    LR_baseline    test  0.74494  0.86310  0.57113"
      ]
     },
     "execution_count": 43,
     "metadata": {},
     "output_type": "execute_result"
    }
   ],
   "source": [
    "results"
   ]
  },
  {
   "attachments": {},
   "cell_type": "markdown",
   "metadata": {},
   "source": [
    "We created metrics and baseline 'models' to evaluate neural networks"
   ]
  },
  {
   "attachments": {},
   "cell_type": "markdown",
   "metadata": {},
   "source": [
    "## Deep Learning Experiments"
   ]
  },
  {
   "attachments": {},
   "cell_type": "markdown",
   "metadata": {},
   "source": [
    "We will conduct DL experiments with following neural network architectures:\n",
    "\n",
    "* SimpleNet. The simplest model consists just of linear layers\n",
    "* Multi-Layer Perceptrons (MLPs) also known as Feedforward Neural Networks (FNNs). MLPs consist of an input layer, one or more hidden layers, and an output layer. MLPs can be used for regression tasks by adjusting the activation function in the output layer.\n",
    "* MLP with Dropout layer - to the previous model we will add one dropout layer, to reduce overfitting\n",
    "\n",
    "We will perform some experiments in order to find the optimal value of the parameter for the dropout layer.\n",
    "\n",
    "And in order to reduce the influence of randomness factor we will conduct an experiment with cross validation"
   ]
  },
  {
   "attachments": {},
   "cell_type": "markdown",
   "metadata": {},
   "source": [
    "### SimpleNet model"
   ]
  },
  {
   "attachments": {},
   "cell_type": "markdown",
   "metadata": {},
   "source": [
    "Let’s try the traditional design of a neural network - the pyramid structure. A pyramid structure is to have the number of neurons in each layer decreasing as the network progresses to the output. The number of input features is fixed, but you set a large number of neurons on the first hidden layer and gradually reduce the number in the subsequent layers. Because you have only one target in this dataset, the final layer should output only one value.\n",
    "\n",
    "The first nn consists only of Linear layers"
   ]
  },
  {
   "cell_type": "code",
   "execution_count": 44,
   "metadata": {},
   "outputs": [],
   "source": [
    "class SimpleNet(nn.Module):\n",
    "    def __init__(self, input_size):\n",
    "        super().__init__()\n",
    "        self.linear1 = nn.Linear(input_size, 32)\n",
    "        self.output = nn.Linear(32,1)\n",
    "    \n",
    "    def forward(self, x):\n",
    "        x = self.linear1(x)\n",
    "\n",
    "        return self.output(x)"
   ]
  },
  {
   "attachments": {},
   "cell_type": "markdown",
   "metadata": {},
   "source": [
    "Function for counting the number of trainable parameters of model:"
   ]
  },
  {
   "cell_type": "code",
   "execution_count": 45,
   "metadata": {},
   "outputs": [],
   "source": [
    "def count_params(model):\n",
    "    return sum(p.numel() for p in model.parameters() if p.requires_grad)"
   ]
  },
  {
   "attachments": {},
   "cell_type": "markdown",
   "metadata": {},
   "source": [
    "To train this network, you need to define a loss function and an optimizer.\n",
    "\n",
    "The Mean Squared Error loss **torch.nn.MSELoss()** function is a commonly used criterion in deep learning tasks. It measures the discrepancy between predicted and target values, by using squared differences, it penalizes larger errors more heavily than smaller errors. This makes it suitable for regression problems, where the goal is to minimize the difference between predicted and target values. The value of the MSELoss can serve as a quantitative measure of the error between predictions and targets. Comparing the loss across different models or during the training process can help assess the model's performance and determine if it is improving or not.\n",
    "\n",
    "We will use **torch.optim.Adam()** as an optimizer. Adam automatically adapts the learning rate for each parameter based on the magnitude of its gradients. It calculates individual learning rates for each parameter, which helps the model converge faster and more effectively. Adam combines the benefits of two other popular optimization algorithms, namely, AdaGrad and RMSProp. Adam performs well in high-dimensional parameter spaces. Adam has default hyperparameter values that work well in a wide range of scenarios. In many cases, these default values provide satisfactory performance, reducing the need for extensive manual hyperparameter tuning. Adam can converge to different scales of parameters effectively."
   ]
  },
  {
   "attachments": {},
   "cell_type": "markdown",
   "metadata": {},
   "source": [
    "Let's train the SimpleNet model:"
   ]
  },
  {
   "cell_type": "code",
   "execution_count": 46,
   "metadata": {},
   "outputs": [
    {
     "name": "stdout",
     "output_type": "stream",
     "text": [
      "Epoch: 99, train_loss: 0.00622, test_loss: 0.00573\n",
      "Epoch: 199, train_loss: 0.00581, test_loss: 0.00549\n",
      "Epoch: 299, train_loss: 0.00575, test_loss: 0.00545\n",
      "Epoch: 399, train_loss: 0.00574, test_loss: 0.00544\n",
      "Epoch: 499, train_loss: 0.00574, test_loss: 0.00544\n",
      "Epoch: 599, train_loss: 0.00574, test_loss: 0.00544\n"
     ]
    }
   ],
   "source": [
    "torch.manual_seed(42) #for reproducability\n",
    "criterion = torch.nn.MSELoss()\n",
    "learning_rate=0.01\n",
    "epochs=600\n",
    "\n",
    "model=SimpleNet(df_dummified.shape[1]) #number of features (columns) as input\n",
    "optimizer = torch.optim.Adam(model.parameters(), lr=learning_rate)\n",
    "\n",
    "train_losses = []\n",
    "test_losses = []\n",
    "\n",
    "for epoch in range(epochs):\n",
    "    model.train()\n",
    "    y_train_pred = model(X_train_tensor)\n",
    "    optimizer.zero_grad()\n",
    "    train_loss = criterion(y_train_pred, y_train_tensor)\n",
    "    train_loss.backward()\n",
    "    optimizer.step()\n",
    "    train_losses.append(train_loss.item())\n",
    "    model.eval()\n",
    "    with torch.no_grad():        \n",
    "        y_test_pred = model(X_test_tensor)\n",
    "        test_loss = criterion(y_test_pred, y_test_tensor)\n",
    "        y_train_pred=y_scaler.inverse_transform(y_train_pred)\n",
    "        y_test_pred=y_scaler.inverse_transform(y_test_pred)\n",
    "\n",
    "    test_losses.append(test_loss.item())    \n",
    "    if (epoch % 100==99):\n",
    "        print(\"Epoch: %d, train_loss: %1.5f, test_loss: %1.5F\" % (epoch, train_loss.item(), test_loss.item()))"
   ]
  },
  {
   "attachments": {},
   "cell_type": "markdown",
   "metadata": {},
   "source": [
    "Create a function for plotting training and test loss:"
   ]
  },
  {
   "cell_type": "code",
   "execution_count": 47,
   "metadata": {},
   "outputs": [],
   "source": [
    "def plot_loss():\n",
    "    plt.plot(range(epochs), train_losses, label='Training Loss')\n",
    "    plt.plot(range(epochs), test_losses, label='Test Loss')\n",
    "    plt.ylabel('Loss')\n",
    "    plt.legend()\n",
    "    plt.show()"
   ]
  },
  {
   "cell_type": "code",
   "execution_count": 48,
   "metadata": {},
   "outputs": [
    {
     "data": {
      "image/png": "[encoded data removed]",
      "text/plain": [
       "<Figure size 640x480 with 1 Axes>"
      ]
     },
     "metadata": {},
     "output_type": "display_data"
    }
   ],
   "source": [
    "plot_loss()"
   ]
  },
  {
   "cell_type": "code",
   "execution_count": 49,
   "metadata": {},
   "outputs": [
    {
     "data": {
      "text/plain": [
       "2369"
      ]
     },
     "execution_count": 49,
     "metadata": {},
     "output_type": "execute_result"
    }
   ],
   "source": [
    "count_params(model)"
   ]
  },
  {
   "attachments": {},
   "cell_type": "markdown",
   "metadata": {},
   "source": [
    "Number of parameters = connections between layers + biases in every layyer\n",
    "\n",
    "* input size = 72 (number of features)\n",
    "* hidden layer size = 32\n",
    "* output size = 1\n",
    "\n",
    "count_params = (72*32 + 32*1) + (32 + 1):"
   ]
  },
  {
   "cell_type": "code",
   "execution_count": 50,
   "metadata": {},
   "outputs": [
    {
     "data": {
      "text/plain": [
       "2369"
      ]
     },
     "execution_count": 50,
     "metadata": {},
     "output_type": "execute_result"
    }
   ],
   "source": [
    "72*32+32+32+1"
   ]
  },
  {
   "attachments": {},
   "cell_type": "markdown",
   "metadata": {},
   "source": [
    "There are 2369 trainable parameters in the model"
   ]
  },
  {
   "attachments": {},
   "cell_type": "markdown",
   "metadata": {},
   "source": [
    "Evaluating the results:"
   ]
  },
  {
   "cell_type": "code",
   "execution_count": 51,
   "metadata": {},
   "outputs": [
    {
     "data": {
      "text/html": [
       "<div>\n",
       "<style scoped>\n",
       "    .dataframe tbody tr th:only-of-type {\n",
       "        vertical-align: middle;\n",
       "    }\n",
       "\n",
       "    .dataframe tbody tr th {\n",
       "        vertical-align: top;\n",
       "    }\n",
       "\n",
       "    .dataframe thead th {\n",
       "        text-align: right;\n",
       "    }\n",
       "</style>\n",
       "<table border=\"1\" class=\"dataframe\">\n",
       "  <thead>\n",
       "    <tr style=\"text-align: right;\">\n",
       "      <th></th>\n",
       "      <th>algorithm</th>\n",
       "      <th>dataset</th>\n",
       "      <th>MSE</th>\n",
       "      <th>MAE</th>\n",
       "      <th>MAPE</th>\n",
       "    </tr>\n",
       "  </thead>\n",
       "  <tbody>\n",
       "    <tr>\n",
       "      <th>5</th>\n",
       "      <td>SimpleNet</td>\n",
       "      <td>test</td>\n",
       "      <td>0.74495</td>\n",
       "      <td>0.86310</td>\n",
       "      <td>0.57108</td>\n",
       "    </tr>\n",
       "    <tr>\n",
       "      <th>3</th>\n",
       "      <td>LR_baseline</td>\n",
       "      <td>test</td>\n",
       "      <td>0.74494</td>\n",
       "      <td>0.86310</td>\n",
       "      <td>0.57113</td>\n",
       "    </tr>\n",
       "    <tr>\n",
       "      <th>4</th>\n",
       "      <td>SimpleNet</td>\n",
       "      <td>train</td>\n",
       "      <td>0.78620</td>\n",
       "      <td>0.88668</td>\n",
       "      <td>0.60343</td>\n",
       "    </tr>\n",
       "    <tr>\n",
       "      <th>2</th>\n",
       "      <td>LR_baseline</td>\n",
       "      <td>train</td>\n",
       "      <td>0.78620</td>\n",
       "      <td>0.88668</td>\n",
       "      <td>0.60351</td>\n",
       "    </tr>\n",
       "    <tr>\n",
       "      <th>1</th>\n",
       "      <td>Mean_baseline</td>\n",
       "      <td>test</td>\n",
       "      <td>1.92293</td>\n",
       "      <td>1.38670</td>\n",
       "      <td>0.94593</td>\n",
       "    </tr>\n",
       "    <tr>\n",
       "      <th>0</th>\n",
       "      <td>Mean_baseline</td>\n",
       "      <td>train</td>\n",
       "      <td>2.24988</td>\n",
       "      <td>1.49996</td>\n",
       "      <td>1.07217</td>\n",
       "    </tr>\n",
       "  </tbody>\n",
       "</table>\n",
       "</div>"
      ],
      "text/plain": [
       "       algorithm dataset      MSE      MAE     MAPE\n",
       "5      SimpleNet    test  0.74495  0.86310  0.57108\n",
       "3    LR_baseline    test  0.74494  0.86310  0.57113\n",
       "4      SimpleNet   train  0.78620  0.88668  0.60343\n",
       "2    LR_baseline   train  0.78620  0.88668  0.60351\n",
       "1  Mean_baseline    test  1.92293  1.38670  0.94593\n",
       "0  Mean_baseline   train  2.24988  1.49996  1.07217"
      ]
     },
     "execution_count": 51,
     "metadata": {},
     "output_type": "execute_result"
    }
   ],
   "source": [
    "results = add_eval(results, \"SimpleNet\", y_train, y_train_pred, y_test, y_test_pred)\n",
    "results.sort_values(by='MAPE')"
   ]
  },
  {
   "attachments": {},
   "cell_type": "markdown",
   "metadata": {},
   "source": [
    "The results of SimpleNet are identical with Linear Regression baseline. Our SimpleNet model reproduces a linear regression model. To improve the results we will add layers and activation function to the model architecture"
   ]
  },
  {
   "attachments": {},
   "cell_type": "markdown",
   "metadata": {},
   "source": [
    "### Multi Layer Perceptron \n",
    "\n",
    "More Sophisticated neural network with the ReLU activation function. \n",
    "\n",
    "The **Rectified Linear Unit (ReLU)** activation function is defined as ReLU(x) = max(0, x), where x is the input to the function. The simplicity of ReLU allows for efficient computation, making it well-suited for large-scale neural network architectures. \n",
    "\n",
    "ReLU introduces non-linearity to the neural network, allowing it to model complex relationships and learn non-linear mappings between inputs and outputs. Non-linear activation functions are crucial in enabling neural networks to approximate complex functions and capture intricate patterns in data.\n",
    "\n",
    "ReLU helps alleviate the vanishing gradient problem, which can occur in deep neural networks during backpropagation. The vanishing gradient problem refers to the issue of gradients becoming very small as they propagate through multiple layers, resulting in slow or ineffective training. ReLU helps maintain non-zero gradients for positive inputs, which allows for effective gradient flow and faster convergence during training."
   ]
  },
  {
   "attachments": {},
   "cell_type": "markdown",
   "metadata": {},
   "source": [
    "We will add ReLU activation function to our hidden layers"
   ]
  },
  {
   "cell_type": "code",
   "execution_count": 52,
   "metadata": {},
   "outputs": [],
   "source": [
    "class MultiLayerPerceptron(nn.Module):\n",
    "\n",
    "    def __init__(self, input_size):\n",
    "        super(MultiLayerPerceptron, self).__init__()\n",
    "        self.hidden_1 = nn.Linear(input_size, 128)\n",
    "        self.hidden_2 = nn.Linear(128, 64)\n",
    "        self.hidden_3 = nn.Linear(64, 32)\n",
    "        self.output = nn.Linear(32,1)\n",
    "       \n",
    " \n",
    "    def forward(self, x):\n",
    "        out1 = nn.ReLU()(self.hidden_1(x))\n",
    "        out2 = nn.ReLU()(self.hidden_2(out1))\n",
    "        out3 = nn.ReLU()(self.hidden_3(out2))\n",
    "        \n",
    "        return self.output(out3)"
   ]
  },
  {
   "attachments": {},
   "cell_type": "markdown",
   "metadata": {},
   "source": [
    "Set Hyperparameters of the learning process, train and test the model:"
   ]
  },
  {
   "cell_type": "code",
   "execution_count": 53,
   "metadata": {},
   "outputs": [
    {
     "name": "stdout",
     "output_type": "stream",
     "text": [
      "Epoch: 99, train_loss: 0.00094, test_loss: 0.00450\n",
      "Epoch: 199, train_loss: 0.00048, test_loss: 0.00571\n",
      "Epoch: 299, train_loss: 0.00042, test_loss: 0.00584\n",
      "Epoch: 399, train_loss: 0.00034, test_loss: 0.00616\n",
      "Epoch: 499, train_loss: 0.00030, test_loss: 0.00651\n",
      "Epoch: 599, train_loss: 0.00029, test_loss: 0.00720\n"
     ]
    }
   ],
   "source": [
    "torch.manual_seed(42)\n",
    "model=MultiLayerPerceptron(df_dummified.shape[1]) #number of features (columns) as input\n",
    "optimizer = torch.optim.Adam(model.parameters(), lr=learning_rate)\n",
    "\n",
    "train_losses = []\n",
    "test_losses = []\n",
    "\n",
    "for epoch in range(epochs):\n",
    "    model.train()\n",
    "    y_train_pred = model(X_train_tensor)\n",
    "    optimizer.zero_grad()\n",
    "    train_loss = criterion(y_train_pred, y_train_tensor)\n",
    "    train_loss.backward()\n",
    "    optimizer.step()\n",
    "    train_losses.append(train_loss.item())\n",
    "    \n",
    "    model.eval()\n",
    "    with torch.no_grad():\n",
    "        y_test_pred=model(X_test_tensor)\n",
    "        test_loss = criterion(y_test_pred, y_test_tensor)\n",
    "        y_train_pred=y_scaler.inverse_transform(y_train_pred)\n",
    "        y_test_pred=y_scaler.inverse_transform(y_test_pred)  \n",
    "    test_losses.append(test_loss.item())\n",
    "    if (epoch % 100==99):\n",
    "        print(\"Epoch: %d, train_loss: %1.5f, test_loss: %1.5F\" % (epoch, train_loss.item(), test_loss.item()))"
   ]
  },
  {
   "attachments": {},
   "cell_type": "markdown",
   "metadata": {},
   "source": [
    "Plotting the results:"
   ]
  },
  {
   "cell_type": "code",
   "execution_count": 54,
   "metadata": {},
   "outputs": [
    {
     "data": {
      "image/png": "[encoded data removed]",
      "text/plain": [
       "<Figure size 640x480 with 1 Axes>"
      ]
     },
     "metadata": {},
     "output_type": "display_data"
    }
   ],
   "source": [
    "plot_loss()"
   ]
  },
  {
   "cell_type": "code",
   "execution_count": 55,
   "metadata": {},
   "outputs": [
    {
     "data": {
      "text/plain": [
       "19713"
      ]
     },
     "execution_count": 55,
     "metadata": {},
     "output_type": "execute_result"
    }
   ],
   "source": [
    "count_params(model)"
   ]
  },
  {
   "attachments": {},
   "cell_type": "markdown",
   "metadata": {},
   "source": [
    "Number of parameters - 19713, much more than before due to adding new layers with more neutrons"
   ]
  },
  {
   "attachments": {},
   "cell_type": "markdown",
   "metadata": {},
   "source": [
    "Number of parameters = connections between layers + biases in every layyer\n",
    "\n",
    "* input size = 72 (number of features)\n",
    "* hidden layers size = [128, 64, 32]\n",
    "* output size = 1\n",
    "\n",
    "count_params = (72*128 + 128*64 + 64*32 + 32*1) + (128 + 64 + 32 + 1):"
   ]
  },
  {
   "cell_type": "code",
   "execution_count": 56,
   "metadata": {},
   "outputs": [
    {
     "data": {
      "text/plain": [
       "19713"
      ]
     },
     "execution_count": 56,
     "metadata": {},
     "output_type": "execute_result"
    }
   ],
   "source": [
    "(72*128 + 128*64 + 64*32 + 32*1) + (128 + 64 + 32 + 1)"
   ]
  },
  {
   "attachments": {},
   "cell_type": "markdown",
   "metadata": {},
   "source": [
    "Evaluating the results:"
   ]
  },
  {
   "cell_type": "code",
   "execution_count": 57,
   "metadata": {},
   "outputs": [
    {
     "data": {
      "text/html": [
       "<div>\n",
       "<style scoped>\n",
       "    .dataframe tbody tr th:only-of-type {\n",
       "        vertical-align: middle;\n",
       "    }\n",
       "\n",
       "    .dataframe tbody tr th {\n",
       "        vertical-align: top;\n",
       "    }\n",
       "\n",
       "    .dataframe thead th {\n",
       "        text-align: right;\n",
       "    }\n",
       "</style>\n",
       "<table border=\"1\" class=\"dataframe\">\n",
       "  <thead>\n",
       "    <tr style=\"text-align: right;\">\n",
       "      <th></th>\n",
       "      <th>algorithm</th>\n",
       "      <th>dataset</th>\n",
       "      <th>MSE</th>\n",
       "      <th>MAE</th>\n",
       "      <th>MAPE</th>\n",
       "    </tr>\n",
       "  </thead>\n",
       "  <tbody>\n",
       "    <tr>\n",
       "      <th>6</th>\n",
       "      <td>MLP</td>\n",
       "      <td>train</td>\n",
       "      <td>0.03987</td>\n",
       "      <td>0.19967</td>\n",
       "      <td>0.06825</td>\n",
       "    </tr>\n",
       "    <tr>\n",
       "      <th>7</th>\n",
       "      <td>MLP</td>\n",
       "      <td>test</td>\n",
       "      <td>0.98495</td>\n",
       "      <td>0.99245</td>\n",
       "      <td>0.44289</td>\n",
       "    </tr>\n",
       "    <tr>\n",
       "      <th>5</th>\n",
       "      <td>SimpleNet</td>\n",
       "      <td>test</td>\n",
       "      <td>0.74495</td>\n",
       "      <td>0.86310</td>\n",
       "      <td>0.57108</td>\n",
       "    </tr>\n",
       "    <tr>\n",
       "      <th>3</th>\n",
       "      <td>LR_baseline</td>\n",
       "      <td>test</td>\n",
       "      <td>0.74494</td>\n",
       "      <td>0.86310</td>\n",
       "      <td>0.57113</td>\n",
       "    </tr>\n",
       "    <tr>\n",
       "      <th>4</th>\n",
       "      <td>SimpleNet</td>\n",
       "      <td>train</td>\n",
       "      <td>0.78620</td>\n",
       "      <td>0.88668</td>\n",
       "      <td>0.60343</td>\n",
       "    </tr>\n",
       "    <tr>\n",
       "      <th>2</th>\n",
       "      <td>LR_baseline</td>\n",
       "      <td>train</td>\n",
       "      <td>0.78620</td>\n",
       "      <td>0.88668</td>\n",
       "      <td>0.60351</td>\n",
       "    </tr>\n",
       "    <tr>\n",
       "      <th>1</th>\n",
       "      <td>Mean_baseline</td>\n",
       "      <td>test</td>\n",
       "      <td>1.92293</td>\n",
       "      <td>1.38670</td>\n",
       "      <td>0.94593</td>\n",
       "    </tr>\n",
       "    <tr>\n",
       "      <th>0</th>\n",
       "      <td>Mean_baseline</td>\n",
       "      <td>train</td>\n",
       "      <td>2.24988</td>\n",
       "      <td>1.49996</td>\n",
       "      <td>1.07217</td>\n",
       "    </tr>\n",
       "  </tbody>\n",
       "</table>\n",
       "</div>"
      ],
      "text/plain": [
       "       algorithm dataset      MSE      MAE     MAPE\n",
       "6            MLP   train  0.03987  0.19967  0.06825\n",
       "7            MLP    test  0.98495  0.99245  0.44289\n",
       "5      SimpleNet    test  0.74495  0.86310  0.57108\n",
       "3    LR_baseline    test  0.74494  0.86310  0.57113\n",
       "4      SimpleNet   train  0.78620  0.88668  0.60343\n",
       "2    LR_baseline   train  0.78620  0.88668  0.60351\n",
       "1  Mean_baseline    test  1.92293  1.38670  0.94593\n",
       "0  Mean_baseline   train  2.24988  1.49996  1.07217"
      ]
     },
     "execution_count": 57,
     "metadata": {},
     "output_type": "execute_result"
    }
   ],
   "source": [
    "results = add_eval(results, \"MLP\", y_train, y_train_pred, y_test, y_test_pred)\n",
    "results.sort_values(by='MAPE')"
   ]
  },
  {
   "attachments": {},
   "cell_type": "markdown",
   "metadata": {},
   "source": [
    "The MAPE result of the MLP model is better than that of SimpleNet. We also see a big difference between the metrics on training and testing data: low error values on training data, and much higher values of MSE, MAE and MAPE on unseen (testing) data. This is a sign of overfitting."
   ]
  },
  {
   "attachments": {},
   "cell_type": "markdown",
   "metadata": {},
   "source": [
    "There are different ways to address the issue of overfitting in deep learning experiments:\n",
    "\n",
    "* Overfitting can occur when the model learns to memorize the training data instead of generalizing well to unseen data. By increasing the amount of training data, you provide more diverse examples for the model to learn from, which can help mitigate overfitting. Apparently our dataset is not large enough for good training with generalization. However, there is no possibility to increase it at the moment due to the peculiarities of access to the information\n",
    "\n",
    "* Data augmentation techniques involve applying random transformations to the training data, such as rotations, translations, or flips, to artificially increase the size and diversity of the training set. This technique rather does not fit our dataset\n",
    "\n",
    "* Dropout. Dropout is a regularization technique where random neurons are temporarily dropped out during training. This prevents the model from relying too heavily on specific neurons and encourages the learning of more robust features. Our next step will be to add a new layer to the model architecture.\n",
    "\n",
    "* Hyperparameter tuning: Optimize the hyperparameter of the dropout layer.\n",
    "\n",
    "* Early stopping. Monitor the performance of the model on a validation set during training. If the validation loss starts to increase or the performance plateaus, stop the training early. This prevents the model from over-optimizing on the training data and potentially overfitting. Next, we will allocate a separate part of the dataset for validation\n",
    "\n",
    "* Cross-validation. Perform cross-validation to get a better estimate of the model's performance. Cross-validation helps evaluate the model's generalization ability by training and evaluating the model on multiple subsets of the data. At the end we will check if it can provide a more reliable estimate of the model's performance and help detect overfitting. "
   ]
  },
  {
   "attachments": {},
   "cell_type": "markdown",
   "metadata": {},
   "source": [
    "### Multi Layer Perceptron with Dropout Layer"
   ]
  },
  {
   "attachments": {},
   "cell_type": "markdown",
   "metadata": {},
   "source": [
    "Adding a dropout layer to the model. During training, randomly zeroes some of the elements of the input tensor with probability p using samples from a Bernoulli distribution. This has proven to be an effective technique for regularization and preventing the co-adaptation of neurons. By defalt the 'p' probability of an element to be zeroed is 0.5"
   ]
  },
  {
   "cell_type": "code",
   "execution_count": 58,
   "metadata": {},
   "outputs": [],
   "source": [
    "class MLP_Dropout(nn.Module):\n",
    "\n",
    "    def __init__(self, input_size):\n",
    "        super(MLP_Dropout, self).__init__()\n",
    "        self.hidden_1 = nn.Linear(input_size, 128)\n",
    "        self.dropout_1 = nn.Dropout(0.5) #by default\n",
    "        self.hidden_2 = nn.Linear(128, 64)\n",
    "        self.hidden_3 = nn.Linear(64, 32)\n",
    "        self.output = nn.Linear(32,1)\n",
    "        \n",
    " \n",
    "    def forward(self, x):        \n",
    "        out1 = nn.ReLU()(self.hidden_1(x))\n",
    "        out1 = self.dropout_1(out1)\n",
    "        out2 = nn.ReLU()(self.hidden_2(out1))\n",
    "        out3 = nn.ReLU()(self.hidden_3(out2))\n",
    "        \n",
    "        return self.output(out3)"
   ]
  },
  {
   "attachments": {},
   "cell_type": "markdown",
   "metadata": {},
   "source": [
    "Training and testing the model:"
   ]
  },
  {
   "cell_type": "code",
   "execution_count": 59,
   "metadata": {},
   "outputs": [
    {
     "name": "stdout",
     "output_type": "stream",
     "text": [
      "Epoch: 99, train_loss: 0.00252, test_loss: 0.00382\n",
      "Epoch: 199, train_loss: 0.00216, test_loss: 0.00389\n",
      "Epoch: 299, train_loss: 0.00165, test_loss: 0.00363\n",
      "Epoch: 399, train_loss: 0.00141, test_loss: 0.00365\n",
      "Epoch: 499, train_loss: 0.00125, test_loss: 0.00384\n",
      "Epoch: 599, train_loss: 0.00113, test_loss: 0.00399\n"
     ]
    }
   ],
   "source": [
    "torch.manual_seed(42)\n",
    "criterion = torch.nn.MSELoss()\n",
    "learning_rate=0.01\n",
    "epochs=600\n",
    "model=MLP_Dropout(df_dummified.shape[1])\n",
    "optimizer = torch.optim.Adam(model.parameters(), lr=learning_rate)\n",
    "\n",
    "train_losses = []\n",
    "test_losses = []\n",
    "\n",
    "for epoch in range(epochs):\n",
    "    model.train()\n",
    "    y_train_pred = model(X_train_tensor)\n",
    "    optimizer.zero_grad()\n",
    "    train_loss = criterion(y_train_pred, y_train_tensor)\n",
    "    train_loss.backward()\n",
    "    optimizer.step()\n",
    "    train_losses.append(train_loss.item())\n",
    "    \n",
    "    model.eval()\n",
    "    with torch.no_grad():\n",
    "        y_test_pred=model(X_test_tensor)\n",
    "        test_loss = criterion(y_test_pred, y_test_tensor)\n",
    "        y_train_pred=y_scaler.inverse_transform(y_train_pred)\n",
    "        y_test_pred=y_scaler.inverse_transform(y_test_pred)   \n",
    "    test_losses.append(test_loss.item())\n",
    "    if (epoch % 100==99):\n",
    "        print(\"Epoch: %d, train_loss: %1.5f, test_loss: %1.5F\" % (epoch, train_loss.item(), test_loss.item()))"
   ]
  },
  {
   "attachments": {},
   "cell_type": "markdown",
   "metadata": {},
   "source": [
    "When calling **model.eval()** on a model that includes dropout layers, it changes the mode of the dropout layers to evaluation mode. In evaluation mode, dropout layers behave differently compared to during training. During training, dropout layers randomly \"drop out\" units (set them to zero) with a specified probability, however during evaluation or testing, it is desirable to obtain consistent and deterministic results without randomness introduced by dropout. When model.eval() is called, dropout layers in the model are set to evaluation mode, which means that they no longer apply dropout and instead retain all units. This allows the model to produce consistent and deterministic outputs during inference or evaluation.\n",
    "\n",
    "By switching to evaluation mode, the model ensures that the dropout layers do not introduce randomness or variability in the predictions. Instead, the model applies the learned weights and biases consistently to produce stable outputs. This is important when making predictions on new, unseen data, as it ensures that the model's behavior remains consistent and reliable."
   ]
  },
  {
   "attachments": {},
   "cell_type": "markdown",
   "metadata": {},
   "source": [
    "Plotting the loss results for training and testing:"
   ]
  },
  {
   "cell_type": "code",
   "execution_count": 60,
   "metadata": {},
   "outputs": [
    {
     "data": {
      "image/png": "[encoded data removed]",
      "text/plain": [
       "<Figure size 640x480 with 1 Axes>"
      ]
     },
     "metadata": {},
     "output_type": "display_data"
    }
   ],
   "source": [
    "plot_loss()"
   ]
  },
  {
   "attachments": {},
   "cell_type": "markdown",
   "metadata": {},
   "source": [
    "The gap between training loss and testing loss has decreased, but is still present"
   ]
  },
  {
   "cell_type": "code",
   "execution_count": 61,
   "metadata": {},
   "outputs": [
    {
     "data": {
      "text/plain": [
       "19713"
      ]
     },
     "execution_count": 61,
     "metadata": {},
     "output_type": "execute_result"
    }
   ],
   "source": [
    "count_params(model)"
   ]
  },
  {
   "attachments": {},
   "cell_type": "markdown",
   "metadata": {},
   "source": [
    "Same number of parameters as before."
   ]
  },
  {
   "attachments": {},
   "cell_type": "markdown",
   "metadata": {},
   "source": [
    "Evaluating the results:"
   ]
  },
  {
   "cell_type": "code",
   "execution_count": 62,
   "metadata": {},
   "outputs": [
    {
     "data": {
      "text/html": [
       "<div>\n",
       "<style scoped>\n",
       "    .dataframe tbody tr th:only-of-type {\n",
       "        vertical-align: middle;\n",
       "    }\n",
       "\n",
       "    .dataframe tbody tr th {\n",
       "        vertical-align: top;\n",
       "    }\n",
       "\n",
       "    .dataframe thead th {\n",
       "        text-align: right;\n",
       "    }\n",
       "</style>\n",
       "<table border=\"1\" class=\"dataframe\">\n",
       "  <thead>\n",
       "    <tr style=\"text-align: right;\">\n",
       "      <th></th>\n",
       "      <th>algorithm</th>\n",
       "      <th>dataset</th>\n",
       "      <th>MSE</th>\n",
       "      <th>MAE</th>\n",
       "      <th>MAPE</th>\n",
       "    </tr>\n",
       "  </thead>\n",
       "  <tbody>\n",
       "    <tr>\n",
       "      <th>6</th>\n",
       "      <td>MLP</td>\n",
       "      <td>train</td>\n",
       "      <td>0.03987</td>\n",
       "      <td>0.19967</td>\n",
       "      <td>0.06825</td>\n",
       "    </tr>\n",
       "    <tr>\n",
       "      <th>8</th>\n",
       "      <td>MLP_Dropout</td>\n",
       "      <td>train</td>\n",
       "      <td>0.15455</td>\n",
       "      <td>0.39313</td>\n",
       "      <td>0.24419</td>\n",
       "    </tr>\n",
       "    <tr>\n",
       "      <th>9</th>\n",
       "      <td>MLP_Dropout</td>\n",
       "      <td>test</td>\n",
       "      <td>0.54584</td>\n",
       "      <td>0.73881</td>\n",
       "      <td>0.38450</td>\n",
       "    </tr>\n",
       "    <tr>\n",
       "      <th>7</th>\n",
       "      <td>MLP</td>\n",
       "      <td>test</td>\n",
       "      <td>0.98495</td>\n",
       "      <td>0.99245</td>\n",
       "      <td>0.44289</td>\n",
       "    </tr>\n",
       "    <tr>\n",
       "      <th>5</th>\n",
       "      <td>SimpleNet</td>\n",
       "      <td>test</td>\n",
       "      <td>0.74495</td>\n",
       "      <td>0.86310</td>\n",
       "      <td>0.57108</td>\n",
       "    </tr>\n",
       "    <tr>\n",
       "      <th>3</th>\n",
       "      <td>LR_baseline</td>\n",
       "      <td>test</td>\n",
       "      <td>0.74494</td>\n",
       "      <td>0.86310</td>\n",
       "      <td>0.57113</td>\n",
       "    </tr>\n",
       "    <tr>\n",
       "      <th>4</th>\n",
       "      <td>SimpleNet</td>\n",
       "      <td>train</td>\n",
       "      <td>0.78620</td>\n",
       "      <td>0.88668</td>\n",
       "      <td>0.60343</td>\n",
       "    </tr>\n",
       "    <tr>\n",
       "      <th>2</th>\n",
       "      <td>LR_baseline</td>\n",
       "      <td>train</td>\n",
       "      <td>0.78620</td>\n",
       "      <td>0.88668</td>\n",
       "      <td>0.60351</td>\n",
       "    </tr>\n",
       "    <tr>\n",
       "      <th>1</th>\n",
       "      <td>Mean_baseline</td>\n",
       "      <td>test</td>\n",
       "      <td>1.92293</td>\n",
       "      <td>1.38670</td>\n",
       "      <td>0.94593</td>\n",
       "    </tr>\n",
       "    <tr>\n",
       "      <th>0</th>\n",
       "      <td>Mean_baseline</td>\n",
       "      <td>train</td>\n",
       "      <td>2.24988</td>\n",
       "      <td>1.49996</td>\n",
       "      <td>1.07217</td>\n",
       "    </tr>\n",
       "  </tbody>\n",
       "</table>\n",
       "</div>"
      ],
      "text/plain": [
       "       algorithm dataset      MSE      MAE     MAPE\n",
       "6            MLP   train  0.03987  0.19967  0.06825\n",
       "8    MLP_Dropout   train  0.15455  0.39313  0.24419\n",
       "9    MLP_Dropout    test  0.54584  0.73881  0.38450\n",
       "7            MLP    test  0.98495  0.99245  0.44289\n",
       "5      SimpleNet    test  0.74495  0.86310  0.57108\n",
       "3    LR_baseline    test  0.74494  0.86310  0.57113\n",
       "4      SimpleNet   train  0.78620  0.88668  0.60343\n",
       "2    LR_baseline   train  0.78620  0.88668  0.60351\n",
       "1  Mean_baseline    test  1.92293  1.38670  0.94593\n",
       "0  Mean_baseline   train  2.24988  1.49996  1.07217"
      ]
     },
     "execution_count": 62,
     "metadata": {},
     "output_type": "execute_result"
    }
   ],
   "source": [
    "results = add_eval(results, \"MLP_Dropout\", y_train, y_train_pred, y_test, y_test_pred)\n",
    "results.sort_values(by='MAPE')"
   ]
  },
  {
   "attachments": {},
   "cell_type": "markdown",
   "metadata": {},
   "source": [
    "The model with dropout layer shows the best result on test dataset. But still the difference between trainning and testing metrics is large - still the room for improvement."
   ]
  },
  {
   "attachments": {},
   "cell_type": "markdown",
   "metadata": {},
   "source": [
    "### Split into Training, Validation and Test Data"
   ]
  },
  {
   "attachments": {},
   "cell_type": "markdown",
   "metadata": {},
   "source": [
    "Dividing data into train, validation, and test splits is a common practice in machine learning.\n",
    "\n",
    "During the development process, we need to tune hyperparameters. The validation set allows us to evaluate and compare different hyperparameter choices without using the test set. This separation helps prevent overfitting to the test set and ensures that the final performance evaluation on the test set reflects the model's true generalization capability.\n",
    "\n",
    "Overfitting occurs when a model becomes too specialized in fitting the training data and performs poorly on new data. The validation set helps detect overfitting by providing an independent dataset to evaluate the model's performance during training. It helps in monitoring the model's generalization performance and facilitates early stopping or other regularization techniques to prevent overfitting.\n",
    "\n",
    "It's important to note that the specific proportions for the train-validation-test split may vary depending on the dataset size, complexity, and the available data. A common split is around 60-80% for training, 10-20% for validation, and 10-20% for testing. However, these percentages are not fixed and can be adjusted based on the specific requirements and constraints of your project.\n",
    "\n",
    "However, by partitioning the available data into three sets, we drastically reduce the number of samples which can be used for learning the model, and the results can depend on a particular random choice for the pair of (train, validation) sets."
   ]
  },
  {
   "cell_type": "code",
   "execution_count": 63,
   "metadata": {},
   "outputs": [],
   "source": [
    "X_train_full, X_test, y_train_full, y_test = train_test_split(df_dummified, target, test_size=0.3, shuffle=True, random_state=42)"
   ]
  },
  {
   "cell_type": "code",
   "execution_count": 64,
   "metadata": {},
   "outputs": [],
   "source": [
    "X_train, X_val, y_train, y_val = train_test_split(X_train_full, y_train_full, test_size=0.1, shuffle=True, random_state=42)"
   ]
  },
  {
   "cell_type": "code",
   "execution_count": 65,
   "metadata": {},
   "outputs": [
    {
     "name": "stdout",
     "output_type": "stream",
     "text": [
      "(2718, 72)\n",
      "(303, 72)\n",
      "(1296, 72)\n",
      "(2718, 1)\n",
      "(303, 1)\n",
      "(1296, 1)\n"
     ]
    }
   ],
   "source": [
    "for i in (X_train, X_val, X_test, y_train, y_val, y_test):\n",
    "    print(i.shape)"
   ]
  },
  {
   "attachments": {},
   "cell_type": "markdown",
   "metadata": {},
   "source": [
    "By splitting the dataset we drastically decrease the number of instances in the training dataset."
   ]
  },
  {
   "attachments": {},
   "cell_type": "markdown",
   "metadata": {},
   "source": [
    "**MinMaxScaler()** helps normalize the input data by scaling it to a specific range, typically between 0 and 1. Normalizing the data can help avoid issues related to different features having different scales, which can negatively impact the training process. Neural networks often perform better when the input features are on a similar scale, as it allows the model to converge more effectively."
   ]
  },
  {
   "cell_type": "code",
   "execution_count": 66,
   "metadata": {},
   "outputs": [],
   "source": [
    "x_scaler = MinMaxScaler()\n",
    "y_scaler = MinMaxScaler()"
   ]
  },
  {
   "attachments": {},
   "cell_type": "markdown",
   "metadata": {},
   "source": [
    "Scaling the input data can contribute to more stable and efficient training of neural networks. Normalizing the data with MinMaxScaler() can help improve the generalization capability of the trained model. By scaling the input features to a specific range, it can reduce the influence of outliers and extreme values. "
   ]
  },
  {
   "cell_type": "code",
   "execution_count": 67,
   "metadata": {},
   "outputs": [],
   "source": [
    "x_scaler.fit(X_train_full)\n",
    "X_train_sc = x_scaler.transform(X_train)\n",
    "X_val_sc=x_scaler.transform(X_val)\n",
    "X_test_sc = x_scaler.transform(X_test)"
   ]
  },
  {
   "cell_type": "code",
   "execution_count": 68,
   "metadata": {},
   "outputs": [],
   "source": [
    "y_scaler.fit(y_train_full)\n",
    "y_train_sc=y_scaler.transform(y_train)\n",
    "y_val_sc=y_scaler.transform(y_val)\n",
    "y_test_sc=y_scaler.transform(y_test)"
   ]
  },
  {
   "attachments": {},
   "cell_type": "markdown",
   "metadata": {},
   "source": [
    "Create Tensors for PyTorch"
   ]
  },
  {
   "cell_type": "code",
   "execution_count": 69,
   "metadata": {},
   "outputs": [],
   "source": [
    "X_train_tensor=torch.Tensor(X_train_sc)\n",
    "X_val_tensor=torch.Tensor(X_val_sc)\n",
    "X_test_tensor=torch.Tensor(X_test_sc)\n",
    "y_train_tensor=torch.Tensor(y_train_sc)\n",
    "y_val_tensor=torch.Tensor(y_val_sc)\n",
    "y_test_tensor=torch.Tensor(y_test_sc)"
   ]
  },
  {
   "attachments": {},
   "cell_type": "markdown",
   "metadata": {},
   "source": [
    "## Hyperparameter tuning \n",
    "Finding the best parameter for nn.Dropout layer of our MLP_Dropout model:"
   ]
  },
  {
   "cell_type": "code",
   "execution_count": 70,
   "metadata": {},
   "outputs": [],
   "source": [
    "class MLP_Dropout(nn.Module):\n",
    "    def __init__(self, input_size, dropout_prob):\n",
    "        super(MLP_Dropout, self).__init__()\n",
    "\n",
    "        self.hidden_1 = nn.Linear(input_size, 128)\n",
    "        self.dropout_1 = nn.Dropout(dropout_prob)\n",
    "        self.hidden_2 = nn.Linear(128, 64)\n",
    "        self.hidden_3 = nn.Linear(64, 32)\n",
    "        self.output = nn.Linear(32, 1)\n",
    "\n",
    "    def forward(self, x):\n",
    "        out1 = nn.ReLU()(self.hidden_1(x))\n",
    "        out1 = self.dropout_1(out1)\n",
    "        out2 = nn.ReLU()(self.hidden_2(out1))\n",
    "        out3 = nn.ReLU()(self.hidden_3(out2))\n",
    "        return self.output(out3)"
   ]
  },
  {
   "cell_type": "code",
   "execution_count": 71,
   "metadata": {},
   "outputs": [
    {
     "name": "stdout",
     "output_type": "stream",
     "text": [
      "Testing dropout parameter: 0.1\n"
     ]
    },
    {
     "name": "stdout",
     "output_type": "stream",
     "text": [
      "Testing dropout parameter: 0.2\n",
      "Testing dropout parameter: 0.3\n",
      "Testing dropout parameter: 0.4\n",
      "Testing dropout parameter: 0.5\n",
      "Testing dropout parameter: 0.6\n",
      "Best dropout parameter: 0.4, Best MAPE: 0.2662390935959234\n"
     ]
    }
   ],
   "source": [
    "torch.manual_seed(42) #random seed for reproducability\n",
    "learning_rate = 0.01\n",
    "epochs = 600\n",
    "\n",
    "dropout_params = [0.1, 0.2, 0.3, 0.4, 0.5, 0.6] # dropout parameter values to search\n",
    "best_mape = float('inf')\n",
    "best_dropout_param = None\n",
    "\n",
    "for dropout_prob in dropout_params: # hyperparameter search\n",
    "    print(f\"Testing dropout parameter: {dropout_prob}\")\n",
    "\n",
    "    model = MLP_Dropout(df_dummified.shape[1], dropout_prob)\n",
    "    optimizer = torch.optim.Adam(model.parameters(), lr=learning_rate)\n",
    "    criterion = nn.MSELoss()\n",
    "    \n",
    "    train_losses = []\n",
    "    val_losses = []\n",
    "\n",
    "    for epoch in range(epochs):\n",
    "        model.train()\n",
    "        y_train_pred = model(X_train_tensor)\n",
    "        optimizer.zero_grad()\n",
    "        train_loss = criterion(y_train_pred, y_train_tensor)\n",
    "        train_loss.backward()\n",
    "        optimizer.step()\n",
    "        train_losses.append(train_loss.item())\n",
    "\n",
    "        model.eval()\n",
    "        with torch.no_grad():\n",
    "            y_val_pred = model(X_val_tensor)\n",
    "            val_loss = criterion(y_val_pred, y_val_tensor)\n",
    "            val_losses.append(val_loss.item())\n",
    "\n",
    "    mape_val = mean_absolute_percentage_error(y_val, y_scaler.inverse_transform(y_val_pred))\n",
    "\n",
    "    if mape_val < best_mape:     # check if this dropout parameter gives the best MAPE\n",
    "        best_mape = mape_val\n",
    "        best_dropout_param = dropout_prob\n",
    "\n",
    "print(f\"Best dropout parameter: {best_dropout_param}, Best MAPE: {best_mape}\")"
   ]
  },
  {
   "attachments": {},
   "cell_type": "markdown",
   "metadata": {},
   "source": [
    "The best result is MAPE = 0.2662 for dropout parameter 0.4 on the validation dataset"
   ]
  },
  {
   "attachments": {},
   "cell_type": "markdown",
   "metadata": {},
   "source": [
    "Finding the best model parameters for the **MLP_Dropout_best** model (with the best 'p' hypoparameter for dropout layer):"
   ]
  },
  {
   "cell_type": "code",
   "execution_count": 72,
   "metadata": {},
   "outputs": [],
   "source": [
    "class MLP_Dropout_best(nn.Module):\n",
    "    def __init__(self, input_size):\n",
    "        super(MLP_Dropout_best, self).__init__()\n",
    "\n",
    "        self.hidden_1 = nn.Linear(input_size, 128)\n",
    "        self.dropout_1 = nn.Dropout(best_dropout_param) \n",
    "        self.hidden_2 = nn.Linear(128, 64)\n",
    "        self.hidden_3 = nn.Linear(64, 32)\n",
    "        self.output = nn.Linear(32, 1)\n",
    "\n",
    "    def forward(self, x):\n",
    "        out1 = nn.ReLU()(self.hidden_1(x))\n",
    "        out1 = self.dropout_1(out1)\n",
    "        out2 = nn.ReLU()(self.hidden_2(out1))\n",
    "        out3 = nn.ReLU()(self.hidden_3(out2))\n",
    "        return self.output(out3)"
   ]
  },
  {
   "attachments": {},
   "cell_type": "markdown",
   "metadata": {},
   "source": [
    "We will train the model and track the best validation performance based on MAPE, save the model with the best performance:"
   ]
  },
  {
   "cell_type": "code",
   "execution_count": 73,
   "metadata": {},
   "outputs": [
    {
     "name": "stdout",
     "output_type": "stream",
     "text": [
      "Epoch: 99, train_loss: 0.00254, val_loss: 0.00584\n",
      "Epoch: 199, train_loss: 0.00177, val_loss: 0.00540\n",
      "Epoch: 299, train_loss: 0.00144, val_loss: 0.00525\n",
      "Epoch: 399, train_loss: 0.00113, val_loss: 0.00557\n",
      "Epoch: 499, train_loss: 0.00097, val_loss: 0.00551\n",
      "Epoch: 599, train_loss: 0.00091, val_loss: 0.00566\n"
     ]
    }
   ],
   "source": [
    "torch.manual_seed(42) #random seed for reproducibility\n",
    "learning_rate=0.01\n",
    "criterion = torch.nn.MSELoss()\n",
    "epochs=600\n",
    "model_b=MLP_Dropout_best(df_dummified.shape[1])\n",
    "optimizer = torch.optim.Adam(model_b.parameters(), lr=learning_rate)\n",
    "\n",
    "best_mape_val=float('inf')\n",
    "best_loss_val=float('inf')\n",
    "best_model=copy.deepcopy(model_b.state_dict())\n",
    "best_epoch=0\n",
    "train_losses = []\n",
    "val_losses = []\n",
    "\n",
    "for epoch in range(epochs):\n",
    "    \n",
    "    model_b.train()\n",
    "    y_train_pred = model_b(X_train_tensor) #a forward pass\n",
    "    optimizer.zero_grad() #clear the gradients of the optimazer\n",
    "    loss_train = criterion(y_train_pred, y_train_tensor) #calculate the training loss\n",
    "    loss_train.backward() #backpropagate the gradients of the loss\n",
    "    optimizer.step() #update the parameters based on the gradient\n",
    "\n",
    "    model_b.eval() #set evaluation mode, desable dropout regularization\n",
    "    with torch.no_grad(): #disable gradient computation \n",
    "        y_val_pred = model_b(X_val_tensor) #a forward pass with validation data\n",
    "        loss_val=criterion(y_val_pred, y_val_tensor) #loss\n",
    "        mape_train = mean_absolute_percentage_error(y_train, y_scaler.inverse_transform(y_train_pred))\n",
    "        mape_val= mean_absolute_percentage_error(y_val, y_scaler.inverse_transform(y_val_pred))\n",
    "        if mape_val< best_mape_val: \n",
    "            best_mape_val = mape_val\n",
    "            best_loss_val=loss_val.item()\n",
    "            best_model = copy.deepcopy(model_b.state_dict())\n",
    "            best_epoch=epoch\n",
    "\n",
    "    train_losses.append(loss_train.item())\n",
    "    val_losses.append(loss_val.item())\n",
    "    if (epoch % 100==99):\n",
    "        print(\"Epoch: %d, train_loss: %1.5f, val_loss: %1.5F\" % (epoch, loss_train.item(), loss_val.item()))\n"
   ]
  },
  {
   "attachments": {},
   "cell_type": "markdown",
   "metadata": {},
   "source": [
    "Plotting the training and validation loss:"
   ]
  },
  {
   "cell_type": "code",
   "execution_count": 74,
   "metadata": {},
   "outputs": [
    {
     "data": {
      "image/png": "[encoded data removed]",
      "text/plain": [
       "<Figure size 640x480 with 1 Axes>"
      ]
     },
     "metadata": {},
     "output_type": "display_data"
    }
   ],
   "source": [
    "plt.plot(range(epochs), train_losses, label='Training Loss')\n",
    "plt.plot(range(epochs), val_losses, label='Validation Loss')\n",
    "plt.xlabel('Epochs')\n",
    "plt.ylabel('Loss')\n",
    "plt.legend()\n",
    "plt.show()"
   ]
  },
  {
   "attachments": {},
   "cell_type": "markdown",
   "metadata": {},
   "source": [
    "The best epoch, best validation loss, and the best validation MAPE:"
   ]
  },
  {
   "cell_type": "code",
   "execution_count": 75,
   "metadata": {},
   "outputs": [
    {
     "data": {
      "text/plain": [
       "(556, 0.005338072311133146, 0.3089186622110441)"
      ]
     },
     "execution_count": 75,
     "metadata": {},
     "output_type": "execute_result"
    }
   ],
   "source": [
    "best_epoch, best_loss_val, best_mape_val"
   ]
  },
  {
   "cell_type": "code",
   "execution_count": 76,
   "metadata": {},
   "outputs": [
    {
     "data": {
      "text/plain": [
       "19713"
      ]
     },
     "execution_count": 76,
     "metadata": {},
     "output_type": "execute_result"
    }
   ],
   "source": [
    "count_params(model_b)"
   ]
  },
  {
   "attachments": {},
   "cell_type": "markdown",
   "metadata": {},
   "source": [
    "Still the same number of parameters"
   ]
  },
  {
   "attachments": {},
   "cell_type": "markdown",
   "metadata": {},
   "source": [
    "Now we will perform inference using a trained neural network model (model_b) with the best parameters (best_model)\n",
    "\n",
    "Loading the saved state dictionary (best_model) into the model_b ensures that the model is restored to the state with the best validation performance achieved during training."
   ]
  },
  {
   "cell_type": "code",
   "execution_count": 77,
   "metadata": {},
   "outputs": [],
   "source": [
    "model_b.load_state_dict(best_model)\n",
    "model_b.eval()\n",
    "with torch.no_grad():\n",
    "    y_train_pred=model_b(X_train_tensor)\n",
    "    y_val_pred=model_b(X_val_tensor)\n",
    "    y_test_pred = model_b(X_test_tensor)\n",
    "    y_train_pred=y_scaler.inverse_transform(y_train_pred)\n",
    "    y_val_pred=y_scaler.inverse_transform(y_val_pred)\n",
    "    y_test_pred=y_scaler.inverse_transform(y_test_pred)\n"
   ]
  },
  {
   "attachments": {},
   "cell_type": "markdown",
   "metadata": {},
   "source": [
    "Now we have the predicted outputs (y_train_pred, y_val_pred, and y_test_pred) in their original scale, allowing to compare them directly with the original target values (y_train, y_val, and y_test) and analyze their performance."
   ]
  },
  {
   "attachments": {},
   "cell_type": "markdown",
   "metadata": {},
   "source": [
    "Function for adding results into the table:"
   ]
  },
  {
   "cell_type": "code",
   "execution_count": 78,
   "metadata": {},
   "outputs": [],
   "source": [
    "def add_eval_2(results, algorithm, y_train, y_train_pred, y_val, y_val_pred, y_test, y_test_pred):\n",
    "    for dataset, actual, predicted in zip(\n",
    "        (\"train\", \"val\", \"test\"), \n",
    "        (y_train, y_val, y_test), \n",
    "        (y_train_pred, y_val_pred, y_test_pred)):\n",
    "        results= pd.concat([results, pd.DataFrame([{\n",
    "            \"algorithm\": algorithm, \n",
    "            \"dataset\": dataset,\n",
    "            \"MSE\": mean_squared_error(actual, predicted),\n",
    "            \"MAE\": mean_squared_error(actual, predicted, squared=False),\n",
    "            \"MAPE\": mean_absolute_percentage_error(actual, predicted)\n",
    "        }])], ignore_index=True)   \n",
    "    return results"
   ]
  },
  {
   "attachments": {},
   "cell_type": "markdown",
   "metadata": {},
   "source": [
    "Evaluation:"
   ]
  },
  {
   "cell_type": "code",
   "execution_count": 79,
   "metadata": {},
   "outputs": [
    {
     "data": {
      "text/html": [
       "<div>\n",
       "<style scoped>\n",
       "    .dataframe tbody tr th:only-of-type {\n",
       "        vertical-align: middle;\n",
       "    }\n",
       "\n",
       "    .dataframe tbody tr th {\n",
       "        vertical-align: top;\n",
       "    }\n",
       "\n",
       "    .dataframe thead th {\n",
       "        text-align: right;\n",
       "    }\n",
       "</style>\n",
       "<table border=\"1\" class=\"dataframe\">\n",
       "  <thead>\n",
       "    <tr style=\"text-align: right;\">\n",
       "      <th></th>\n",
       "      <th>algorithm</th>\n",
       "      <th>dataset</th>\n",
       "      <th>MSE</th>\n",
       "      <th>MAE</th>\n",
       "      <th>MAPE</th>\n",
       "    </tr>\n",
       "  </thead>\n",
       "  <tbody>\n",
       "    <tr>\n",
       "      <th>6</th>\n",
       "      <td>MLP</td>\n",
       "      <td>train</td>\n",
       "      <td>0.039870</td>\n",
       "      <td>0.199670</td>\n",
       "      <td>0.068250</td>\n",
       "    </tr>\n",
       "    <tr>\n",
       "      <th>10</th>\n",
       "      <td>MLP_Dropout_best_w/h_val</td>\n",
       "      <td>train</td>\n",
       "      <td>0.098633</td>\n",
       "      <td>0.314059</td>\n",
       "      <td>0.194955</td>\n",
       "    </tr>\n",
       "    <tr>\n",
       "      <th>8</th>\n",
       "      <td>MLP_Dropout</td>\n",
       "      <td>train</td>\n",
       "      <td>0.154550</td>\n",
       "      <td>0.393130</td>\n",
       "      <td>0.244190</td>\n",
       "    </tr>\n",
       "    <tr>\n",
       "      <th>11</th>\n",
       "      <td>MLP_Dropout_best_w/h_val</td>\n",
       "      <td>val</td>\n",
       "      <td>0.730729</td>\n",
       "      <td>0.854827</td>\n",
       "      <td>0.308919</td>\n",
       "    </tr>\n",
       "    <tr>\n",
       "      <th>12</th>\n",
       "      <td>MLP_Dropout_best_w/h_val</td>\n",
       "      <td>test</td>\n",
       "      <td>0.548643</td>\n",
       "      <td>0.740705</td>\n",
       "      <td>0.362498</td>\n",
       "    </tr>\n",
       "    <tr>\n",
       "      <th>9</th>\n",
       "      <td>MLP_Dropout</td>\n",
       "      <td>test</td>\n",
       "      <td>0.545840</td>\n",
       "      <td>0.738810</td>\n",
       "      <td>0.384500</td>\n",
       "    </tr>\n",
       "    <tr>\n",
       "      <th>7</th>\n",
       "      <td>MLP</td>\n",
       "      <td>test</td>\n",
       "      <td>0.984950</td>\n",
       "      <td>0.992450</td>\n",
       "      <td>0.442890</td>\n",
       "    </tr>\n",
       "    <tr>\n",
       "      <th>5</th>\n",
       "      <td>SimpleNet</td>\n",
       "      <td>test</td>\n",
       "      <td>0.744950</td>\n",
       "      <td>0.863100</td>\n",
       "      <td>0.571080</td>\n",
       "    </tr>\n",
       "    <tr>\n",
       "      <th>3</th>\n",
       "      <td>LR_baseline</td>\n",
       "      <td>test</td>\n",
       "      <td>0.744940</td>\n",
       "      <td>0.863100</td>\n",
       "      <td>0.571130</td>\n",
       "    </tr>\n",
       "    <tr>\n",
       "      <th>4</th>\n",
       "      <td>SimpleNet</td>\n",
       "      <td>train</td>\n",
       "      <td>0.786200</td>\n",
       "      <td>0.886680</td>\n",
       "      <td>0.603430</td>\n",
       "    </tr>\n",
       "    <tr>\n",
       "      <th>2</th>\n",
       "      <td>LR_baseline</td>\n",
       "      <td>train</td>\n",
       "      <td>0.786200</td>\n",
       "      <td>0.886680</td>\n",
       "      <td>0.603510</td>\n",
       "    </tr>\n",
       "    <tr>\n",
       "      <th>1</th>\n",
       "      <td>Mean_baseline</td>\n",
       "      <td>test</td>\n",
       "      <td>1.922930</td>\n",
       "      <td>1.386700</td>\n",
       "      <td>0.945930</td>\n",
       "    </tr>\n",
       "    <tr>\n",
       "      <th>0</th>\n",
       "      <td>Mean_baseline</td>\n",
       "      <td>train</td>\n",
       "      <td>2.249880</td>\n",
       "      <td>1.499960</td>\n",
       "      <td>1.072170</td>\n",
       "    </tr>\n",
       "  </tbody>\n",
       "</table>\n",
       "</div>"
      ],
      "text/plain": [
       "                   algorithm dataset       MSE       MAE      MAPE\n",
       "6                        MLP   train  0.039870  0.199670  0.068250\n",
       "10  MLP_Dropout_best_w/h_val   train  0.098633  0.314059  0.194955\n",
       "8                MLP_Dropout   train  0.154550  0.393130  0.244190\n",
       "11  MLP_Dropout_best_w/h_val     val  0.730729  0.854827  0.308919\n",
       "12  MLP_Dropout_best_w/h_val    test  0.548643  0.740705  0.362498\n",
       "9                MLP_Dropout    test  0.545840  0.738810  0.384500\n",
       "7                        MLP    test  0.984950  0.992450  0.442890\n",
       "5                  SimpleNet    test  0.744950  0.863100  0.571080\n",
       "3                LR_baseline    test  0.744940  0.863100  0.571130\n",
       "4                  SimpleNet   train  0.786200  0.886680  0.603430\n",
       "2                LR_baseline   train  0.786200  0.886680  0.603510\n",
       "1              Mean_baseline    test  1.922930  1.386700  0.945930\n",
       "0              Mean_baseline   train  2.249880  1.499960  1.072170"
      ]
     },
     "execution_count": 79,
     "metadata": {},
     "output_type": "execute_result"
    }
   ],
   "source": [
    "results = add_eval_2(results, \"MLP_Dropout_best_w/h_val\", y_train, y_train_pred, y_val, y_val_pred, y_test, y_test_pred)\n",
    "results.sort_values(by='MAPE')"
   ]
  },
  {
   "cell_type": "code",
   "execution_count": 80,
   "metadata": {},
   "outputs": [
    {
     "data": {
      "text/html": [
       "<div>\n",
       "<style scoped>\n",
       "    .dataframe tbody tr th:only-of-type {\n",
       "        vertical-align: middle;\n",
       "    }\n",
       "\n",
       "    .dataframe tbody tr th {\n",
       "        vertical-align: top;\n",
       "    }\n",
       "\n",
       "    .dataframe thead th {\n",
       "        text-align: right;\n",
       "    }\n",
       "</style>\n",
       "<table border=\"1\" class=\"dataframe\">\n",
       "  <thead>\n",
       "    <tr style=\"text-align: right;\">\n",
       "      <th></th>\n",
       "      <th>algorithm</th>\n",
       "      <th>dataset</th>\n",
       "      <th>MSE</th>\n",
       "      <th>MAE</th>\n",
       "      <th>MAPE</th>\n",
       "    </tr>\n",
       "  </thead>\n",
       "  <tbody>\n",
       "    <tr>\n",
       "      <th>6</th>\n",
       "      <td>MLP</td>\n",
       "      <td>train</td>\n",
       "      <td>0.039870</td>\n",
       "      <td>0.199670</td>\n",
       "      <td>0.068250</td>\n",
       "    </tr>\n",
       "    <tr>\n",
       "      <th>10</th>\n",
       "      <td>MLP_Dropout_best_w/h_val</td>\n",
       "      <td>train</td>\n",
       "      <td>0.098633</td>\n",
       "      <td>0.314059</td>\n",
       "      <td>0.194955</td>\n",
       "    </tr>\n",
       "    <tr>\n",
       "      <th>8</th>\n",
       "      <td>MLP_Dropout</td>\n",
       "      <td>train</td>\n",
       "      <td>0.154550</td>\n",
       "      <td>0.393130</td>\n",
       "      <td>0.244190</td>\n",
       "    </tr>\n",
       "    <tr>\n",
       "      <th>11</th>\n",
       "      <td>MLP_Dropout_best_w/h_val</td>\n",
       "      <td>val</td>\n",
       "      <td>0.730729</td>\n",
       "      <td>0.854827</td>\n",
       "      <td>0.308919</td>\n",
       "    </tr>\n",
       "    <tr>\n",
       "      <th>12</th>\n",
       "      <td>MLP_Dropout_best_w/h_val</td>\n",
       "      <td>test</td>\n",
       "      <td>0.548643</td>\n",
       "      <td>0.740705</td>\n",
       "      <td>0.362498</td>\n",
       "    </tr>\n",
       "    <tr>\n",
       "      <th>9</th>\n",
       "      <td>MLP_Dropout</td>\n",
       "      <td>test</td>\n",
       "      <td>0.545840</td>\n",
       "      <td>0.738810</td>\n",
       "      <td>0.384500</td>\n",
       "    </tr>\n",
       "    <tr>\n",
       "      <th>7</th>\n",
       "      <td>MLP</td>\n",
       "      <td>test</td>\n",
       "      <td>0.984950</td>\n",
       "      <td>0.992450</td>\n",
       "      <td>0.442890</td>\n",
       "    </tr>\n",
       "    <tr>\n",
       "      <th>5</th>\n",
       "      <td>SimpleNet</td>\n",
       "      <td>test</td>\n",
       "      <td>0.744950</td>\n",
       "      <td>0.863100</td>\n",
       "      <td>0.571080</td>\n",
       "    </tr>\n",
       "    <tr>\n",
       "      <th>3</th>\n",
       "      <td>LR_baseline</td>\n",
       "      <td>test</td>\n",
       "      <td>0.744940</td>\n",
       "      <td>0.863100</td>\n",
       "      <td>0.571130</td>\n",
       "    </tr>\n",
       "    <tr>\n",
       "      <th>4</th>\n",
       "      <td>SimpleNet</td>\n",
       "      <td>train</td>\n",
       "      <td>0.786200</td>\n",
       "      <td>0.886680</td>\n",
       "      <td>0.603430</td>\n",
       "    </tr>\n",
       "    <tr>\n",
       "      <th>2</th>\n",
       "      <td>LR_baseline</td>\n",
       "      <td>train</td>\n",
       "      <td>0.786200</td>\n",
       "      <td>0.886680</td>\n",
       "      <td>0.603510</td>\n",
       "    </tr>\n",
       "    <tr>\n",
       "      <th>1</th>\n",
       "      <td>Mean_baseline</td>\n",
       "      <td>test</td>\n",
       "      <td>1.922930</td>\n",
       "      <td>1.386700</td>\n",
       "      <td>0.945930</td>\n",
       "    </tr>\n",
       "    <tr>\n",
       "      <th>0</th>\n",
       "      <td>Mean_baseline</td>\n",
       "      <td>train</td>\n",
       "      <td>2.249880</td>\n",
       "      <td>1.499960</td>\n",
       "      <td>1.072170</td>\n",
       "    </tr>\n",
       "  </tbody>\n",
       "</table>\n",
       "</div>"
      ],
      "text/plain": [
       "                   algorithm dataset       MSE       MAE      MAPE\n",
       "6                        MLP   train  0.039870  0.199670  0.068250\n",
       "10  MLP_Dropout_best_w/h_val   train  0.098633  0.314059  0.194955\n",
       "8                MLP_Dropout   train  0.154550  0.393130  0.244190\n",
       "11  MLP_Dropout_best_w/h_val     val  0.730729  0.854827  0.308919\n",
       "12  MLP_Dropout_best_w/h_val    test  0.548643  0.740705  0.362498\n",
       "9                MLP_Dropout    test  0.545840  0.738810  0.384500\n",
       "7                        MLP    test  0.984950  0.992450  0.442890\n",
       "5                  SimpleNet    test  0.744950  0.863100  0.571080\n",
       "3                LR_baseline    test  0.744940  0.863100  0.571130\n",
       "4                  SimpleNet   train  0.786200  0.886680  0.603430\n",
       "2                LR_baseline   train  0.786200  0.886680  0.603510\n",
       "1              Mean_baseline    test  1.922930  1.386700  0.945930\n",
       "0              Mean_baseline   train  2.249880  1.499960  1.072170"
      ]
     },
     "execution_count": 80,
     "metadata": {},
     "output_type": "execute_result"
    }
   ],
   "source": [
    "results.sort_values(by='MAPE')"
   ]
  },
  {
   "attachments": {},
   "cell_type": "markdown",
   "metadata": {},
   "source": [
    "MLP_Dropout_best model with validation split shows the best MAPE metrics at testing dataset. And the problem of overfitting still persists - we see that performance scores for the test data are not as good as for the training data. Also unclear influence of random, after all just one experiment complited and use only one (three-way) split."
   ]
  },
  {
   "attachments": {},
   "cell_type": "markdown",
   "metadata": {},
   "source": [
    "## Cross-Validation"
   ]
  },
  {
   "attachments": {},
   "cell_type": "markdown",
   "metadata": {},
   "source": [
    "By partitioning the available data into three sets, we drastically reduce the number of samples which can be used for learning the model, and the results can depend on a particular random choice for the pair of (train, validation) sets.\n",
    "\n",
    "A solution to this problem is a procedure called cross-validation (CV). A test set should still be held out for final evaluation, but the validation set is no longer needed when doing CV. In k-fold CV approach the training set is split into k smaller sets. The performance measure reported by k-fold cross-validation is then the average of the values computed in the loop."
   ]
  },
  {
   "cell_type": "code",
   "execution_count": 81,
   "metadata": {},
   "outputs": [],
   "source": [
    "X_train, X_test, y_train, y_test = train_test_split(df_dummified, target, test_size=0.4, shuffle=True, random_state=42)\n",
    "\n",
    "X_train_tensor=torch.Tensor(x_scaler.fit_transform(X_train))\n",
    "X_test_tensor=torch.Tensor(x_scaler.transform(X_test))\n",
    "y_train_tensor=torch.Tensor(y_scaler.fit_transform(y_train))\n",
    "y_test_tensor=torch.Tensor(y_scaler.transform(y_test))"
   ]
  },
  {
   "attachments": {},
   "cell_type": "markdown",
   "metadata": {},
   "source": [
    "We will implement a cross-validation loop that splits the training data into multiple folds. In each iteration of the loop, it will select the training and validation data for a specific fold and assign them to separate variables. These variables could then be used for training and evaluating the model on each fold of the cross-validation process."
   ]
  },
  {
   "attachments": {},
   "cell_type": "markdown",
   "metadata": {},
   "source": [
    "Also we increase number the epochs to 1000"
   ]
  },
  {
   "cell_type": "code",
   "execution_count": 82,
   "metadata": {},
   "outputs": [
    {
     "name": "stdout",
     "output_type": "stream",
     "text": [
      "Epoch: 99, validation loss: 0.00053\n",
      "Epoch: 199, validation loss: 0.00046\n",
      "Epoch: 299, validation loss: 0.00045\n",
      "Epoch: 399, validation loss: 0.00045\n",
      "Epoch: 499, validation loss: 0.00041\n",
      "Epoch: 599, validation loss: 0.00040\n",
      "Epoch: 699, validation loss: 0.00042\n",
      "Epoch: 799, validation loss: 0.00043\n",
      "Epoch: 899, validation loss: 0.00040\n",
      "Epoch: 999, validation loss: 0.00044\n"
     ]
    },
    {
     "data": {
      "image/png": "[encoded data removed]",
      "text/plain": [
       "<Figure size 640x480 with 1 Axes>"
      ]
     },
     "metadata": {},
     "output_type": "display_data"
    }
   ],
   "source": [
    "learning_rate = 0.01\n",
    "criterion = nn.MSELoss()\n",
    "epochs = 1000 #increase the number of epochs\n",
    "model_b = MLP_Dropout_best(df_dummified.shape[1])\n",
    "optimizer = optim.Adam(model_b.parameters(), lr=learning_rate)\n",
    "\n",
    "num_folds = 5 # number of folds for cross-validation\n",
    "kfold = KFold(n_splits=num_folds, shuffle=True, random_state=42)\n",
    "\n",
    "train_losses = []\n",
    "val_losses = []\n",
    "\n",
    "best_val_loss = float('inf')\n",
    "best_model_state = None\n",
    "\n",
    "for epoch in range(epochs):\n",
    "    total_loss = 0.0\n",
    "    for fold, (train_idx, val_idx) in enumerate(kfold.split(X_train_tensor)): #iterates over each fold and obtains the indices of the training and validation data for the current fold.\n",
    "        X_train_fold, X_val_fold = X_train_tensor[train_idx], X_train_tensor[val_idx] #fold-specific train and val datasets based on indices\n",
    "        y_train_fold, y_val_fold = y_train_tensor[train_idx], y_train_tensor[val_idx]\n",
    "\n",
    "        model_b.train()\n",
    "        optimizer.zero_grad()\n",
    "\n",
    "        y_train_pred = model_b(X_train_fold)\n",
    "        train_loss = criterion(y_train_pred, y_train_fold)\n",
    "        train_loss.backward()\n",
    "        optimizer.step()\n",
    "\n",
    "        model_b.eval()\n",
    "        with torch.no_grad():\n",
    "            y_val_pred = model_b(X_val_fold)\n",
    "            val_loss = criterion(y_val_pred, y_val_fold)\n",
    "\n",
    "        total_loss += val_loss.item()\n",
    "\n",
    "    avg_val_loss = total_loss / num_folds #the average validation loss across all folds for the current epoch.\n",
    "    train_losses.append(train_loss.item())\n",
    "    val_losses.append(avg_val_loss)\n",
    "\n",
    "    if avg_val_loss < best_val_loss: #if the current average validation loss is better than the previous best validation loss\n",
    "        best_val_loss = avg_val_loss #updates the best validation loss\n",
    "        best_model_state = model_b.state_dict().copy() #creates a copy of the model's state dictionary as the best model state\n",
    "\n",
    "    if (epoch % 100 == 99):\n",
    "        print(\"Epoch: %d, validation loss: %1.5f\" % (epoch, avg_val_loss))\n",
    "\n",
    "# Load the best model state\n",
    "model_b.load_state_dict(best_model_state) #loading the state of the best model\n",
    "\n",
    "# Use the best model to predict on test data\n",
    "model_b.eval()\n",
    "with torch.no_grad():\n",
    "    y_train_pred=model_b(X_train_tensor)\n",
    "    y_val_pred=model_b(X_val_tensor)\n",
    "    y_test_pred = model_b(X_test_tensor)\n",
    "    y_train_pred=y_scaler.inverse_transform(y_train_pred)\n",
    "    y_val_pred=y_scaler.inverse_transform(y_val_pred)\n",
    "    y_test_pred=y_scaler.inverse_transform(y_test_pred)\n",
    "\n",
    "# Plot MSE during training\n",
    "plt.plot(range(epochs), train_losses, label='Training Loss')\n",
    "plt.plot(range(epochs), val_losses, label='Validation Loss')\n",
    "plt.xlabel('Epochs')\n",
    "plt.ylabel('Loss')\n",
    "plt.legend()\n",
    "plt.show()\n"
   ]
  },
  {
   "attachments": {},
   "cell_type": "markdown",
   "metadata": {},
   "source": [
    "The code overall trains a neural network model using k-fold cross-validation, tracks the best model based on the average validation loss, and applies the best model to make predictions on the training, validation, and test data.\n",
    "\n",
    "From the plot we can see that the loss graphs for training and validation data are close to each over "
   ]
  },
  {
   "cell_type": "code",
   "execution_count": 83,
   "metadata": {},
   "outputs": [
    {
     "data": {
      "text/html": [
       "<div>\n",
       "<style scoped>\n",
       "    .dataframe tbody tr th:only-of-type {\n",
       "        vertical-align: middle;\n",
       "    }\n",
       "\n",
       "    .dataframe tbody tr th {\n",
       "        vertical-align: top;\n",
       "    }\n",
       "\n",
       "    .dataframe thead th {\n",
       "        text-align: right;\n",
       "    }\n",
       "</style>\n",
       "<table border=\"1\" class=\"dataframe\">\n",
       "  <thead>\n",
       "    <tr style=\"text-align: right;\">\n",
       "      <th></th>\n",
       "      <th>algorithm</th>\n",
       "      <th>dataset</th>\n",
       "      <th>MSE</th>\n",
       "      <th>MAE</th>\n",
       "      <th>MAPE</th>\n",
       "    </tr>\n",
       "  </thead>\n",
       "  <tbody>\n",
       "    <tr>\n",
       "      <th>6</th>\n",
       "      <td>MLP</td>\n",
       "      <td>train</td>\n",
       "      <td>0.039870</td>\n",
       "      <td>0.199670</td>\n",
       "      <td>0.068250</td>\n",
       "    </tr>\n",
       "    <tr>\n",
       "      <th>13</th>\n",
       "      <td>MLP_Dropout_after_CV</td>\n",
       "      <td>train</td>\n",
       "      <td>0.060975</td>\n",
       "      <td>0.246931</td>\n",
       "      <td>0.097620</td>\n",
       "    </tr>\n",
       "    <tr>\n",
       "      <th>14</th>\n",
       "      <td>MLP_Dropout_after_CV</td>\n",
       "      <td>val</td>\n",
       "      <td>0.065143</td>\n",
       "      <td>0.255232</td>\n",
       "      <td>0.106110</td>\n",
       "    </tr>\n",
       "    <tr>\n",
       "      <th>10</th>\n",
       "      <td>MLP_Dropout_best_w/h_val</td>\n",
       "      <td>train</td>\n",
       "      <td>0.098633</td>\n",
       "      <td>0.314059</td>\n",
       "      <td>0.194955</td>\n",
       "    </tr>\n",
       "    <tr>\n",
       "      <th>8</th>\n",
       "      <td>MLP_Dropout</td>\n",
       "      <td>train</td>\n",
       "      <td>0.154550</td>\n",
       "      <td>0.393130</td>\n",
       "      <td>0.244190</td>\n",
       "    </tr>\n",
       "    <tr>\n",
       "      <th>15</th>\n",
       "      <td>MLP_Dropout_after_CV</td>\n",
       "      <td>test</td>\n",
       "      <td>0.496497</td>\n",
       "      <td>0.704625</td>\n",
       "      <td>0.287380</td>\n",
       "    </tr>\n",
       "    <tr>\n",
       "      <th>11</th>\n",
       "      <td>MLP_Dropout_best_w/h_val</td>\n",
       "      <td>val</td>\n",
       "      <td>0.730729</td>\n",
       "      <td>0.854827</td>\n",
       "      <td>0.308919</td>\n",
       "    </tr>\n",
       "    <tr>\n",
       "      <th>12</th>\n",
       "      <td>MLP_Dropout_best_w/h_val</td>\n",
       "      <td>test</td>\n",
       "      <td>0.548643</td>\n",
       "      <td>0.740705</td>\n",
       "      <td>0.362498</td>\n",
       "    </tr>\n",
       "    <tr>\n",
       "      <th>9</th>\n",
       "      <td>MLP_Dropout</td>\n",
       "      <td>test</td>\n",
       "      <td>0.545840</td>\n",
       "      <td>0.738810</td>\n",
       "      <td>0.384500</td>\n",
       "    </tr>\n",
       "    <tr>\n",
       "      <th>7</th>\n",
       "      <td>MLP</td>\n",
       "      <td>test</td>\n",
       "      <td>0.984950</td>\n",
       "      <td>0.992450</td>\n",
       "      <td>0.442890</td>\n",
       "    </tr>\n",
       "    <tr>\n",
       "      <th>5</th>\n",
       "      <td>SimpleNet</td>\n",
       "      <td>test</td>\n",
       "      <td>0.744950</td>\n",
       "      <td>0.863100</td>\n",
       "      <td>0.571080</td>\n",
       "    </tr>\n",
       "    <tr>\n",
       "      <th>3</th>\n",
       "      <td>LR_baseline</td>\n",
       "      <td>test</td>\n",
       "      <td>0.744940</td>\n",
       "      <td>0.863100</td>\n",
       "      <td>0.571130</td>\n",
       "    </tr>\n",
       "    <tr>\n",
       "      <th>4</th>\n",
       "      <td>SimpleNet</td>\n",
       "      <td>train</td>\n",
       "      <td>0.786200</td>\n",
       "      <td>0.886680</td>\n",
       "      <td>0.603430</td>\n",
       "    </tr>\n",
       "    <tr>\n",
       "      <th>2</th>\n",
       "      <td>LR_baseline</td>\n",
       "      <td>train</td>\n",
       "      <td>0.786200</td>\n",
       "      <td>0.886680</td>\n",
       "      <td>0.603510</td>\n",
       "    </tr>\n",
       "    <tr>\n",
       "      <th>1</th>\n",
       "      <td>Mean_baseline</td>\n",
       "      <td>test</td>\n",
       "      <td>1.922930</td>\n",
       "      <td>1.386700</td>\n",
       "      <td>0.945930</td>\n",
       "    </tr>\n",
       "    <tr>\n",
       "      <th>0</th>\n",
       "      <td>Mean_baseline</td>\n",
       "      <td>train</td>\n",
       "      <td>2.249880</td>\n",
       "      <td>1.499960</td>\n",
       "      <td>1.072170</td>\n",
       "    </tr>\n",
       "  </tbody>\n",
       "</table>\n",
       "</div>"
      ],
      "text/plain": [
       "                   algorithm dataset       MSE       MAE      MAPE\n",
       "6                        MLP   train  0.039870  0.199670  0.068250\n",
       "13      MLP_Dropout_after_CV   train  0.060975  0.246931  0.097620\n",
       "14      MLP_Dropout_after_CV     val  0.065143  0.255232  0.106110\n",
       "10  MLP_Dropout_best_w/h_val   train  0.098633  0.314059  0.194955\n",
       "8                MLP_Dropout   train  0.154550  0.393130  0.244190\n",
       "15      MLP_Dropout_after_CV    test  0.496497  0.704625  0.287380\n",
       "11  MLP_Dropout_best_w/h_val     val  0.730729  0.854827  0.308919\n",
       "12  MLP_Dropout_best_w/h_val    test  0.548643  0.740705  0.362498\n",
       "9                MLP_Dropout    test  0.545840  0.738810  0.384500\n",
       "7                        MLP    test  0.984950  0.992450  0.442890\n",
       "5                  SimpleNet    test  0.744950  0.863100  0.571080\n",
       "3                LR_baseline    test  0.744940  0.863100  0.571130\n",
       "4                  SimpleNet   train  0.786200  0.886680  0.603430\n",
       "2                LR_baseline   train  0.786200  0.886680  0.603510\n",
       "1              Mean_baseline    test  1.922930  1.386700  0.945930\n",
       "0              Mean_baseline   train  2.249880  1.499960  1.072170"
      ]
     },
     "execution_count": 83,
     "metadata": {},
     "output_type": "execute_result"
    }
   ],
   "source": [
    "results = add_eval_2(results, \"MLP_Dropout_after_CV\", y_train, y_train_pred, y_val, y_val_pred, y_test, y_test_pred)\n",
    "results.sort_values(by='MAPE')"
   ]
  },
  {
   "attachments": {},
   "cell_type": "markdown",
   "metadata": {},
   "source": [
    "The MLP_Dropout model after cross-validation shows the best results on testing dataset.\n",
    "\n",
    "* Training Performance: The MAPE of 0.097 for the training dataset indicates that, on average, the model's predictions have an absolute percentage error of approximately 9.7% compared to the actual values in the training data. This suggests that the model has performed relatively well on the training dataset.\n",
    "\n",
    "* Validation Performance: The MAPE of 0.106 for the validation dataset indicates that, on average, the model's predictions have an absolute percentage error of around 10.6% compared to the actual values in the validation data. This indicates a slightly higher error compared to the training dataset, but it is still relatively low.\n",
    "\n",
    "* Testing Performance: The MAPE of 0.287 for the testing dataset indicates that, on average, the model's predictions have an absolute percentage error of approximately 28.7% compared to the actual values in the testing data. This is higher than the MAPE values for both the training and validation datasets. It suggests that the model's performance is relatively worse on the unseen testing data compared to the training and validation datasets.\n",
    "\n",
    "The model is performing well in terms of the MAPE on the training and validation datasets, indicating good predictive accuracy and generalization. However, there is a noticeable increase in the MAPE when it comes to the testing dataset, suggesting that the model may not perform as well on unseen data. "
   ]
  },
  {
   "attachments": {},
   "cell_type": "markdown",
   "metadata": {},
   "source": [
    "It is possible for the results to depend on randomness, especially when there are elements of randomness involved in the training process. In our case, we are using the KFold function with the shuffle=True parameter, which introduces randomness in the splitting of the data into folds during cross-validation.\n",
    "\n",
    "Randomness can influence the performance metrics, such as MSE, MAE, and MAPE, as the specific train-test splits or the order of the data points during training can have an impact on the model's learning process.\n",
    "\n",
    "Using a fixed random seed helps in comparing and reproducing results, especially when evaluating different models or comparing the performance of a model with different hyperparameters or architectures. However, it's important to note that some randomness may still exist in the underlying training algorithms or in cases where external factors introduce randomness."
   ]
  },
  {
   "attachments": {},
   "cell_type": "markdown",
   "metadata": {},
   "source": [
    "## Conclusion and Future Work"
   ]
  },
  {
   "attachments": {},
   "cell_type": "markdown",
   "metadata": {},
   "source": [
    "Achievements of the Work: We conducted experiments and developed a regression neural network model to predict interest rates on African government loans and bonds. The achieved results include the evaluation of various models and the identification of the MLP_Dropout model after cross-validation as the best performer on the testing dataset.\n",
    "\n",
    "Interpretation of Results: The MLP_Dropout model after cross-validation demonstrated the best performance on the testing dataset, indicating its ability to make accurate predictions on unseen data. The MAPE values for the training and validation datasets were relatively low, suggesting good predictive accuracy and generalization. However, there was a noticeable increase in MAPE for the testing dataset, indicating that the model's performance on unseen data may not be as strong.\n",
    "\n",
    "Comparison to the Original Plan: The original plan involved acquiring and preparing a dataset, conducting feature selection, developing regression neural network models with different architectures, and evaluating their performance. The achieved results align with the original plan, as various models were trained and evaluated using the dataset.\n",
    "\n",
    "Generated Value: The developed regression neural network model provides valuable insights into predicting interest rates on African government loans and bonds. The model's predictions can aid policy-makers in making proactive decisions, help investors assess risk, and enable international organizations to develop targeted strategies for supporting economic development in African countries. By leveraging data-driven insights, GEA can contribute to the economic growth and stability of African nations.\n",
    "\n",
    "Recommendations for the Organization: Based on the results, it is recommended to implement the MLP_Dropout model with cross-validation for predicting interest rates on African government loans and bonds. However, given the higher MAPE observed on the testing dataset, further fine-tuning and optimization of the model should be considered to improve its performance on unseen data. Additionally, continuous monitoring and updating of the model using new data would enhance its accuracy and reliability.\n",
    "\n",
    "Ideas for Future Work:\n",
    "* Dataset extension: Neural networks show the best results on really big data.\n",
    "* Architecture modeling: Experiment with different architectures, to further enhance prediction accuracy and robustness.\n",
    "* Futher Parametrization fine-tuning: While Adam is a commonly used and effective optimizer, SGD, RMSProp, or AdaGrad may yield better results. Despite these advantages, ReLU does have some limitations, several variants of ReLU, such as Leaky ReLU, Parametric ReLU, and Exponential Linear Units (ELUs), have been proposed to address the dying ReLU problem and improve upon ReLU's limitations. Different scaling techniques, such as standardization (e.g., StandardScaler()), may also be appropriate depending on the nature of the data."
   ]
  }
 ],
 "metadata": {
  "kernelspec": {
   "display_name": "deep_learning_env",
   "language": "python",
   "name": "python3"
  },
  "language_info": {
   "codemirror_mode": {
    "name": "ipython",
    "version": 3
   },
   "file_extension": ".py",
   "mimetype": "text/x-python",
   "name": "python",
   "nbconvert_exporter": "python",
   "pygments_lexer": "ipython3",
   "version": "3.11.2"
  },
  "orig_nbformat": 4
 },
 "nbformat": 4,
 "nbformat_minor": 2
}
