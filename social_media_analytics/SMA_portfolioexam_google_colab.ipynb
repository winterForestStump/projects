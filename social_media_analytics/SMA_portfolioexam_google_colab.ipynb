{
  "cells": [
    {
      "cell_type": "markdown",
      "metadata": {
        "colab_type": "text",
        "id": "view-in-github"
      },
      "source": [
        "<a href=\"https://colab.research.google.com/github/winterForestStump/tutorial-env/blob/main/SocialMediaAnalytics/SMA_portfolioexam_google_colab.ipynb\" target=\"_parent\"><img src=\"https://colab.research.google.com/assets/colab-badge.svg\" alt=\"Open In Colab\"/></a>"
      ]
    },
    {
      "cell_type": "markdown",
      "metadata": {
        "id": "TbOFUKgwLUJw"
      },
      "source": [
        "# News classification project\n",
        "\n",
        "Project Scenario: Fake News Detection Using EUvsDisinfo Database\n",
        "\n",
        "Goal and Purpose: The goal of this project is to develop a text classifier for the detection of fake news using the EUvsDisinfo database. The EUvsDisinfo project is dedicated to identifying and exposing disinformation cases originating from pro-Kremlin outlets. By utilizing this database, the project aims to create a system that can classify news articles as either genuine or fake, helping users discern the credibility of information they encounter.\n",
        "\n",
        "Data: The project utilizes the EUvsDisinfo database, which is a comprehensive collection of disinformation cases and their corresponding disproofs. The database is continually updated on a weekly basis, ensuring that the classifier remains up to date with the latest disinformation trends. The data includes information from various languages, as the disinformation cases monitored by EUvsDisinfo may originate from different sources worldwide.\n",
        "\n",
        "Data source: https://euvsdisinfo.eu/disinformation-cases/\n",
        "\n",
        "Web Scraping: To retrieve data from the EUvsDisinfo website, the project employs a web scraping code written in Python, as indicated by the `webscraping_code.ipynb` file. This code automatically extracts the relevant information from the website, allowing the project to access the disinformation cases stored in the EUvsDisinfo database.\n",
        "\n",
        "More information about the EUvsDisinfo project: https://euvsdisinfo.eu/to-challenge-russias-ongoing-disinformation-campaigns-the-story-of-euvsdisinfo/\n",
        "\n",
        "Plan: The project follows a multi-step plan to develop the fake news detection system:\n",
        "\n",
        "1) Data Analysis: The collected data from the EUvsDisinfo database is analyzed to gain insights into the characteristics  of fake news.\n",
        "\n",
        "2) Doc2Vec Method: The project employs the Doc2Vec method, a text representation technique, to convert the news articles into numerical vectors. Doc2Vec captures the semantic meaning of the text.\n",
        "\n",
        "3) Transformer Model: For the text classification task, the project utilizes the Roberta transformer model. Transformer models, based on attention mechanisms, have proven to be effective in various natural language processing tasks. The Roberta model, a variant of the Transformer architecture, has demonstrated strong performance in text classification and understanding tasks.\n",
        "\n",
        "By training the Roberta transformer model on the labeled data from the EUvsDisinfo database, the project aims to develop a classifier capable of identifying fake news articles accurately.\n",
        "\n",
        "The resulting system can then be used by individuals, organizations, and platforms to automatically flag potential instances of fake news, promoting media literacy and helping users make more informed decisions about the information they consume."
      ]
    },
    {
      "cell_type": "markdown",
      "metadata": {
        "id": "-hTVaT8lTOjt"
      },
      "source": [
        "Import required libraries and modules:\n",
        "\n",
        "* The `transformers` package is a popular open-source library developed by Hugging Face. It provides a high-level API for natural language processing (NLP) tasks, particularly focused on pre-trained models for tasks like text classification, named entity recognition, machine translation, and more. The library also includes utilities for tokenization, model training, and inference.\n",
        "\n",
        "* The `accelerate` package is also developed by Hugging Face and is designed to accelerate the training and inference of models from the transformers library. By using accelerate, you can train or run models more efficiently on multiple GPUs or distributed systems."
      ]
    },
    {
      "cell_type": "code",
      "execution_count": 1,
      "metadata": {
        "id": "15Vhb45B4bry"
      },
      "outputs": [],
      "source": [
        "%%capture\n",
        "!pip install transformers accelerate -U;"
      ]
    },
    {
      "cell_type": "code",
      "execution_count": 2,
      "metadata": {
        "id": "mZ5olSSCs32I"
      },
      "outputs": [],
      "source": [
        "import pandas as pd\n",
        "import numpy as np\n",
        "import random\n",
        "import matplotlib.pyplot as plt\n",
        "\n",
        "import gensim\n",
        "from gensim.models.doc2vec import TaggedDocument\n",
        "from gensim.utils import simple_preprocess\n",
        "from gensim.models import Doc2Vec\n",
        "import gensim.downloader\n",
        "\n",
        "from nltk.tokenize import word_tokenize\n",
        "import collections\n",
        "\n",
        "from sklearn.model_selection import train_test_split\n",
        "from sklearn.feature_extraction.text import CountVectorizer\n",
        "from sklearn.metrics import accuracy_score, recall_score, precision_score, f1_score\n",
        "\n",
        "import torch\n",
        "import transformers\n",
        "from transformers import TrainingArguments, Trainer\n",
        "from transformers import AutoTokenizer, AutoModelForSequenceClassification, EarlyStoppingCallback\n",
        "from transformers import AutoTokenizer, RobertaForSequenceClassification"
      ]
    },
    {
      "cell_type": "code",
      "execution_count": 3,
      "metadata": {
        "colab": {
          "base_uri": "https://localhost:8080/",
          "height": 331,
          "referenced_widgets": [
            "4c3ff938c1f54f5391061dba4275ab7c",
            "fb43fac50c404522a773e0fa8d29cae9",
            "58b371f95626498a8e8937e91b40c1ba",
            "1be63cedfdeb442b9f811534f5c33d89",
            "48728229847c4d86b270a815a39b517e",
            "25fe6c37883a47f0b66e5f40337e721f",
            "87bbf4b1eb7c4cc988d92b211b8ccb0c",
            "886bc47593ed44c5b819dfa635b5fb8c",
            "530d1ba09315450f93e8c72d857adbb1",
            "f025869db818438696222e2b2ecc8976",
            "7b999989de1a468fb059a4d9a3cf2a36",
            "0a3e3296ae6445c5a3e7a33b99e4a4a8",
            "4003e184b6aa45dbbdd0add8c04df5b4",
            "993d73017bd84ae38cf74eb577af70e8",
            "31f75c26928a4b16973ffe36ce8728dd",
            "b57c2bf735bc4f5abe3704d7ea6b1969",
            "48ca3ff717d34e079623744cd39fba34"
          ]
        },
        "id": "zpt1ewQ8ut5v",
        "outputId": "c86d1143-c027-4a8b-ec5f-bff713668995"
      },
      "outputs": [
        {
          "data": {
            "application/vnd.jupyter.widget-view+json": {
              "model_id": "4c3ff938c1f54f5391061dba4275ab7c",
              "version_major": 2,
              "version_minor": 0
            },
            "text/plain": [
              "VBox(children=(HTML(value='<center> <img\\nsrc=https://huggingface.co/front/assets/huggingface_logo-noborder.sv…"
            ]
          },
          "metadata": {},
          "output_type": "display_data"
        }
      ],
      "source": [
        "from huggingface_hub import notebook_login\n",
        "notebook_login()"
      ]
    },
    {
      "cell_type": "markdown",
      "metadata": {
        "id": "BsTnqx1xM_DT"
      },
      "source": [
        "## 1. Analysing data from EUVSDISINFO website"
      ]
    },
    {
      "cell_type": "markdown",
      "metadata": {
        "id": "YPIT589es32R"
      },
      "source": [
        "After webscapping data from the website we have 9965 rows with fake news or dissinformation and 9 columns:\n",
        "* Date - the date of fake news release\n",
        "* Title - the title of the fake news; headline which summarizes the message, indicating what the disinformation considered to be\n",
        "* URL - web link to the news description\n",
        "* Outlets - news agences from dissinformation originated\n",
        "* Countries - countries mentioned in the fake news\n",
        "* Language - the language of the fake news\n",
        "* Summary - summary of the pro-Kremlin disinformation (fake news) translated into English; currently tha database covers over 20 languages\n",
        "* Disproof - points made by \"EU vs Disinfo\" organization to disproof the disinformation (fake news) using publicly available official documents and statements, academic reports and studies, findings of fact-checkers and reporting of international media. Will be used as true news while training\n",
        "* Keywords - keywords from the fake news"
      ]
    },
    {
      "cell_type": "markdown",
      "metadata": {
        "id": "kXscWRtsWtRd"
      },
      "source": [
        "Read scrapped .csv file from github:"
      ]
    },
    {
      "cell_type": "code",
      "execution_count": 4,
      "metadata": {
        "id": "HDJYMd43s32S"
      },
      "outputs": [],
      "source": [
        "data = pd.read_csv('https://raw.githubusercontent.com/winterForestStump/projects/main/social_media_analytics/disinformation_database.csv')"
      ]
    },
    {
      "cell_type": "markdown",
      "metadata": {
        "id": "fwYxAvhuW-Gm"
      },
      "source": [
        "Drop redundant column and null instancies from the 'Summary' and 'Disproof' columns"
      ]
    },
    {
      "cell_type": "code",
      "execution_count": 5,
      "metadata": {
        "id": "u5X8ePaws32V"
      },
      "outputs": [],
      "source": [
        "data = data.drop(columns=['Unnamed: 0'])\n",
        "data.dropna(subset=['Summary', 'Disproof'], inplace=True)\n",
        "data = data.astype(str)"
      ]
    },
    {
      "cell_type": "code",
      "execution_count": 6,
      "metadata": {
        "colab": {
          "base_uri": "https://localhost:8080/",
          "height": 159
        },
        "id": "_HggYCX0s32X",
        "outputId": "319abd61-2490-4d0f-9fc8-7cbd2d84f74f"
      },
      "outputs": [
        {
          "name": "stdout",
          "output_type": "stream",
          "text": [
            "(9963, 9)\n"
          ]
        },
        {
          "data": {
            "text/html": [
              "\n",
              "  <div id=\"df-422583cb-35ed-42db-8f82-b0f9ba92da1d\">\n",
              "    <div class=\"colab-df-container\">\n",
              "      <div>\n",
              "<style scoped>\n",
              "    .dataframe tbody tr th:only-of-type {\n",
              "        vertical-align: middle;\n",
              "    }\n",
              "\n",
              "    .dataframe tbody tr th {\n",
              "        vertical-align: top;\n",
              "    }\n",
              "\n",
              "    .dataframe thead th {\n",
              "        text-align: right;\n",
              "    }\n",
              "</style>\n",
              "<table border=\"1\" class=\"dataframe\">\n",
              "  <thead>\n",
              "    <tr style=\"text-align: right;\">\n",
              "      <th></th>\n",
              "      <th>Date</th>\n",
              "      <th>Title</th>\n",
              "      <th>URL</th>\n",
              "      <th>Outlets</th>\n",
              "      <th>Countries</th>\n",
              "      <th>Language</th>\n",
              "      <th>Summary</th>\n",
              "      <th>Disproof</th>\n",
              "      <th>Keywords</th>\n",
              "    </tr>\n",
              "  </thead>\n",
              "  <tbody>\n",
              "    <tr>\n",
              "      <th>0</th>\n",
              "      <td>10.05.2023</td>\n",
              "      <td>USSR Victory Banner was raised over the Bundes...</td>\n",
              "      <td>https://euvsdisinfo.eu/report/ussr-victory-ban...</td>\n",
              "      <td>ntv.ru,eadaily.com,Moskovskij Komsomolets,tsar...</td>\n",
              "      <td>Russia,                                       ...</td>\n",
              "      <td>Russian</td>\n",
              "      <td>The Russians took Berlin without firing a shot...</td>\n",
              "      <td>The video is a manipulation. The Red Banner of...</td>\n",
              "      <td>World War 2</td>\n",
              "    </tr>\n",
              "  </tbody>\n",
              "</table>\n",
              "</div>\n",
              "      <button class=\"colab-df-convert\" onclick=\"convertToInteractive('df-422583cb-35ed-42db-8f82-b0f9ba92da1d')\"\n",
              "              title=\"Convert this dataframe to an interactive table.\"\n",
              "              style=\"display:none;\">\n",
              "        \n",
              "  <svg xmlns=\"http://www.w3.org/2000/svg\" height=\"24px\"viewBox=\"0 0 24 24\"\n",
              "       width=\"24px\">\n",
              "    <path d=\"M0 0h24v24H0V0z\" fill=\"none\"/>\n",
              "    <path d=\"M18.56 5.44l.94 2.06.94-2.06 2.06-.94-2.06-.94-.94-2.06-.94 2.06-2.06.94zm-11 1L8.5 8.5l.94-2.06 2.06-.94-2.06-.94L8.5 2.5l-.94 2.06-2.06.94zm10 10l.94 2.06.94-2.06 2.06-.94-2.06-.94-.94-2.06-.94 2.06-2.06.94z\"/><path d=\"M17.41 7.96l-1.37-1.37c-.4-.4-.92-.59-1.43-.59-.52 0-1.04.2-1.43.59L10.3 9.45l-7.72 7.72c-.78.78-.78 2.05 0 2.83L4 21.41c.39.39.9.59 1.41.59.51 0 1.02-.2 1.41-.59l7.78-7.78 2.81-2.81c.8-.78.8-2.07 0-2.86zM5.41 20L4 18.59l7.72-7.72 1.47 1.35L5.41 20z\"/>\n",
              "  </svg>\n",
              "      </button>\n",
              "      \n",
              "  <style>\n",
              "    .colab-df-container {\n",
              "      display:flex;\n",
              "      flex-wrap:wrap;\n",
              "      gap: 12px;\n",
              "    }\n",
              "\n",
              "    .colab-df-convert {\n",
              "      background-color: #E8F0FE;\n",
              "      border: none;\n",
              "      border-radius: 50%;\n",
              "      cursor: pointer;\n",
              "      display: none;\n",
              "      fill: #1967D2;\n",
              "      height: 32px;\n",
              "      padding: 0 0 0 0;\n",
              "      width: 32px;\n",
              "    }\n",
              "\n",
              "    .colab-df-convert:hover {\n",
              "      background-color: #E2EBFA;\n",
              "      box-shadow: 0px 1px 2px rgba(60, 64, 67, 0.3), 0px 1px 3px 1px rgba(60, 64, 67, 0.15);\n",
              "      fill: #174EA6;\n",
              "    }\n",
              "\n",
              "    [theme=dark] .colab-df-convert {\n",
              "      background-color: #3B4455;\n",
              "      fill: #D2E3FC;\n",
              "    }\n",
              "\n",
              "    [theme=dark] .colab-df-convert:hover {\n",
              "      background-color: #434B5C;\n",
              "      box-shadow: 0px 1px 3px 1px rgba(0, 0, 0, 0.15);\n",
              "      filter: drop-shadow(0px 1px 2px rgba(0, 0, 0, 0.3));\n",
              "      fill: #FFFFFF;\n",
              "    }\n",
              "  </style>\n",
              "\n",
              "      <script>\n",
              "        const buttonEl =\n",
              "          document.querySelector('#df-422583cb-35ed-42db-8f82-b0f9ba92da1d button.colab-df-convert');\n",
              "        buttonEl.style.display =\n",
              "          google.colab.kernel.accessAllowed ? 'block' : 'none';\n",
              "\n",
              "        async function convertToInteractive(key) {\n",
              "          const element = document.querySelector('#df-422583cb-35ed-42db-8f82-b0f9ba92da1d');\n",
              "          const dataTable =\n",
              "            await google.colab.kernel.invokeFunction('convertToInteractive',\n",
              "                                                     [key], {});\n",
              "          if (!dataTable) return;\n",
              "\n",
              "          const docLinkHtml = 'Like what you see? Visit the ' +\n",
              "            '<a target=\"_blank\" href=https://colab.research.google.com/notebooks/data_table.ipynb>data table notebook</a>'\n",
              "            + ' to learn more about interactive tables.';\n",
              "          element.innerHTML = '';\n",
              "          dataTable['output_type'] = 'display_data';\n",
              "          await google.colab.output.renderOutput(dataTable, element);\n",
              "          const docLink = document.createElement('div');\n",
              "          docLink.innerHTML = docLinkHtml;\n",
              "          element.appendChild(docLink);\n",
              "        }\n",
              "      </script>\n",
              "    </div>\n",
              "  </div>\n",
              "  "
            ],
            "text/plain": [
              "         Date                                              Title  \\\n",
              "0  10.05.2023  USSR Victory Banner was raised over the Bundes...   \n",
              "\n",
              "                                                 URL  \\\n",
              "0  https://euvsdisinfo.eu/report/ussr-victory-ban...   \n",
              "\n",
              "                                             Outlets  \\\n",
              "0  ntv.ru,eadaily.com,Moskovskij Komsomolets,tsar...   \n",
              "\n",
              "                                           Countries Language  \\\n",
              "0  Russia,                                       ...  Russian   \n",
              "\n",
              "                                             Summary  \\\n",
              "0  The Russians took Berlin without firing a shot...   \n",
              "\n",
              "                                            Disproof     Keywords  \n",
              "0  The video is a manipulation. The Red Banner of...  World War 2  "
            ]
          },
          "execution_count": 6,
          "metadata": {},
          "output_type": "execute_result"
        }
      ],
      "source": [
        "print(data.shape)\n",
        "data.head(1)"
      ]
    },
    {
      "cell_type": "markdown",
      "metadata": {
        "id": "IWU0esCGXNnL"
      },
      "source": [
        "We have 9963 rows with fake news in 'Summary' column and 9963 rows with true news in 'Disproof' column. The texts from column 'Summary' are summaries of the fake news translated into English.\n",
        "\n",
        "EUvsDisinfo highlights examples of disinformation messages unless the context clearly states that the claim is untrue. This e.g. means that clearly labelled satire does not included. Disinformation cases can, however, appear in the context of e.g. a televised talk show discussion where competing opinions are also made available: When the context of a clear disinformation message legitimises it as a relevant “opinion” – even if it is part of a “mix” of different points of view – project considers the case to be of relevance to reporting.\n",
        "\n",
        "The EUvsDisinfo database includes “disproofs”, which explain the components that make a certain claim disinformation, i.e. verifiably false or misleading information that is created, presented and disseminated for economic gain or to intentionally deceive the public, and may cause public harm."
      ]
    },
    {
      "cell_type": "markdown",
      "metadata": {
        "id": "yXFlBU1oXssV"
      },
      "source": [
        "Data description:"
      ]
    },
    {
      "cell_type": "code",
      "execution_count": 7,
      "metadata": {
        "colab": {
          "base_uri": "https://localhost:8080/"
        },
        "id": "zxzbRzQVs32a",
        "outputId": "a4bd543f-17dd-4f53-e7c5-450329720ab3"
      },
      "outputs": [
        {
          "name": "stdout",
          "output_type": "stream",
          "text": [
            "<class 'pandas.core.frame.DataFrame'>\n",
            "Int64Index: 9963 entries, 0 to 9964\n",
            "Data columns (total 9 columns):\n",
            " #   Column     Non-Null Count  Dtype \n",
            "---  ------     --------------  ----- \n",
            " 0   Date       9963 non-null   object\n",
            " 1   Title      9963 non-null   object\n",
            " 2   URL        9963 non-null   object\n",
            " 3   Outlets    9963 non-null   object\n",
            " 4   Countries  9963 non-null   object\n",
            " 5   Language   9963 non-null   object\n",
            " 6   Summary    9963 non-null   object\n",
            " 7   Disproof   9963 non-null   object\n",
            " 8   Keywords   9963 non-null   object\n",
            "dtypes: object(9)\n",
            "memory usage: 778.4+ KB\n"
          ]
        }
      ],
      "source": [
        "data.info()"
      ]
    },
    {
      "cell_type": "markdown",
      "metadata": {
        "id": "jSyXDmMUXvfG"
      },
      "source": [
        "No missing data, all values are text objects"
      ]
    },
    {
      "cell_type": "markdown",
      "metadata": {
        "id": "nwSisj3UeeZh"
      },
      "source": [
        "Plotting a time series of the fake news publishing frequencies"
      ]
    },
    {
      "cell_type": "code",
      "execution_count": 8,
      "metadata": {
        "colab": {
          "base_uri": "https://localhost:8080/",
          "height": 447
        },
        "id": "40YZA2NCs32c",
        "outputId": "34b46c31-dada-45d3-8635-1bb0681596e9"
      },
      "outputs": [
        {
          "data": {
            "image/png": "[encoded data removed]",
            "text/plain": [
              "<Figure size 1100x400 with 1 Axes>"
            ]
          },
          "metadata": {},
          "output_type": "display_data"
        }
      ],
      "source": [
        "data['Date'] = pd.to_datetime(data['Date'], format='%d.%m.%Y')\n",
        "date_counts = data['Date'].value_counts().sort_index() #count the frequency of each date\n",
        "fig, ax = plt.subplots(figsize=(11, 4))\n",
        "plt.plot(date_counts.index, date_counts.values)\n",
        "plt.xlabel('Date')\n",
        "plt.ylabel('Frequency')\n",
        "plt.title('Date Frequency Time Series')\n",
        "plt.xticks(rotation=45) #for better visibility\n",
        "plt.show()"
      ]
    },
    {
      "cell_type": "markdown",
      "metadata": {
        "id": "oBVIQpMZfT-M"
      },
      "source": [
        "`Countries` column contains information about the countries in the articles:"
      ]
    },
    {
      "cell_type": "code",
      "execution_count": 9,
      "metadata": {
        "colab": {
          "base_uri": "https://localhost:8080/"
        },
        "id": "uSihUQ7Es32e",
        "outputId": "421f2666-3f5f-409a-89e2-6cbfce99669d"
      },
      "outputs": [
        {
          "data": {
            "text/plain": [
              "Ukraine, Russia                                         9.715949\n",
              "Ukraine                                                 7.266887\n",
              "Russia                                                  5.249423\n",
              "US                                                      4.727492\n",
              "US, Russia                                              3.131587\n",
              "                                                          ...   \n",
              "Belarus, Poland, Ukraine, Germany, Lithuania, Latvia    0.010037\n",
              "Russia, Germany, UK                                     0.010037\n",
              "Ukraine, Russia, France, Germany, EU                    0.010037\n",
              "Russia, US, EU, Moldova, Belarus, Ukraine               0.010037\n",
              "Iran, Germany                                           0.010037\n",
              "Name: Countries, Length: 2175, dtype: float64"
            ]
          },
          "execution_count": 9,
          "metadata": {},
          "output_type": "execute_result"
        }
      ],
      "source": [
        "data['Countries'] = data['Countries'].str.replace(r'\\s+', ' ', regex=True)\n",
        "data['Countries'].value_counts(normalize=True)*100"
      ]
    },
    {
      "cell_type": "markdown",
      "metadata": {
        "id": "8n2tNMDYij1Q"
      },
      "source": [
        "Some of the articles contain multiple country names. In order to calculate the distribution of fake news by country, we need to make some changes:"
      ]
    },
    {
      "cell_type": "code",
      "execution_count": 10,
      "metadata": {
        "colab": {
          "base_uri": "https://localhost:8080/"
        },
        "id": "-pX5d7XSs32f",
        "outputId": "d9353bfc-c2f5-4f9b-d441-68bd20476991"
      },
      "outputs": [
        {
          "data": {
            "text/plain": [
              "Russia     24.139120\n",
              "Ukraine    17.752015\n",
              "US         14.726544\n",
              "EU          5.981985\n",
              "Poland      4.421842\n",
              "dtype: float64"
            ]
          },
          "execution_count": 10,
          "metadata": {},
          "output_type": "execute_result"
        }
      ],
      "source": [
        "countries_df = pd.DataFrame(data['Countries'].str.split(',').tolist()).stack().reset_index(level=1, drop=True) #new DataFrame to store the individual countries\n",
        "countries_df = countries_df.str.strip()\n",
        "countries_df.value_counts(normalize=True).head(5)*100 #count the frequency of each country in %"
      ]
    },
    {
      "cell_type": "markdown",
      "metadata": {
        "id": "6NdQBdwtiucC"
      },
      "source": [
        "Top-5 the most popular countries (regions) in fake news articles are: Russia, Ukraine, US, EU, Poland"
      ]
    },
    {
      "cell_type": "markdown",
      "metadata": {
        "id": "IqqueMszjWh3"
      },
      "source": [
        "Top-15 regions from fake news:"
      ]
    },
    {
      "cell_type": "code",
      "execution_count": 11,
      "metadata": {
        "colab": {
          "base_uri": "https://localhost:8080/",
          "height": 487
        },
        "id": "WtfMN8M4s32h",
        "outputId": "159c3513-374d-4975-f545-c4b2a8004b46"
      },
      "outputs": [
        {
          "data": {
            "image/png": "[encoded data removed]",
            "text/plain": [
              "<Figure size 640x480 with 1 Axes>"
            ]
          },
          "metadata": {},
          "output_type": "display_data"
        }
      ],
      "source": [
        "country_counts = countries_df.value_counts().head(15)\n",
        "country_counts = country_counts.iloc[::-1]\n",
        "plt.barh(country_counts.index, country_counts.values)\n",
        "plt.xlabel('Frequency')\n",
        "plt.ylabel('Country')\n",
        "plt.title('Top 15 Countries')\n",
        "plt.tight_layout()\n",
        "plt.show()"
      ]
    },
    {
      "cell_type": "markdown",
      "metadata": {
        "id": "8EJUTg5TjbWv"
      },
      "source": [
        "Some articles are translated in English from foreign languages. We can look at the original languages of the fake articles:"
      ]
    },
    {
      "cell_type": "code",
      "execution_count": 12,
      "metadata": {
        "colab": {
          "base_uri": "https://localhost:8080/"
        },
        "id": "nieIOVzYs32k",
        "outputId": "938d868b-1638-4cdc-81dc-fb6f93032c43"
      },
      "outputs": [
        {
          "data": {
            "text/plain": [
              "Outlet language(s)\\n                    Russian    23.900140\n",
              "Russian                                            16.881983\n",
              "Outlet language(s)\\n                    Arabic      4.556564\n",
              "Arabic                                              4.155028\n",
              "English                                             3.648743\n",
              "dtype: float64"
            ]
          },
          "execution_count": 12,
          "metadata": {},
          "output_type": "execute_result"
        }
      ],
      "source": [
        "languages_df = pd.DataFrame(data['Language'].str.split(',').tolist()).stack().reset_index(level=1, drop=True) #new DataFrame to store the individual languages\n",
        "languages_df = languages_df.str.strip()\n",
        "languages_df.value_counts(normalize=True).head(5)*100 #count the frequency of each country"
      ]
    },
    {
      "cell_type": "markdown",
      "metadata": {
        "id": "G4VP-7z4nFk6"
      },
      "source": [
        "Top 5 the most popular article languages: Russian, Arabic, English, Spanish, Polish"
      ]
    },
    {
      "cell_type": "markdown",
      "metadata": {
        "id": "jGuTBaPJnQUk"
      },
      "source": [
        "Top 15 languages:"
      ]
    },
    {
      "cell_type": "code",
      "execution_count": 13,
      "metadata": {
        "colab": {
          "base_uri": "https://localhost:8080/",
          "height": 487
        },
        "id": "8eZ0fyrss32l",
        "outputId": "4f70883f-5540-4abe-fba7-bacaea345637"
      },
      "outputs": [
        {
          "data": {
            "image/png": "[encoded data removed]",
            "text/plain": [
              "<Figure size 640x480 with 1 Axes>"
            ]
          },
          "metadata": {},
          "output_type": "display_data"
        }
      ],
      "source": [
        "languages_counts = languages_df.value_counts().head(15)\n",
        "languages_counts = languages_counts.iloc[::-1]\n",
        "plt.barh(languages_counts.index, languages_counts.values)\n",
        "plt.xlabel('Frequency')\n",
        "plt.ylabel('Language')\n",
        "plt.title('Top 15 Languages')\n",
        "plt.tight_layout()\n",
        "plt.show()"
      ]
    },
    {
      "cell_type": "markdown",
      "metadata": {
        "id": "XM6ivo2ns32m"
      },
      "source": [
        "Most of the articles are in Russian - 41%. German language is also popular"
      ]
    },
    {
      "cell_type": "markdown",
      "metadata": {
        "id": "_l2Bo2s8s32o"
      },
      "source": [
        "## 2. Doc2Vec"
      ]
    },
    {
      "cell_type": "markdown",
      "metadata": {
        "id": "wdlephcarxlt"
      },
      "source": [
        "Doc2Vec is an extension of the Word2Vec model and is specifically designed for generating fixed-length vector representations (embeddings) for larger pieces of text, such as documents, paragraphs, or sentences. The main idea behind Doc2Vec is to capture the semantic meaning and contextual information of a piece of text by training a neural network to predict words in the context of a document. The training process involves learning vector representations for both words and documents simultaneously.\n",
        "\n",
        "We will try Doc2Vec to work with corpus for semantic meaning."
      ]
    },
    {
      "cell_type": "code",
      "execution_count": 14,
      "metadata": {
        "id": "pP5oDOU_s32p"
      },
      "outputs": [],
      "source": [
        "#function for text preprocessing: case lower\n",
        "def clean_document(doc):\n",
        "    doc = doc.lower()\n",
        "    return doc\n",
        "#applying the preprocessing function to the column with fake news\n",
        "data[\"Summary_norm\"] = data.Summary.apply(clean_document)"
      ]
    },
    {
      "cell_type": "code",
      "execution_count": 15,
      "metadata": {
        "colab": {
          "base_uri": "https://localhost:8080/"
        },
        "id": "lsIic4jSs32q",
        "outputId": "66ed01bb-4c08-448d-82c0-e2fb726406d9"
      },
      "outputs": [
        {
          "data": {
            "text/plain": [
              "(7970, 1993)"
            ]
          },
          "execution_count": 15,
          "metadata": {},
          "output_type": "execute_result"
        }
      ],
      "source": [
        "#split dataset into train and test sets\n",
        "train_data, test_data = train_test_split(data.Summary_norm, test_size=0.2, random_state=42)\n",
        "len(train_data), len(test_data)"
      ]
    },
    {
      "cell_type": "markdown",
      "metadata": {
        "id": "sf6fTE0cp9A-"
      },
      "source": [
        "7970 train instances, 1993 test instances"
      ]
    },
    {
      "cell_type": "code",
      "execution_count": 16,
      "metadata": {
        "id": "cb3yFl_ks32r"
      },
      "outputs": [],
      "source": [
        "#tokenize the text using simple_preprocess and create TaggedDocuments\n",
        "train_tagged_data = [TaggedDocument(words=simple_preprocess(text), tags=[i]) for i, text in enumerate(train_data)]\n",
        "test_tagged_data = [gensim.utils.simple_preprocess(str(i[1])) for i in enumerate(test_data)]"
      ]
    },
    {
      "cell_type": "code",
      "execution_count": 17,
      "metadata": {
        "id": "4fKukuVks32s"
      },
      "outputs": [],
      "source": [
        "# Train the Doc2Vec model\n",
        "model = Doc2Vec(vector_size=512, epochs=10, seed=1, workers=1)\n",
        "model.build_vocab(train_tagged_data)\n",
        "model.train(train_tagged_data, total_examples=model.corpus_count, epochs=model.epochs)"
      ]
    },
    {
      "cell_type": "code",
      "execution_count": 18,
      "metadata": {
        "id": "LnuxCjcgs32t"
      },
      "outputs": [],
      "source": [
        "ranks = []\n",
        "second_ranks = []\n",
        "for doc_id in range(len(train_tagged_data)):\n",
        "    inferred_vector = model.infer_vector(train_tagged_data[doc_id].words)\n",
        "    sims = model.dv.most_similar([inferred_vector], topn=len(model.dv))\n",
        "    rank = [docid for docid, sim in sims].index(doc_id)\n",
        "    ranks.append(rank)\n",
        "\n",
        "    second_ranks.append(sims[1])"
      ]
    },
    {
      "cell_type": "code",
      "execution_count": 19,
      "metadata": {
        "colab": {
          "base_uri": "https://localhost:8080/"
        },
        "id": "hUmzfa29s32t",
        "outputId": "b9d9ab78-a623-4cd1-819c-be69bf6c9fa6"
      },
      "outputs": [
        {
          "name": "stdout",
          "output_type": "stream",
          "text": [
            "Counter({0: 7499, 1: 135, 2: 56, 3: 28, 5: 24, 6: 16, 4: 16, 7: 14, 13: 10, 8: 8, 12: 6, 9: 6, 11: 6, 17: 5, 36: 4, 15: 4, 10: 4, 20: 3, 33: 3, 26: 3, 16: 3, 63: 3, 39: 3, 32: 2, 22: 2, 18: 2, 48: 2, 95: 2, 35: 2, 31: 2, 99: 2, 14: 2, 34: 2, 49: 2, 24: 2, 867: 1, 547: 1, 376: 1, 69: 1, 210: 1, 113: 1, 44: 1, 247: 1, 663: 1, 297: 1, 28: 1, 177: 1, 66: 1, 23: 1, 70: 1, 97: 1, 87: 1, 3112: 1, 383: 1, 195: 1, 166: 1, 80: 1, 75: 1, 620: 1, 473: 1, 3679: 1, 64: 1, 1194: 1, 3703: 1, 62: 1, 388: 1, 399: 1, 239: 1, 387: 1, 424: 1, 19: 1, 37: 1, 857: 1, 272: 1, 45: 1, 385: 1, 65: 1, 278: 1, 427: 1, 187: 1, 144: 1, 21: 1, 27: 1, 123: 1, 487: 1, 900: 1, 1251: 1, 25: 1, 140: 1, 381: 1, 52: 1, 42: 1, 149: 1, 1377: 1, 2179: 1, 207: 1, 191: 1, 554: 1, 211: 1, 320: 1, 2618: 1, 2181: 1, 435: 1, 3479: 1, 306: 1, 84: 1, 118: 1, 77: 1, 56: 1, 249: 1, 3652: 1, 286: 1, 246: 1, 256: 1, 264: 1, 165: 1, 879: 1, 38: 1, 397: 1, 3080: 1, 85: 1, 60: 1})\n"
          ]
        }
      ],
      "source": [
        "counter = collections.Counter(ranks)\n",
        "print(counter)"
      ]
    },
    {
      "cell_type": "code",
      "execution_count": 20,
      "metadata": {
        "id": "N2B4wi2Bs32v"
      },
      "outputs": [],
      "source": [
        "dis = data.Summary"
      ]
    },
    {
      "cell_type": "code",
      "execution_count": 21,
      "metadata": {
        "colab": {
          "base_uri": "https://localhost:8080/"
        },
        "id": "_Tur7ovbs32v",
        "outputId": "d395babd-9de2-4b75-e682-a54886799090"
      },
      "outputs": [
        {
          "name": "stdout",
          "output_type": "stream",
          "text": [
            "Document (7969): «the western media ignores the fact that the usage of high dosage of vitamin saved lives in china the mainstream media in cahoots with governments and the medical establishment are suppressing any news regarding the use of cheap safe and easy to produce treatment for coronavirus patients maybe its because this treatment is being used in chinese hospitals to save lives as the global death toll soars higher we can only hope that more and more doctors will follow in the footsteps of their chinese colleagues and have the courage to use safe and cheap treatment that is totally at odds with the big pharma approach currently followed by the world health organisation and most governments the current approach used by many western governments has been slow clumsy and ill informed putting the interests of big business above saving the lives of ordinary people»\n",
            "\n",
            "SIMILAR/DISSIMILAR DOCS PER MODEL Doc2Vec<dm/m,d512,n5,w5,mc5,s0.001>:\n",
            "\n",
            "MOST (7969, 0.8929998278617859): «the western media ignores the fact that the usage of high dosage of vitamin saved lives in china the mainstream media in cahoots with governments and the medical establishment are suppressing any news regarding the use of cheap safe and easy to produce treatment for coronavirus patients maybe its because this treatment is being used in chinese hospitals to save lives as the global death toll soars higher we can only hope that more and more doctors will follow in the footsteps of their chinese colleagues and have the courage to use safe and cheap treatment that is totally at odds with the big pharma approach currently followed by the world health organisation and most governments the current approach used by many western governments has been slow clumsy and ill informed putting the interests of big business above saving the lives of ordinary people»\n",
            "\n",
            "SECOND-MOST (2300, 0.8203899264335632): «there is no certainty that this new coronavirus called covid is any more dangerous than any other virus in the past but the ruling class and their minions in the mainstream media and beyond are screaming at the top of their lungs that this is the scourge of mankind and that tens of millions of americans will become infected and that millions might die this is being promulgated by government at every level by so called national and world health organizations and by complicit media that seemingly does as it is told by those holding political power this is being done regardless of the fact that no one knows much about this so called virus knows little or nothing about its true origin and knows little about its mutations also politicians claimed authorities and alleged experts are in the dark as to how particular cultures have been more susceptible than others and are unwilling to discuss that the probable cause of this is due to man made strain created in bio weapons lab even though preponderance of evidence points in that direction all possibilities should be discussed has all this panic been planned the impending economic collapse caused by the federal reserve and its massive money printing is most likely going to be falsely blamed on the coronavirus so what is the connection was this virus created for the purpose of covering up responsibility for an economic meltdown was it created to harm the economy of china and iran if not is it being purposely used for these purposes is population control due to all these factors mentioned sought by the ruling class and is this virus the impetus for gaining that control»\n",
            "\n",
            "MEDIAN (6241, 0.3484646677970886): «relations between russia and the us led nato have been tense lately due to the alliance increased military presence near the russian border under the pretext of protecting ukraine from potential russian threat the united states and western countries accuse russia of preparing military attack on ukraine which moscow has denied on several occasions believing that the accusations are pretext for nato to expand its military presence near ukraine»\n",
            "\n",
            "LEAST (7930, -0.39106979966163635): «zelenskyy is trying to tear crimea away from russia in order to hand it along with the kherson region to erdogan»\n",
            "\n"
          ]
        }
      ],
      "source": [
        "print('Document ({}): «{}»\\n'.format(doc_id, ' '.join(train_tagged_data[doc_id].words)))\n",
        "print(u'SIMILAR/DISSIMILAR DOCS PER MODEL %s:\\n' % model)\n",
        "for label, index in [('MOST', 0), ('SECOND-MOST', 1), ('MEDIAN', len(sims)//2), ('LEAST', len(sims) - 1)]:\n",
        "    print(u'%s %s: «%s»\\n' % (label, sims[index], ' '.join(train_tagged_data[sims[index][0]].words)))"
      ]
    },
    {
      "cell_type": "markdown",
      "metadata": {
        "id": "8kZ4ON0W3ws-"
      },
      "source": [
        "Not surprisingly, the most similar text is the same text document. The second-most document has the same topic. The median and least similar documents are much sepparate from the initial text"
      ]
    },
    {
      "cell_type": "code",
      "execution_count": 22,
      "metadata": {
        "colab": {
          "base_uri": "https://localhost:8080/"
        },
        "id": "w31ahGq0s32w",
        "outputId": "b5732848-96cb-4384-f369-bddefeecfa90"
      },
      "outputs": [
        {
          "name": "stdout",
          "output_type": "stream",
          "text": [
            "Train Document (2750): «today ukraine is not only an anti russian but also an anti european project it is obvious the americans have much more instruments of influence on ukraine than europe has»\n",
            "\n",
            "Similar Document (1775, 0.7736256718635559): «poland has difficult relations with the eu countries for poland it is important to have approval primarily from the united states it is no coincidence that military cooperation between poland and the united states intensified poland seeks to take the position that west germany took in europe during the cold war the position of the main us outpost in its aggressive policy towards russia»\n",
            "\n"
          ]
        }
      ],
      "source": [
        "# Pick a random document from the corpus and infer a vector from the model\n",
        "doc_id = random.randint(0, len(train_tagged_data) - 1)\n",
        "\n",
        "# Compare and print the second-most-similar document\n",
        "print('Train Document ({}): «{}»\\n'.format(doc_id, ' '.join(train_tagged_data[doc_id].words)))\n",
        "sim_id = second_ranks[doc_id]\n",
        "print('Similar Document {}: «{}»\\n'.format(sim_id, ' '.join(train_tagged_data[sim_id[0]].words)))"
      ]
    },
    {
      "cell_type": "markdown",
      "metadata": {
        "id": "uo3BLnVAxN73"
      },
      "source": [
        "Testing the Model"
      ]
    },
    {
      "cell_type": "code",
      "execution_count": 23,
      "metadata": {
        "colab": {
          "base_uri": "https://localhost:8080/"
        },
        "id": "X2ce7MWzs32y",
        "outputId": "caa68613-c0a9-43f9-deb0-1f70ad1b8555"
      },
      "outputs": [
        {
          "name": "stdout",
          "output_type": "stream",
          "text": [
            "Test Document (267): «in kazakhstan similarly to ukraine belarus and georgia the west sponsored typical colour revolution for geopolitical purposes»\n",
            "\n",
            "SIMILAR/DISSIMILAR DOCS PER MODEL Doc2Vec<dm/m,d512,n5,w5,mc5,s0.001>:\n",
            "\n",
            "MOST (13, 0.8071200847625732): «nato is deliberately worsening the situation in kosovo to blackmail serbia the west through nato countries is trying to exacerbate conflict between pristina and belgrade to benefit from the situation promoting chaos in the same way as before the maidan square coup this alert could be artificially fabricated by nato countries for serbia to change its political line towards what the west expects»\n",
            "\n",
            "MEDIAN (6539, 0.38439974188804626): «we can see revision of history today as the european parliament passed resolution claiming that ussr is responsible for the start of wwii just like nazi germany however the nuremberg tribunal showed who was really responsible the lessons of nuremberg are forgotten because the us imagines itself to be the world police and an exceptional nation which is in accordance with hitler ideas about german superiority and predisposition to govern others the us does not want to point at nuremberg because even though the main aggressors were nazis the west is also partly responsible for pushing germany into the hands of the soviet union»\n",
            "\n",
            "LEAST (4552, -0.45934048295021057): «the death of about pro russian activists in odesa on may is blamed on ukraine post maidan authorities the investigation is very slow the prescriptive period will expire soon but perpetrators are still at large»\n",
            "\n"
          ]
        }
      ],
      "source": [
        "# Pick a random document from the test corpus and infer a vector from the model\n",
        "doc_id = random.randint(0, len(test_tagged_data) - 1)\n",
        "inferred_vector = model.infer_vector(test_tagged_data[doc_id])\n",
        "sims = model.dv.most_similar([inferred_vector], topn=len(model.dv))\n",
        "\n",
        "# Compare and print the most/median/least similar documents from the train corpus\n",
        "print('Test Document ({}): «{}»\\n'.format(doc_id, ' '.join(test_tagged_data[doc_id])))\n",
        "print(u'SIMILAR/DISSIMILAR DOCS PER MODEL %s:\\n' % model)\n",
        "for label, index in [('MOST', 0), ('MEDIAN', len(sims)//2), ('LEAST', len(sims) - 1)]:\n",
        "    print(u'%s %s: «%s»\\n' % (label, sims[index], ' '.join(train_tagged_data[sims[index][0]].words)))"
      ]
    },
    {
      "cell_type": "markdown",
      "metadata": {
        "id": "XQTWnz1LtBpA"
      },
      "source": [
        "Doc2Vec has been widely used in natural language processing (NLP) tasks where capturing the semantic meaning of larger text units is crucial. But Doc2Vec has several limitations, and Transformers models can address some of these shortcomings. Here are some disadvantages of Doc2Vec and how Transformers models offer solutions:\n",
        "\n",
        "* 1) Lack of contextual information. Doc2Vec treats each document as a single fixed vector representation, disregarding the contextual information within the document. This limitation can affect the model's ability to capture fine-grained nuances and dependencies within the text. In contrast, Transformers models, such as BERT (Bidirectional Encoder Representations from Transformers), leverage self-attention mechanisms to capture contextual information at the word or subword level. This allows Transformers models to better understand the meaning and relationships within a document.\n",
        "\n",
        "* 2) Limited vocabulary coverage: Doc2Vec relies on a pre-defined vocabulary, and out-of-vocabulary words are usually handled as unknown tokens. This limitation can be problematic for rare or domain-specific words that may not be adequately represented in the training data. Transformers models, on the other hand, employ subword tokenization, such as Byte-Pair Encoding (BPE), which can handle out-of-vocabulary words by breaking them down into subword units. This enables Transformers models to handle a much larger vocabulary and effectively represent rare or unseen words.\n",
        "\n",
        "* 3) Lack of transparency and interpretability: Doc2Vec provides vector embeddings for documents, but it can be challenging to interpret the underlying factors contributing to the embeddings. Transformers models, particularly those with attention mechanisms, offer more interpretability by providing attention weights that indicate the importance of different parts of the input text. These attention weights can help understand which words or phrases contribute more to the model's predictions.\n",
        "\n",
        "* 4) Difficulty in updating embeddings: Once trained, Doc2Vec embeddings are typically static and cannot be easily updated with new data. Transformers models, however, can be fine-tuned on new data to adapt the embeddings to specific domains or tasks. This flexibility allows Transformers models to continually learn from new information and improve their representations.\n",
        "\n",
        "Overall, while Doc2Vec has its limitations, Transformers models address some of these drawbacks by incorporating contextual information, handling out-of-vocabulary words, leveraging large-scale pre-training, providing interpretability, and allowing for fine-tuning on specific tasks. These advantages make Transformers models a powerful choice for various NLP applications."
      ]
    },
    {
      "cell_type": "markdown",
      "metadata": {
        "id": "rLKtg0DHs32z"
      },
      "source": [
        "## 3. Tranformers\n"
      ]
    },
    {
      "cell_type": "markdown",
      "metadata": {
        "id": "BTP67oqHs32z"
      },
      "source": [
        "The Roberta transformer model offers several advantages for text classification tasks, including fake news recognition. Some of the pros of using the Roberta transformer model are:\n",
        "\n",
        "Pre-trained Language Representation: The Roberta model is pre-trained on a massive amount of text data, including a vast range of domains and languages. This pre-training allows the model to capture rich semantic and contextual information, enabling it to understand complex language patterns and nuances.\n",
        "\n",
        "Transformer Architecture: The Roberta model is based on the Transformer architecture, which incorporates self-attention mechanisms. This architecture allows the model to consider the relationships between all words in a sentence, capturing long-range dependencies and improving its ability to understand the context.\n",
        "\n",
        "Large Model Size: The Roberta model is trained on a large-scale dataset and has a large number of parameters, making it capable of capturing fine-grained details in text. This enables the model to learn more intricate patterns and representations, enhancing its performance in various text classification tasks.\n",
        "\n",
        "Transfer Learning: Due to its pre-training, the Roberta model can be fine-tuned on specific downstream tasks, such as fake news recognition. Fine-tuning involves training the model on a smaller, task-specific dataset to adapt it to the specific classification task at hand. Transfer learning with the Roberta model allows for quicker convergence and better performance, especially when labeled data for the specific task is limited.\n",
        "\n",
        "State-of-the-Art Performance: The Roberta model has achieved state-of-the-art performance on various natural language processing benchmarks and competitions. It has demonstrated excellent results in tasks like sentiment analysis, named entity recognition, and text classification. Its strong performance makes it a reliable choice for fake news recognition, where accurate classification is crucial.\n",
        "\n",
        "Multilingual Support: The Roberta model can handle multiple languages effectively. It has been trained on diverse language sources, enabling it to understand and classify text in different languages. This flexibility is particularly advantageous for fake news detection, as disinformation can originate from various regions and in multiple languages.\n",
        "\n",
        "Overall, the Roberta transformer model's pre-training, transformer architecture, large model size, transfer learning capabilities, state-of-the-art performance, and multilingual support make it a powerful choice for text classification tasks, including fake news recognition."
      ]
    },
    {
      "cell_type": "markdown",
      "metadata": {
        "id": "IbvpwKypTeXe"
      },
      "source": [
        "#### Creating a dataset"
      ]
    },
    {
      "cell_type": "markdown",
      "metadata": {
        "id": "jQXRqnvuTA4q"
      },
      "source": [
        "Now we will create a `fake` dataframe with column of fake news and a column `True` indicating the label of the news: `0` - fake news, `1` - true news.\n",
        "\n",
        "For now we will use only a part of the initial dataset with 4000 rows of fake news"
      ]
    },
    {
      "cell_type": "code",
      "execution_count": 24,
      "metadata": {
        "colab": {
          "base_uri": "https://localhost:8080/",
          "height": 223
        },
        "id": "SgvGdf8Fs321",
        "outputId": "a924295c-6303-47a7-fa47-da66e939164f"
      },
      "outputs": [
        {
          "name": "stdout",
          "output_type": "stream",
          "text": [
            "(4000, 2)\n"
          ]
        },
        {
          "data": {
            "text/html": [
              "\n",
              "  <div id=\"df-c5f9414a-f873-485f-9e69-96570a6d99cf\">\n",
              "    <div class=\"colab-df-container\">\n",
              "      <div>\n",
              "<style scoped>\n",
              "    .dataframe tbody tr th:only-of-type {\n",
              "        vertical-align: middle;\n",
              "    }\n",
              "\n",
              "    .dataframe tbody tr th {\n",
              "        vertical-align: top;\n",
              "    }\n",
              "\n",
              "    .dataframe thead th {\n",
              "        text-align: right;\n",
              "    }\n",
              "</style>\n",
              "<table border=\"1\" class=\"dataframe\">\n",
              "  <thead>\n",
              "    <tr style=\"text-align: right;\">\n",
              "      <th></th>\n",
              "      <th>Summary</th>\n",
              "      <th>True</th>\n",
              "    </tr>\n",
              "  </thead>\n",
              "  <tbody>\n",
              "    <tr>\n",
              "      <th>0</th>\n",
              "      <td>Since last autumn, the Ukrainian Orthodox Chur...</td>\n",
              "      <td>0</td>\n",
              "    </tr>\n",
              "    <tr>\n",
              "      <th>1</th>\n",
              "      <td>Vilnius wants to be the centre for the Belarus...</td>\n",
              "      <td>0</td>\n",
              "    </tr>\n",
              "    <tr>\n",
              "      <th>2</th>\n",
              "      <td>The special military operation opened the way ...</td>\n",
              "      <td>0</td>\n",
              "    </tr>\n",
              "    <tr>\n",
              "      <th>3</th>\n",
              "      <td>Ukraine is already waste material for the West...</td>\n",
              "      <td>0</td>\n",
              "    </tr>\n",
              "    <tr>\n",
              "      <th>4</th>\n",
              "      <td>Crimea became a Russian region after a referen...</td>\n",
              "      <td>0</td>\n",
              "    </tr>\n",
              "  </tbody>\n",
              "</table>\n",
              "</div>\n",
              "      <button class=\"colab-df-convert\" onclick=\"convertToInteractive('df-c5f9414a-f873-485f-9e69-96570a6d99cf')\"\n",
              "              title=\"Convert this dataframe to an interactive table.\"\n",
              "              style=\"display:none;\">\n",
              "        \n",
              "  <svg xmlns=\"http://www.w3.org/2000/svg\" height=\"24px\"viewBox=\"0 0 24 24\"\n",
              "       width=\"24px\">\n",
              "    <path d=\"M0 0h24v24H0V0z\" fill=\"none\"/>\n",
              "    <path d=\"M18.56 5.44l.94 2.06.94-2.06 2.06-.94-2.06-.94-.94-2.06-.94 2.06-2.06.94zm-11 1L8.5 8.5l.94-2.06 2.06-.94-2.06-.94L8.5 2.5l-.94 2.06-2.06.94zm10 10l.94 2.06.94-2.06 2.06-.94-2.06-.94-.94-2.06-.94 2.06-2.06.94z\"/><path d=\"M17.41 7.96l-1.37-1.37c-.4-.4-.92-.59-1.43-.59-.52 0-1.04.2-1.43.59L10.3 9.45l-7.72 7.72c-.78.78-.78 2.05 0 2.83L4 21.41c.39.39.9.59 1.41.59.51 0 1.02-.2 1.41-.59l7.78-7.78 2.81-2.81c.8-.78.8-2.07 0-2.86zM5.41 20L4 18.59l7.72-7.72 1.47 1.35L5.41 20z\"/>\n",
              "  </svg>\n",
              "      </button>\n",
              "      \n",
              "  <style>\n",
              "    .colab-df-container {\n",
              "      display:flex;\n",
              "      flex-wrap:wrap;\n",
              "      gap: 12px;\n",
              "    }\n",
              "\n",
              "    .colab-df-convert {\n",
              "      background-color: #E8F0FE;\n",
              "      border: none;\n",
              "      border-radius: 50%;\n",
              "      cursor: pointer;\n",
              "      display: none;\n",
              "      fill: #1967D2;\n",
              "      height: 32px;\n",
              "      padding: 0 0 0 0;\n",
              "      width: 32px;\n",
              "    }\n",
              "\n",
              "    .colab-df-convert:hover {\n",
              "      background-color: #E2EBFA;\n",
              "      box-shadow: 0px 1px 2px rgba(60, 64, 67, 0.3), 0px 1px 3px 1px rgba(60, 64, 67, 0.15);\n",
              "      fill: #174EA6;\n",
              "    }\n",
              "\n",
              "    [theme=dark] .colab-df-convert {\n",
              "      background-color: #3B4455;\n",
              "      fill: #D2E3FC;\n",
              "    }\n",
              "\n",
              "    [theme=dark] .colab-df-convert:hover {\n",
              "      background-color: #434B5C;\n",
              "      box-shadow: 0px 1px 3px 1px rgba(0, 0, 0, 0.15);\n",
              "      filter: drop-shadow(0px 1px 2px rgba(0, 0, 0, 0.3));\n",
              "      fill: #FFFFFF;\n",
              "    }\n",
              "  </style>\n",
              "\n",
              "      <script>\n",
              "        const buttonEl =\n",
              "          document.querySelector('#df-c5f9414a-f873-485f-9e69-96570a6d99cf button.colab-df-convert');\n",
              "        buttonEl.style.display =\n",
              "          google.colab.kernel.accessAllowed ? 'block' : 'none';\n",
              "\n",
              "        async function convertToInteractive(key) {\n",
              "          const element = document.querySelector('#df-c5f9414a-f873-485f-9e69-96570a6d99cf');\n",
              "          const dataTable =\n",
              "            await google.colab.kernel.invokeFunction('convertToInteractive',\n",
              "                                                     [key], {});\n",
              "          if (!dataTable) return;\n",
              "\n",
              "          const docLinkHtml = 'Like what you see? Visit the ' +\n",
              "            '<a target=\"_blank\" href=https://colab.research.google.com/notebooks/data_table.ipynb>data table notebook</a>'\n",
              "            + ' to learn more about interactive tables.';\n",
              "          element.innerHTML = '';\n",
              "          dataTable['output_type'] = 'display_data';\n",
              "          await google.colab.output.renderOutput(dataTable, element);\n",
              "          const docLink = document.createElement('div');\n",
              "          docLink.innerHTML = docLinkHtml;\n",
              "          element.appendChild(docLink);\n",
              "        }\n",
              "      </script>\n",
              "    </div>\n",
              "  </div>\n",
              "  "
            ],
            "text/plain": [
              "                                             Summary  True\n",
              "0  Since last autumn, the Ukrainian Orthodox Chur...     0\n",
              "1  Vilnius wants to be the centre for the Belarus...     0\n",
              "2  The special military operation opened the way ...     0\n",
              "3  Ukraine is already waste material for the West...     0\n",
              "4  Crimea became a Russian region after a referen...     0"
            ]
          },
          "execution_count": 24,
          "metadata": {},
          "output_type": "execute_result"
        }
      ],
      "source": [
        "fake = pd.DataFrame(data['Summary'])\n",
        "fake['True'] = 0\n",
        "fake = fake.sample(frac=1, random_state=42).reset_index(drop=True)[:4000]\n",
        "print(fake.shape)\n",
        "fake.head()"
      ]
    },
    {
      "cell_type": "markdown",
      "metadata": {
        "id": "29-H_0lgThzN"
      },
      "source": [
        "Same with true news: -separate dataframe; - column with label; - rename the column for future concatenation; - sample only 4000 rows"
      ]
    },
    {
      "cell_type": "code",
      "execution_count": 25,
      "metadata": {
        "colab": {
          "base_uri": "https://localhost:8080/",
          "height": 223
        },
        "id": "DF48Q58HIMoa",
        "outputId": "bd44d219-55ae-43b3-8354-90061f71d0e4"
      },
      "outputs": [
        {
          "name": "stdout",
          "output_type": "stream",
          "text": [
            "(4000, 2)\n"
          ]
        },
        {
          "data": {
            "text/html": [
              "\n",
              "  <div id=\"df-0b284929-f2ab-4e70-a31f-6f6c0327f813\">\n",
              "    <div class=\"colab-df-container\">\n",
              "      <div>\n",
              "<style scoped>\n",
              "    .dataframe tbody tr th:only-of-type {\n",
              "        vertical-align: middle;\n",
              "    }\n",
              "\n",
              "    .dataframe tbody tr th {\n",
              "        vertical-align: top;\n",
              "    }\n",
              "\n",
              "    .dataframe thead th {\n",
              "        text-align: right;\n",
              "    }\n",
              "</style>\n",
              "<table border=\"1\" class=\"dataframe\">\n",
              "  <thead>\n",
              "    <tr style=\"text-align: right;\">\n",
              "      <th></th>\n",
              "      <th>Summary</th>\n",
              "      <th>True</th>\n",
              "    </tr>\n",
              "  </thead>\n",
              "  <tbody>\n",
              "    <tr>\n",
              "      <th>0</th>\n",
              "      <td>Recurring pro-Kremlin disinformation narrative...</td>\n",
              "      <td>1</td>\n",
              "    </tr>\n",
              "    <tr>\n",
              "      <th>1</th>\n",
              "      <td>This is an attempt to portray Lithuania as a p...</td>\n",
              "      <td>1</td>\n",
              "    </tr>\n",
              "    <tr>\n",
              "      <th>2</th>\n",
              "      <td>This is a disinformation narrative from pro-Kr...</td>\n",
              "      <td>1</td>\n",
              "    </tr>\n",
              "    <tr>\n",
              "      <th>3</th>\n",
              "      <td>Disinformation amid Russia's full-scale invasi...</td>\n",
              "      <td>1</td>\n",
              "    </tr>\n",
              "    <tr>\n",
              "      <th>4</th>\n",
              "      <td>Recurring pro-Kremlin disinformation narrative...</td>\n",
              "      <td>1</td>\n",
              "    </tr>\n",
              "  </tbody>\n",
              "</table>\n",
              "</div>\n",
              "      <button class=\"colab-df-convert\" onclick=\"convertToInteractive('df-0b284929-f2ab-4e70-a31f-6f6c0327f813')\"\n",
              "              title=\"Convert this dataframe to an interactive table.\"\n",
              "              style=\"display:none;\">\n",
              "        \n",
              "  <svg xmlns=\"http://www.w3.org/2000/svg\" height=\"24px\"viewBox=\"0 0 24 24\"\n",
              "       width=\"24px\">\n",
              "    <path d=\"M0 0h24v24H0V0z\" fill=\"none\"/>\n",
              "    <path d=\"M18.56 5.44l.94 2.06.94-2.06 2.06-.94-2.06-.94-.94-2.06-.94 2.06-2.06.94zm-11 1L8.5 8.5l.94-2.06 2.06-.94-2.06-.94L8.5 2.5l-.94 2.06-2.06.94zm10 10l.94 2.06.94-2.06 2.06-.94-2.06-.94-.94-2.06-.94 2.06-2.06.94z\"/><path d=\"M17.41 7.96l-1.37-1.37c-.4-.4-.92-.59-1.43-.59-.52 0-1.04.2-1.43.59L10.3 9.45l-7.72 7.72c-.78.78-.78 2.05 0 2.83L4 21.41c.39.39.9.59 1.41.59.51 0 1.02-.2 1.41-.59l7.78-7.78 2.81-2.81c.8-.78.8-2.07 0-2.86zM5.41 20L4 18.59l7.72-7.72 1.47 1.35L5.41 20z\"/>\n",
              "  </svg>\n",
              "      </button>\n",
              "      \n",
              "  <style>\n",
              "    .colab-df-container {\n",
              "      display:flex;\n",
              "      flex-wrap:wrap;\n",
              "      gap: 12px;\n",
              "    }\n",
              "\n",
              "    .colab-df-convert {\n",
              "      background-color: #E8F0FE;\n",
              "      border: none;\n",
              "      border-radius: 50%;\n",
              "      cursor: pointer;\n",
              "      display: none;\n",
              "      fill: #1967D2;\n",
              "      height: 32px;\n",
              "      padding: 0 0 0 0;\n",
              "      width: 32px;\n",
              "    }\n",
              "\n",
              "    .colab-df-convert:hover {\n",
              "      background-color: #E2EBFA;\n",
              "      box-shadow: 0px 1px 2px rgba(60, 64, 67, 0.3), 0px 1px 3px 1px rgba(60, 64, 67, 0.15);\n",
              "      fill: #174EA6;\n",
              "    }\n",
              "\n",
              "    [theme=dark] .colab-df-convert {\n",
              "      background-color: #3B4455;\n",
              "      fill: #D2E3FC;\n",
              "    }\n",
              "\n",
              "    [theme=dark] .colab-df-convert:hover {\n",
              "      background-color: #434B5C;\n",
              "      box-shadow: 0px 1px 3px 1px rgba(0, 0, 0, 0.15);\n",
              "      filter: drop-shadow(0px 1px 2px rgba(0, 0, 0, 0.3));\n",
              "      fill: #FFFFFF;\n",
              "    }\n",
              "  </style>\n",
              "\n",
              "      <script>\n",
              "        const buttonEl =\n",
              "          document.querySelector('#df-0b284929-f2ab-4e70-a31f-6f6c0327f813 button.colab-df-convert');\n",
              "        buttonEl.style.display =\n",
              "          google.colab.kernel.accessAllowed ? 'block' : 'none';\n",
              "\n",
              "        async function convertToInteractive(key) {\n",
              "          const element = document.querySelector('#df-0b284929-f2ab-4e70-a31f-6f6c0327f813');\n",
              "          const dataTable =\n",
              "            await google.colab.kernel.invokeFunction('convertToInteractive',\n",
              "                                                     [key], {});\n",
              "          if (!dataTable) return;\n",
              "\n",
              "          const docLinkHtml = 'Like what you see? Visit the ' +\n",
              "            '<a target=\"_blank\" href=https://colab.research.google.com/notebooks/data_table.ipynb>data table notebook</a>'\n",
              "            + ' to learn more about interactive tables.';\n",
              "          element.innerHTML = '';\n",
              "          dataTable['output_type'] = 'display_data';\n",
              "          await google.colab.output.renderOutput(dataTable, element);\n",
              "          const docLink = document.createElement('div');\n",
              "          docLink.innerHTML = docLinkHtml;\n",
              "          element.appendChild(docLink);\n",
              "        }\n",
              "      </script>\n",
              "    </div>\n",
              "  </div>\n",
              "  "
            ],
            "text/plain": [
              "                                             Summary  True\n",
              "0  Recurring pro-Kremlin disinformation narrative...     1\n",
              "1  This is an attempt to portray Lithuania as a p...     1\n",
              "2  This is a disinformation narrative from pro-Kr...     1\n",
              "3  Disinformation amid Russia's full-scale invasi...     1\n",
              "4  Recurring pro-Kremlin disinformation narrative...     1"
            ]
          },
          "execution_count": 25,
          "metadata": {},
          "output_type": "execute_result"
        }
      ],
      "source": [
        "true = pd.DataFrame(data['Disproof'])\n",
        "true['True'] = 1\n",
        "true=true.rename(columns={'Disproof': 'Summary'})\n",
        "true = true.sample(frac=1, random_state=42).reset_index(drop=True)[:4000]\n",
        "print(true.shape)\n",
        "true.head()"
      ]
    },
    {
      "cell_type": "markdown",
      "metadata": {
        "id": "5CiLeU8aTycv"
      },
      "source": [
        "Concatenating the two dataframes with fake and true news into one and shuffle them"
      ]
    },
    {
      "cell_type": "code",
      "execution_count": 26,
      "metadata": {
        "colab": {
          "base_uri": "https://localhost:8080/"
        },
        "id": "CtS_xh-gJj0W",
        "outputId": "d99551d8-304d-43ec-a845-c914edea89dd"
      },
      "outputs": [
        {
          "name": "stdout",
          "output_type": "stream",
          "text": [
            "(8000, 2)\n"
          ]
        }
      ],
      "source": [
        "concatenated = pd.concat([fake, true], ignore_index=True)\n",
        "concatenated = concatenated.sample(frac=1, random_state=42).reset_index(drop=True)\n",
        "print(concatenated.shape)"
      ]
    },
    {
      "cell_type": "markdown",
      "metadata": {
        "id": "lQP0OSwLT6-h"
      },
      "source": [
        "Now we have a dataset with 8000 rows of news: half of them are `fake` (label 0) and half `true` (label 1)"
      ]
    },
    {
      "cell_type": "code",
      "execution_count": 27,
      "metadata": {
        "colab": {
          "base_uri": "https://localhost:8080/",
          "height": 206
        },
        "id": "6QhaDhXhIMXD",
        "outputId": "dc41329e-24de-4edc-d34d-3e439ef9bcff"
      },
      "outputs": [
        {
          "data": {
            "text/html": [
              "\n",
              "  <div id=\"df-68c7da66-ab73-4b0f-aaf3-9ddfd2a46002\">\n",
              "    <div class=\"colab-df-container\">\n",
              "      <div>\n",
              "<style scoped>\n",
              "    .dataframe tbody tr th:only-of-type {\n",
              "        vertical-align: middle;\n",
              "    }\n",
              "\n",
              "    .dataframe tbody tr th {\n",
              "        vertical-align: top;\n",
              "    }\n",
              "\n",
              "    .dataframe thead th {\n",
              "        text-align: right;\n",
              "    }\n",
              "</style>\n",
              "<table border=\"1\" class=\"dataframe\">\n",
              "  <thead>\n",
              "    <tr style=\"text-align: right;\">\n",
              "      <th></th>\n",
              "      <th>Summary</th>\n",
              "      <th>True</th>\n",
              "    </tr>\n",
              "  </thead>\n",
              "  <tbody>\n",
              "    <tr>\n",
              "      <th>0</th>\n",
              "      <td>There are three rationales behind the story ab...</td>\n",
              "      <td>0</td>\n",
              "    </tr>\n",
              "    <tr>\n",
              "      <th>1</th>\n",
              "      <td>The WHO concluded that the agent responsible f...</td>\n",
              "      <td>0</td>\n",
              "    </tr>\n",
              "    <tr>\n",
              "      <th>2</th>\n",
              "      <td>The European Endowment for Democracy has grown...</td>\n",
              "      <td>0</td>\n",
              "    </tr>\n",
              "    <tr>\n",
              "      <th>3</th>\n",
              "      <td>Regular flights will be launched between Crime...</td>\n",
              "      <td>0</td>\n",
              "    </tr>\n",
              "    <tr>\n",
              "      <th>4</th>\n",
              "      <td>Conspiracy theory, recurring pro-Kremlin narra...</td>\n",
              "      <td>1</td>\n",
              "    </tr>\n",
              "  </tbody>\n",
              "</table>\n",
              "</div>\n",
              "      <button class=\"colab-df-convert\" onclick=\"convertToInteractive('df-68c7da66-ab73-4b0f-aaf3-9ddfd2a46002')\"\n",
              "              title=\"Convert this dataframe to an interactive table.\"\n",
              "              style=\"display:none;\">\n",
              "        \n",
              "  <svg xmlns=\"http://www.w3.org/2000/svg\" height=\"24px\"viewBox=\"0 0 24 24\"\n",
              "       width=\"24px\">\n",
              "    <path d=\"M0 0h24v24H0V0z\" fill=\"none\"/>\n",
              "    <path d=\"M18.56 5.44l.94 2.06.94-2.06 2.06-.94-2.06-.94-.94-2.06-.94 2.06-2.06.94zm-11 1L8.5 8.5l.94-2.06 2.06-.94-2.06-.94L8.5 2.5l-.94 2.06-2.06.94zm10 10l.94 2.06.94-2.06 2.06-.94-2.06-.94-.94-2.06-.94 2.06-2.06.94z\"/><path d=\"M17.41 7.96l-1.37-1.37c-.4-.4-.92-.59-1.43-.59-.52 0-1.04.2-1.43.59L10.3 9.45l-7.72 7.72c-.78.78-.78 2.05 0 2.83L4 21.41c.39.39.9.59 1.41.59.51 0 1.02-.2 1.41-.59l7.78-7.78 2.81-2.81c.8-.78.8-2.07 0-2.86zM5.41 20L4 18.59l7.72-7.72 1.47 1.35L5.41 20z\"/>\n",
              "  </svg>\n",
              "      </button>\n",
              "      \n",
              "  <style>\n",
              "    .colab-df-container {\n",
              "      display:flex;\n",
              "      flex-wrap:wrap;\n",
              "      gap: 12px;\n",
              "    }\n",
              "\n",
              "    .colab-df-convert {\n",
              "      background-color: #E8F0FE;\n",
              "      border: none;\n",
              "      border-radius: 50%;\n",
              "      cursor: pointer;\n",
              "      display: none;\n",
              "      fill: #1967D2;\n",
              "      height: 32px;\n",
              "      padding: 0 0 0 0;\n",
              "      width: 32px;\n",
              "    }\n",
              "\n",
              "    .colab-df-convert:hover {\n",
              "      background-color: #E2EBFA;\n",
              "      box-shadow: 0px 1px 2px rgba(60, 64, 67, 0.3), 0px 1px 3px 1px rgba(60, 64, 67, 0.15);\n",
              "      fill: #174EA6;\n",
              "    }\n",
              "\n",
              "    [theme=dark] .colab-df-convert {\n",
              "      background-color: #3B4455;\n",
              "      fill: #D2E3FC;\n",
              "    }\n",
              "\n",
              "    [theme=dark] .colab-df-convert:hover {\n",
              "      background-color: #434B5C;\n",
              "      box-shadow: 0px 1px 3px 1px rgba(0, 0, 0, 0.15);\n",
              "      filter: drop-shadow(0px 1px 2px rgba(0, 0, 0, 0.3));\n",
              "      fill: #FFFFFF;\n",
              "    }\n",
              "  </style>\n",
              "\n",
              "      <script>\n",
              "        const buttonEl =\n",
              "          document.querySelector('#df-68c7da66-ab73-4b0f-aaf3-9ddfd2a46002 button.colab-df-convert');\n",
              "        buttonEl.style.display =\n",
              "          google.colab.kernel.accessAllowed ? 'block' : 'none';\n",
              "\n",
              "        async function convertToInteractive(key) {\n",
              "          const element = document.querySelector('#df-68c7da66-ab73-4b0f-aaf3-9ddfd2a46002');\n",
              "          const dataTable =\n",
              "            await google.colab.kernel.invokeFunction('convertToInteractive',\n",
              "                                                     [key], {});\n",
              "          if (!dataTable) return;\n",
              "\n",
              "          const docLinkHtml = 'Like what you see? Visit the ' +\n",
              "            '<a target=\"_blank\" href=https://colab.research.google.com/notebooks/data_table.ipynb>data table notebook</a>'\n",
              "            + ' to learn more about interactive tables.';\n",
              "          element.innerHTML = '';\n",
              "          dataTable['output_type'] = 'display_data';\n",
              "          await google.colab.output.renderOutput(dataTable, element);\n",
              "          const docLink = document.createElement('div');\n",
              "          docLink.innerHTML = docLinkHtml;\n",
              "          element.appendChild(docLink);\n",
              "        }\n",
              "      </script>\n",
              "    </div>\n",
              "  </div>\n",
              "  "
            ],
            "text/plain": [
              "                                             Summary  True\n",
              "0  There are three rationales behind the story ab...     0\n",
              "1  The WHO concluded that the agent responsible f...     0\n",
              "2  The European Endowment for Democracy has grown...     0\n",
              "3  Regular flights will be launched between Crime...     0\n",
              "4  Conspiracy theory, recurring pro-Kremlin narra...     1"
            ]
          },
          "execution_count": 27,
          "metadata": {},
          "output_type": "execute_result"
        }
      ],
      "source": [
        "concatenated.head()"
      ]
    },
    {
      "cell_type": "markdown",
      "metadata": {
        "id": "b_uCrQSGUWzt"
      },
      "source": [
        "#### Selecting and fine-tuning the model"
      ]
    },
    {
      "cell_type": "markdown",
      "metadata": {
        "id": "XUhdM6dLW1er"
      },
      "source": [
        "The Model Hub makes selecting the appropriate model simple. I looked up a text classification transformer that could perform fake news detection. I select pretrained `jy46604790/Fake-News-Bert-Detect` (Roberta model trained by over 40,000 news from different medias based on the 'roberta-base')  checkpoint for future fine-tuning"
      ]
    },
    {
      "cell_type": "markdown",
      "metadata": {
        "id": "qSTHTKgidcjS"
      },
      "source": [
        "Initialize a model for sequence classification using the Roberta architecture:"
      ]
    },
    {
      "cell_type": "code",
      "execution_count": 28,
      "metadata": {
        "colab": {
          "base_uri": "https://localhost:8080/",
          "height": 209,
          "referenced_widgets": [
            "ec218bd4cb184ffabc513773c1510a6f",
            "328f0a0a345d42d4ba775999f4070fcf",
            "1b33a77dcedf4f27936c2a54f1fe7ae1",
            "f177892c034c4b0f9fd190b2282a0b12",
            "ec0bde366fb244a684d8d67f45d598b6",
            "c571986052e94beab9bc5d3e8f15f107",
            "653fc4b3a1474cf6a8c69cf603fe3b73",
            "23c803378e134da0aad50324428127f0",
            "eb3cba62f09d450e9f5afa81bfbebdf9",
            "deeb21f6db0c42b08258d31b80b39348",
            "9732ec4ccc2341468a517e0e936e4d29",
            "9cd1a1a260de473fa11d3d189347f6b3",
            "85e39c66088f419881b5204970f4ac5d",
            "b2c98906155b468c8d350f6b91525e53",
            "28414c73f11e404db98681e2c483aa69",
            "3e04a0ad69d34a8b84d5c155f02437a2",
            "eca841a93b374282a689cf44a1d383a9",
            "44039e8edf414f4f97c39534ca594583",
            "16ec254f34fe4d458fa36696c317b6fd",
            "80d248a5d6714e89a19e214fe62f60ea",
            "6ed461c6b38148c2af91382a2a122378",
            "f44d4fe7065643d491028348df666633",
            "e5884350601f49f693a7c7747dff53da",
            "421b988ba74f4f79ad575bab41757b27",
            "abdda07543ff4cfd910b7ce62e67db44",
            "33d319c2989841329a765f280daf0d41",
            "a296696874fe4f51bbd1339364750a34",
            "eb16d8996926461f90fb099c2584ece9",
            "a1e0d6b3f2e5411192978b6dc792818a",
            "93abec44829b4c379d0d9695aeb0605e",
            "26a9c570aad5457b961b32b9285aa0f2",
            "4cd5f59f65b54ad096a268d8fccfaaad",
            "d37f37b17b284874804e95b20f5bdb55",
            "b276bb09980d45c18a362eb7853816ba",
            "f79af33fa1bd4bafb11a2bdfcbbcc89d",
            "7a806a3fc3f846c091655924a086a756",
            "fb681ec3e8a64f698a85788097b59087",
            "2db631cc05964b948515c1bb13b00b55",
            "72689f54236f4e8e92c6ebbc0d017a78",
            "ed4778140fa24a4aaa60633c3d80b3b9",
            "34c46280253f45fd82a10ec52f4a4d47",
            "4f60ac5388284f67b33c085b11f3d16b",
            "d4a6e545209f469c83ebf140efd8f1c1",
            "e8454143b4174643b902a18443d1ec67",
            "8f7029ade142426596fbce2e7f2c0228",
            "f17ee898772f4e99ba5bc53304bdcfdb",
            "6c887414b5af440cab0895cfb260e276",
            "e0466ef89f444c2ea7a7117d89a388a7",
            "f1ad96ebf87940f0a32bcf4de032555c",
            "aeb4afc5e9b94156883f08c86dbf983a",
            "d4471ab47ea44ba390bbf0e648a0a17c",
            "7f29b11cf64c4860a5f4b40693719792",
            "39fd7246312e4935b1ecf922f35e8856",
            "3274355b8be741b3b70b192a74938919",
            "4d156f7ff4c0448d987ca9e8c8dda865",
            "0639f472db6544d59e532dcb98a8763d",
            "03f31f1c9e87410f80997f8022f051fb",
            "c234a5e58e4846d1af9bd59d6d412b14",
            "4a27e49cf9d84baaa3187664af23ec48",
            "256f674a8fe344f48de646a000afb688",
            "5e5490820dde49eaa4ddfc02b91b5e19",
            "f1060b7a7e9345519419411a6fbda71e",
            "9a4adff1958c49e9bf6ee91b4e881d22",
            "4921b8354d3d4587a1290181ec2ae1bb",
            "983199da4c294b879a4e70b20d2cb4a9",
            "80797f196baf4e2ca66dc0e66e7bf713"
          ]
        },
        "id": "O_WE222is33K",
        "outputId": "f882073a-11af-4a61-daf0-9bbc262d129a"
      },
      "outputs": [
        {
          "data": {
            "application/vnd.jupyter.widget-view+json": {
              "model_id": "ec218bd4cb184ffabc513773c1510a6f",
              "version_major": 2,
              "version_minor": 0
            },
            "text/plain": [
              "Downloading (…)okenizer_config.json:   0%|          | 0.00/1.14k [00:00<?, ?B/s]"
            ]
          },
          "metadata": {},
          "output_type": "display_data"
        },
        {
          "data": {
            "application/vnd.jupyter.widget-view+json": {
              "model_id": "9cd1a1a260de473fa11d3d189347f6b3",
              "version_major": 2,
              "version_minor": 0
            },
            "text/plain": [
              "Downloading (…)olve/main/vocab.json:   0%|          | 0.00/899k [00:00<?, ?B/s]"
            ]
          },
          "metadata": {},
          "output_type": "display_data"
        },
        {
          "data": {
            "application/vnd.jupyter.widget-view+json": {
              "model_id": "e5884350601f49f693a7c7747dff53da",
              "version_major": 2,
              "version_minor": 0
            },
            "text/plain": [
              "Downloading (…)olve/main/merges.txt:   0%|          | 0.00/456k [00:00<?, ?B/s]"
            ]
          },
          "metadata": {},
          "output_type": "display_data"
        },
        {
          "data": {
            "application/vnd.jupyter.widget-view+json": {
              "model_id": "b276bb09980d45c18a362eb7853816ba",
              "version_major": 2,
              "version_minor": 0
            },
            "text/plain": [
              "Downloading (…)cial_tokens_map.json:   0%|          | 0.00/772 [00:00<?, ?B/s]"
            ]
          },
          "metadata": {},
          "output_type": "display_data"
        },
        {
          "data": {
            "application/vnd.jupyter.widget-view+json": {
              "model_id": "8f7029ade142426596fbce2e7f2c0228",
              "version_major": 2,
              "version_minor": 0
            },
            "text/plain": [
              "Downloading (…)lve/main/config.json:   0%|          | 0.00/735 [00:00<?, ?B/s]"
            ]
          },
          "metadata": {},
          "output_type": "display_data"
        },
        {
          "data": {
            "application/vnd.jupyter.widget-view+json": {
              "model_id": "0639f472db6544d59e532dcb98a8763d",
              "version_major": 2,
              "version_minor": 0
            },
            "text/plain": [
              "Downloading pytorch_model.bin:   0%|          | 0.00/499M [00:00<?, ?B/s]"
            ]
          },
          "metadata": {},
          "output_type": "display_data"
        }
      ],
      "source": [
        "checkpoint = 'jy46604790/Fake-News-Bert-Detect' #https://huggingface.co/jy46604790/Fake-News-Bert-Detect\n",
        "tokenizer = AutoTokenizer.from_pretrained(checkpoint)\n",
        "model = RobertaForSequenceClassification.from_pretrained(\n",
        "    checkpoint,\n",
        "    num_labels=2,\n",
        "    id2label={0: \"FAKE\", 1: \"TRUE\"}, #set up the mappings between class labels and their numerical representations\n",
        "    label2id={\"FAKE\": 0, \"TRUE\": 1}\n",
        ")"
      ]
    },
    {
      "cell_type": "markdown",
      "metadata": {
        "id": "qMbfqcC-gMzh"
      },
      "source": [
        "#### Architecture of the model:"
      ]
    },
    {
      "cell_type": "code",
      "execution_count": 29,
      "metadata": {
        "colab": {
          "base_uri": "https://localhost:8080/"
        },
        "id": "jSpcSJsbeAta",
        "outputId": "1f41afde-d4fa-4016-ddd1-33f61506fa61"
      },
      "outputs": [
        {
          "name": "stdout",
          "output_type": "stream",
          "text": [
            "RobertaForSequenceClassification(\n",
            "  (roberta): RobertaModel(\n",
            "    (embeddings): RobertaEmbeddings(\n",
            "      (word_embeddings): Embedding(50265, 768, padding_idx=1)\n",
            "      (position_embeddings): Embedding(514, 768, padding_idx=1)\n",
            "      (token_type_embeddings): Embedding(1, 768)\n",
            "      (LayerNorm): LayerNorm((768,), eps=1e-05, elementwise_affine=True)\n",
            "      (dropout): Dropout(p=0.1, inplace=False)\n",
            "    )\n",
            "    (encoder): RobertaEncoder(\n",
            "      (layer): ModuleList(\n",
            "        (0-11): 12 x RobertaLayer(\n",
            "          (attention): RobertaAttention(\n",
            "            (self): RobertaSelfAttention(\n",
            "              (query): Linear(in_features=768, out_features=768, bias=True)\n",
            "              (key): Linear(in_features=768, out_features=768, bias=True)\n",
            "              (value): Linear(in_features=768, out_features=768, bias=True)\n",
            "              (dropout): Dropout(p=0.1, inplace=False)\n",
            "            )\n",
            "            (output): RobertaSelfOutput(\n",
            "              (dense): Linear(in_features=768, out_features=768, bias=True)\n",
            "              (LayerNorm): LayerNorm((768,), eps=1e-05, elementwise_affine=True)\n",
            "              (dropout): Dropout(p=0.1, inplace=False)\n",
            "            )\n",
            "          )\n",
            "          (intermediate): RobertaIntermediate(\n",
            "            (dense): Linear(in_features=768, out_features=3072, bias=True)\n",
            "            (intermediate_act_fn): GELUActivation()\n",
            "          )\n",
            "          (output): RobertaOutput(\n",
            "            (dense): Linear(in_features=3072, out_features=768, bias=True)\n",
            "            (LayerNorm): LayerNorm((768,), eps=1e-05, elementwise_affine=True)\n",
            "            (dropout): Dropout(p=0.1, inplace=False)\n",
            "          )\n",
            "        )\n",
            "      )\n",
            "    )\n",
            "  )\n",
            "  (classifier): RobertaClassificationHead(\n",
            "    (dense): Linear(in_features=768, out_features=768, bias=True)\n",
            "    (dropout): Dropout(p=0.1, inplace=False)\n",
            "    (out_proj): Linear(in_features=768, out_features=2, bias=True)\n",
            "  )\n",
            ")\n",
            "Number of parameters: 124647170\n"
          ]
        }
      ],
      "source": [
        "print(model)\n",
        "print(\"Number of parameters:\", sum(p.numel() for p in model.parameters() if p.requires_grad))"
      ]
    },
    {
      "cell_type": "markdown",
      "metadata": {
        "id": "g8W16nM_gQAR"
      },
      "source": [
        "The model has almost 125 millions of trainable parameters in the model, including the weights and biases of all the layers and submodules.\n",
        "\n",
        "The architecture of the RobertaForSequenceClassification model and its submodules:\n",
        "\n",
        "* RobertaForSequenceClassification: the main model class that encapsulates the entire architecture for sequence classification using the Roberta model.\n",
        "\n",
        "* (roberta): RobertaModel: the Roberta model component of the RobertaForSequenceClassification. It consists of several submodules:\n",
        "\n",
        "--(embeddings): RobertaEmbeddings: submodule handles the input embeddings for the Roberta model. It includes word embeddings, position embeddings, token type embeddings, layer normalization, and dropout.\n",
        "\n",
        "--(encoder): RobertaEncoder: submodule represents the encoder part of the Roberta model. It contains a stack of 12 layers (0-11), each represented by the RobertaLayer submodule.\n",
        "\n",
        " --- RobertaLayer: submodule represents a single layer in the Roberta model. Each layer consists of the following submodules:\n",
        "\n",
        "  ---- RobertaAttention: submodule handles the self-attention mechanism within a layer, including query, key, and value linear transformations, dropout, and layer normalization.\n",
        "\n",
        "  ---- RobertaIntermediate: submodule performs an intermediate transformation after the attention mechanism. It includes a dense linear layer and a GELU activation function.\n",
        "\n",
        "  ---- RobertaOutput: submodule represents the output transformation after the intermediate layer. It includes a dense linear layer, layer normalization, and dropout.\n",
        "\n",
        "--(classifier): RobertaClassificationHead: submodule is responsible for the classification task. It consists of the following submodules:\n",
        "* dense: A dense linear layer for feature transformation.\n",
        "* dropout: Dropout regularization.\n",
        "* out_proj: A final linear layer for mapping the features to the output class labels (2 classes in this case)."
      ]
    },
    {
      "cell_type": "code",
      "execution_count": 30,
      "metadata": {
        "id": "jOMqDSx5ELy1"
      },
      "outputs": [],
      "source": [
        "model = model.to('cuda') #to gpu"
      ]
    },
    {
      "cell_type": "markdown",
      "metadata": {
        "id": "fUukmkKCs33L"
      },
      "source": [
        "#### Split the train/test dataset and Tokenize\n",
        "\n",
        "Roberta Tokenizer:\n",
        "\n",
        "- splits the text into tokens (words and subwords) representing each token with its corresponding id\n",
        "- special tokens are added, e.g. to mark the beginning of an input text `[CLS]`\n",
        "- `token_type_ids` are always 0 in our case. In pretraining and other downstream tasks these IDs are used to distinguish a first from a second segment.\n",
        "- transforms the input data to a consistent length of 512 tokens. If the input text is shorter than 512 tokens, it is filled up with 0 tokens (padding). If the text is longer than 512 tokens than part of the text is truncated.\n",
        "- creates an `attention_mask` that marks with 0 if the tokens result from padding and 1 otherwise."
      ]
    },
    {
      "cell_type": "code",
      "execution_count": 31,
      "metadata": {
        "id": "wUaWnI60s33M"
      },
      "outputs": [],
      "source": [
        "X = list(concatenated[\"Summary\"])\n",
        "y = list(concatenated[\"True\"])\n",
        "X_train, X_val, y_train, y_val = train_test_split(X, y, test_size=0.2,stratify=y) #20%- test dataset\n",
        "X_train_tokenized = tokenizer(X_train, padding=True, truncation=True, max_length=512)\n",
        "X_val_tokenized = tokenizer(X_val, padding=True, truncation=True, max_length=512)"
      ]
    },
    {
      "cell_type": "code",
      "execution_count": 32,
      "metadata": {
        "colab": {
          "base_uri": "https://localhost:8080/"
        },
        "id": "fbJ1r-Uts33N",
        "outputId": "5bb1114c-698d-4d41-afec-c0b6fa344fad"
      },
      "outputs": [
        {
          "name": "stdout",
          "output_type": "stream",
          "text": [
            "Russian authorities are concerned about the US biological-military activity near Russia’s borders. There are over 200 secret research laboratories in the world mostly funded by the US Department of Defence, focusing on doubtful investigations, the Richard Lugar Centre in Georgia is one of the most notorious. Russia has more than on one occasion drawn attention to Pentagon’s activities, which deploys its laboratories in the vicinity of Russian borders.\n",
            "0\n"
          ]
        }
      ],
      "source": [
        "print(X_train[0]),\n",
        "print(y_train[0])"
      ]
    },
    {
      "cell_type": "code",
      "execution_count": 33,
      "metadata": {
        "colab": {
          "base_uri": "https://localhost:8080/"
        },
        "id": "8Su_lYWWs33N",
        "outputId": "0c2076ea-fa2b-40bd-86dc-24ec8a1bf644"
      },
      "outputs": [
        {
          "data": {
            "text/plain": [
              "(6400, 1600)"
            ]
          },
          "execution_count": 33,
          "metadata": {},
          "output_type": "execute_result"
        }
      ],
      "source": [
        "len(X_train),len(X_val)"
      ]
    },
    {
      "cell_type": "markdown",
      "metadata": {
        "id": "LL970yT_kvL1"
      },
      "source": [
        "6400 instances for training, and 1600 instances for testing"
      ]
    },
    {
      "cell_type": "markdown",
      "metadata": {
        "id": "UJlc_fN7s33O"
      },
      "source": [
        "#### Create torch dataset class\n",
        "\n",
        "A torch dataset class must implement the methods init, getitem and len"
      ]
    },
    {
      "cell_type": "code",
      "execution_count": 34,
      "metadata": {
        "id": "hKkO9Oivs33O"
      },
      "outputs": [],
      "source": [
        "# Create torch dataset\n",
        "class Dataset(torch.utils.data.Dataset):\n",
        "    def __init__(self, encodings, labels=None):\n",
        "        self.encodings = encodings\n",
        "        self.labels = labels\n",
        "\n",
        "    def __getitem__(self, idx):\n",
        "        item = {key: torch.tensor(val[idx]) for key, val in self.encodings.items()}\n",
        "        if self.labels:\n",
        "            item[\"labels\"] = torch.tensor(self.labels[idx])\n",
        "        return item\n",
        "\n",
        "    def __len__(self):\n",
        "        return len(self.encodings[\"input_ids\"])"
      ]
    },
    {
      "cell_type": "code",
      "execution_count": 35,
      "metadata": {
        "id": "SRdjkM3Rs33P"
      },
      "outputs": [],
      "source": [
        "train_dataset = Dataset(X_train_tokenized, y_train)\n",
        "val_dataset = Dataset(X_val_tokenized, y_val)"
      ]
    },
    {
      "cell_type": "markdown",
      "metadata": {
        "id": "yAYZaaHNs33Q"
      },
      "source": [
        "#### Evaluation metrics"
      ]
    },
    {
      "cell_type": "markdown",
      "metadata": {
        "id": "bGzu7Gcos33Q"
      },
      "source": [
        "We define a function that computes evaluation metrics: accuracy, recall, precision, f1"
      ]
    },
    {
      "cell_type": "code",
      "execution_count": 36,
      "metadata": {
        "id": "APmsPQKos33Q"
      },
      "outputs": [],
      "source": [
        "def compute_metrics(p):\n",
        "    pred, labels = p\n",
        "    pred = np.argmax(pred, axis=1)\n",
        "\n",
        "    accuracy = accuracy_score(y_true=labels, y_pred=pred)\n",
        "    recall = recall_score(y_true=labels, y_pred=pred)\n",
        "    precision = precision_score(y_true=labels, y_pred=pred)\n",
        "    f1 = f1_score(y_true=labels, y_pred=pred)\n",
        "\n",
        "    return {\"accuracy\": accuracy, \"precision\": precision, \"recall\": recall, \"f1\": f1}"
      ]
    },
    {
      "cell_type": "markdown",
      "metadata": {
        "id": "7QkxVlxIu7-v"
      },
      "source": [
        "#### Configurations for training and validation"
      ]
    },
    {
      "cell_type": "markdown",
      "metadata": {
        "id": "AKANuHsaeQRX"
      },
      "source": [
        "Set up the training and evaluation configurations for a model using the Hugging Face `Trainer` and `TrainingArguments` classes.\n",
        "\n",
        "`TrainingArguments` class is used to define the training arguments and hyperparameters. `Trainer` class is responsible for training and evaluation loops."
      ]
    },
    {
      "cell_type": "code",
      "execution_count": 37,
      "metadata": {
        "id": "r1b_y9CDs33R"
      },
      "outputs": [],
      "source": [
        "args = TrainingArguments(\n",
        "    output_dir=\"Roberta-fake-news-detector\", #the directory where the results and trained model checkpoints will be stored\n",
        "    num_train_epochs=5, #the maximum number of training epochs\n",
        "    per_device_train_batch_size=4, #the batch size for training data\n",
        "    per_device_eval_batch_size=4, #the batch size for evaluation/validation data\n",
        "    logging_strategy = 'epoch', #the logging strategy for training metrics - at the end of each epoch\n",
        "    evaluation_strategy = \"epoch\", #when to evaluate the validation data performance -  after each epoch\n",
        "    save_strategy = \"epoch\", #when to save the model checkpoints - after each epoch.\n",
        "    save_total_limit = 3, #the limit for the number of saved model checkpoints - only the last three checkpoints will be saved.\n",
        "    learning_rate=2e-5, #the learning rate for the optimizer during training\n",
        "    weight_decay=0.01, # the L2 regularization parameter to reduce overfitting\n",
        "    warmup_ratio=0.1, #the ratio of steps for the learning rate warm-up during the initial training phase - 10%\n",
        "    load_best_model_at_end=True, #whether to load the best model checkpoint based on the chosen metric (f1 in this case) at the end of training.\n",
        "    metric_for_best_model=\"f1\", #the metric to determine the \"best\" model checkpoint during training\n",
        "    push_to_hub=False #the model is already on HuggingFace Hub: https://huggingface.co/winterForestStump/Roberta-fake-news-detector\n",
        ")\n",
        "\n",
        "trainer = Trainer(\n",
        "    model=model, #the pre-configured model to be trained\n",
        "    args=args, #TrainingArguments object that defines the training configurations\n",
        "    train_dataset=train_dataset, #training dataset used for model training\n",
        "    eval_dataset=val_dataset, #evaluation/validation dataset used for performance evaluation\n",
        "    tokenizer=tokenizer, #tokenizer associated with the model for proper tokenization of the input data\n",
        "    compute_metrics=compute_metrics, #function that computes the evaluation metrics for the model's predictions\n",
        "    callbacks = [EarlyStoppingCallback(early_stopping_patience=3)] #If the F1-metric does not improve during 3 evaluation runs, then model stops\n",
        ")"
      ]
    },
    {
      "cell_type": "markdown",
      "metadata": {
        "id": "vZntgaLgu1we"
      },
      "source": [
        "#### Training"
      ]
    },
    {
      "cell_type": "code",
      "execution_count": 38,
      "metadata": {
        "colab": {
          "base_uri": "https://localhost:8080/",
          "height": 339
        },
        "id": "Cz1L4uYms33S",
        "outputId": "1644a5c6-3a09-407f-bcfb-2318bc2ca3f2"
      },
      "outputs": [
        {
          "name": "stderr",
          "output_type": "stream",
          "text": [
            "/usr/local/lib/python3.10/dist-packages/transformers/optimization.py:411: FutureWarning: This implementation of AdamW is deprecated and will be removed in a future version. Use the PyTorch implementation torch.optim.AdamW instead, or set `no_deprecation_warning=True` to disable this warning\n",
            "  warnings.warn(\n",
            "You're using a RobertaTokenizerFast tokenizer. Please note that with a fast tokenizer, using the `__call__` method is faster than using a method to encode the text followed by a call to the `pad` method to get a padded encoding.\n"
          ]
        },
        {
          "data": {
            "text/html": [
              "\n",
              "    <div>\n",
              "      \n",
              "      <progress value='8000' max='8000' style='width:300px; height:20px; vertical-align: middle;'></progress>\n",
              "      [8000/8000 59:18, Epoch 5/5]\n",
              "    </div>\n",
              "    <table border=\"1\" class=\"dataframe\">\n",
              "  <thead>\n",
              " <tr style=\"text-align: left;\">\n",
              "      <th>Epoch</th>\n",
              "      <th>Training Loss</th>\n",
              "      <th>Validation Loss</th>\n",
              "      <th>Accuracy</th>\n",
              "      <th>Precision</th>\n",
              "      <th>Recall</th>\n",
              "      <th>F1</th>\n",
              "    </tr>\n",
              "  </thead>\n",
              "  <tbody>\n",
              "    <tr>\n",
              "      <td>1</td>\n",
              "      <td>0.241700</td>\n",
              "      <td>0.042779</td>\n",
              "      <td>0.993750</td>\n",
              "      <td>0.997481</td>\n",
              "      <td>0.990000</td>\n",
              "      <td>0.993726</td>\n",
              "    </tr>\n",
              "    <tr>\n",
              "      <td>2</td>\n",
              "      <td>0.038400</td>\n",
              "      <td>0.037745</td>\n",
              "      <td>0.995000</td>\n",
              "      <td>0.992537</td>\n",
              "      <td>0.997500</td>\n",
              "      <td>0.995012</td>\n",
              "    </tr>\n",
              "    <tr>\n",
              "      <td>3</td>\n",
              "      <td>0.012000</td>\n",
              "      <td>0.035154</td>\n",
              "      <td>0.994375</td>\n",
              "      <td>0.993758</td>\n",
              "      <td>0.995000</td>\n",
              "      <td>0.994379</td>\n",
              "    </tr>\n",
              "    <tr>\n",
              "      <td>4</td>\n",
              "      <td>0.007900</td>\n",
              "      <td>0.033000</td>\n",
              "      <td>0.996250</td>\n",
              "      <td>0.996250</td>\n",
              "      <td>0.996250</td>\n",
              "      <td>0.996250</td>\n",
              "    </tr>\n",
              "    <tr>\n",
              "      <td>5</td>\n",
              "      <td>0.001700</td>\n",
              "      <td>0.033917</td>\n",
              "      <td>0.996250</td>\n",
              "      <td>0.996250</td>\n",
              "      <td>0.996250</td>\n",
              "      <td>0.996250</td>\n",
              "    </tr>\n",
              "  </tbody>\n",
              "</table><p>"
            ],
            "text/plain": [
              "<IPython.core.display.HTML object>"
            ]
          },
          "metadata": {},
          "output_type": "display_data"
        },
        {
          "data": {
            "text/plain": [
              "TrainOutput(global_step=8000, training_loss=0.06033633586764336, metrics={'train_runtime': 3559.2825, 'train_samples_per_second': 8.991, 'train_steps_per_second': 2.248, 'total_flos': 8419553771520000.0, 'train_loss': 0.06033633586764336, 'epoch': 5.0})"
            ]
          },
          "execution_count": 38,
          "metadata": {},
          "output_type": "execute_result"
        }
      ],
      "source": [
        "trainer.train()"
      ]
    },
    {
      "cell_type": "markdown",
      "metadata": {
        "id": "frIw7u5uvwbB"
      },
      "source": [
        "* The training loss decreases significantly with each epoch, indicating that the model is learning and improving its predictions.\n",
        "\n",
        "* The validation loss also decreases initially but slightly increases in the later epochs. This suggests that the model may be starting to overfit the training data.\n",
        "\n",
        "* The accuracy of the model on the validation dataset is consistently high. This indicates that the model performs well in classifying fake and true news.\n",
        "\n",
        "* The precision of the model is high, indicating that when the model predicts a news article as fake or true, it is highly confident in its predictions.\n",
        "\n",
        "* The recall values are also high, suggesting that the model is able to identify a high percentage of the actual fake and true news articles in the dataset.\n",
        "\n",
        "* The F1 score, which balances precision and recall, is consistently high. This indicates that the model achieves a good trade-off between precision and recall.\n",
        "\n",
        "* The training process took approximately 1 hour to complete all 5 epochs.\n",
        "\n",
        "The training results indicate that the model successfully learns to classify fake and true news with high accuracy, precision, recall, and F1 score. However, there is a slight increase in validation loss towards the later epochs, suggesting potential overfitting. Monitoring the model's performance on unseen data and considering early stopping can help prevent overfitting and improve generalization capabilities."
      ]
    },
    {
      "cell_type": "markdown",
      "metadata": {
        "id": "D85EFmE8vCNR"
      },
      "source": [
        "#### Evaluating"
      ]
    },
    {
      "cell_type": "code",
      "execution_count": 39,
      "metadata": {
        "colab": {
          "base_uri": "https://localhost:8080/",
          "height": 193
        },
        "id": "XZmEq2gPs33S",
        "outputId": "95962d15-5f57-464d-d9bc-3cf2224b402c"
      },
      "outputs": [
        {
          "data": {
            "text/html": [
              "\n",
              "    <div>\n",
              "      \n",
              "      <progress value='400' max='400' style='width:300px; height:20px; vertical-align: middle;'></progress>\n",
              "      [400/400 00:52]\n",
              "    </div>\n",
              "    "
            ],
            "text/plain": [
              "<IPython.core.display.HTML object>"
            ]
          },
          "metadata": {},
          "output_type": "display_data"
        },
        {
          "data": {
            "text/plain": [
              "{'eval_loss': 0.03299999609589577,\n",
              " 'eval_accuracy': 0.99625,\n",
              " 'eval_precision': 0.99625,\n",
              " 'eval_recall': 0.99625,\n",
              " 'eval_f1': 0.99625,\n",
              " 'eval_runtime': 52.3627,\n",
              " 'eval_samples_per_second': 30.556,\n",
              " 'eval_steps_per_second': 7.639,\n",
              " 'epoch': 5.0}"
            ]
          },
          "execution_count": 39,
          "metadata": {},
          "output_type": "execute_result"
        }
      ],
      "source": [
        "trainer.evaluate()"
      ]
    },
    {
      "cell_type": "markdown",
      "metadata": {
        "id": "uvXsaKdFwcf9"
      },
      "source": [
        "* The evaluation loss is low - the model performs well on the unseen validation data. It suggests that the model can generalize and make accurate predictions on new instances.\n",
        "\n",
        "* The evaluation accuracy is high -  the model correctly classifies 99% of the news articles as fake or true. This indicates a high level of overall accuracy.\n",
        "\n",
        "* The precision of the model is 99%, implying that when the model predicts a news article as fake or true, it is highly likely to be correct.\n",
        "\n",
        "* The recall is 99%, indicating that the model can identify a high percentage of the actual fake and true news articles in the evaluation dataset.\n",
        "\n",
        "* The F1 score, which balances precision and recall, is 99%. This score indicates that the model achieves a good trade-off between precision and recall on the evaluation data.\n",
        "\n",
        "* The evaluation process took approximately 50 seconds to evaluate the model on the evaluation dataset.\n",
        "\n",
        "The evaluation results demonstrate that the model performs exceptionally well on the unseen evaluation dataset. It achieves high accuracy, precision, recall, and F1 score, indicating its effectiveness in classifying fake and true news. The evaluation metrics suggest that the model generalizes well and can make reliable predictions on new data."
      ]
    },
    {
      "cell_type": "markdown",
      "metadata": {
        "id": "vV2YfUhts33T"
      },
      "source": [
        "#### Testing the model to predict the news:"
      ]
    },
    {
      "cell_type": "markdown",
      "metadata": {
        "id": "OO_1uKAuQN12"
      },
      "source": [
        "Example 1 (fake news):"
      ]
    },
    {
      "cell_type": "code",
      "execution_count": 40,
      "metadata": {
        "colab": {
          "base_uri": "https://localhost:8080/"
        },
        "id": "yv5kiuTQs33T",
        "outputId": "373a0627-9b38-48a1-8e8a-6e11a7110ac7"
      },
      "outputs": [
        {
          "name": "stdout",
          "output_type": "stream",
          "text": [
            "SequenceClassifierOutput(loss=None, logits=tensor([[ 5.3953, -5.9533]], device='cuda:0', grad_fn=<AddmmBackward0>), hidden_states=None, attentions=None)\n",
            "tensor([[9.9999e-01, 1.1787e-05]], device='cuda:0', grad_fn=<SoftmaxBackward0>)\n",
            "[[9.9998820e-01 1.1786609e-05]]\n",
            "0\n"
          ]
        }
      ],
      "source": [
        "text = \"Zelenskyy is a puppet, Russia will only negotiate with his masters directly\"\n",
        "inputs = tokenizer(text,padding = True, truncation = True, return_tensors='pt').to('cuda')\n",
        "outputs = model(**inputs)\n",
        "print(outputs)\n",
        "predictions = torch.nn.functional.softmax(outputs.logits, dim=-1)\n",
        "print(predictions)\n",
        "predictions = predictions.cpu().detach().numpy()\n",
        "print(predictions)\n",
        "print(np.argmax(predictions))"
      ]
    },
    {
      "cell_type": "markdown",
      "metadata": {
        "id": "ikRf7Ow3QPDl"
      },
      "source": [
        "Example 2 (fake news):"
      ]
    },
    {
      "cell_type": "code",
      "execution_count": 41,
      "metadata": {
        "colab": {
          "base_uri": "https://localhost:8080/"
        },
        "id": "Qr3-un83yNDH",
        "outputId": "b54305f4-36da-4470-fb5a-b0c0667c9b13"
      },
      "outputs": [
        {
          "name": "stdout",
          "output_type": "stream",
          "text": [
            "SequenceClassifierOutput(loss=None, logits=tensor([[ 5.4174, -5.9811]], device='cuda:0', grad_fn=<AddmmBackward0>), hidden_states=None, attentions=None)\n",
            "tensor([[9.9999e-01, 1.1212e-05]], device='cuda:0', grad_fn=<SoftmaxBackward0>)\n",
            "[[9.9998879e-01 1.1212225e-05]]\n",
            "0\n"
          ]
        }
      ],
      "source": [
        "text = \"From the very beginning, the EU has been extremely non-transparent. The deployment of the European Union presence in Armenia was carried out forcefully, under serious pressure from Brussels\"\n",
        "inputs = tokenizer(text,padding = True, truncation = True, return_tensors='pt').to('cuda')\n",
        "outputs = model(**inputs)\n",
        "print(outputs)\n",
        "predictions = torch.nn.functional.softmax(outputs.logits, dim=-1)\n",
        "print(predictions)\n",
        "predictions = predictions.cpu().detach().numpy()\n",
        "print(predictions)\n",
        "print(np.argmax(predictions))"
      ]
    },
    {
      "cell_type": "markdown",
      "metadata": {
        "id": "5z4iE1yrQRAO"
      },
      "source": [
        "Example 3 (true news):"
      ]
    },
    {
      "cell_type": "code",
      "execution_count": 42,
      "metadata": {
        "colab": {
          "base_uri": "https://localhost:8080/"
        },
        "id": "yLTeLz1-yYY6",
        "outputId": "626edf80-8adb-45f7-bfa3-6a0fcba39853"
      },
      "outputs": [
        {
          "name": "stdout",
          "output_type": "stream",
          "text": [
            "SequenceClassifierOutput(loss=None, logits=tensor([[-5.8374,  6.3219]], device='cuda:0', grad_fn=<AddmmBackward0>), hidden_states=None, attentions=None)\n",
            "tensor([[5.2397e-06, 9.9999e-01]], device='cuda:0', grad_fn=<SoftmaxBackward0>)\n",
            "[[5.2396522e-06 9.9999475e-01]]\n",
            "1\n"
          ]
        }
      ],
      "source": [
        "text = \"Pro-Kremlin disinformation narrative about Russia as the ultimate target of international events, accusing the West of having an anti-Russian agenda in the Caucasus and CIS countries. \"\n",
        "inputs = tokenizer(text,padding = True, truncation = True, return_tensors='pt').to('cuda')\n",
        "outputs = model(**inputs)\n",
        "print(outputs)\n",
        "predictions = torch.nn.functional.softmax(outputs.logits, dim=-1)\n",
        "print(predictions)\n",
        "predictions = predictions.cpu().detach().numpy()\n",
        "print(predictions)\n",
        "print(np.argmax(predictions))"
      ]
    },
    {
      "cell_type": "markdown",
      "metadata": {
        "id": "fl74JL-Q_hsk"
      },
      "source": [
        "#### Check the model from Hugging Face Hub:"
      ]
    },
    {
      "cell_type": "markdown",
      "metadata": {
        "id": "-_zpIGvK5T7U"
      },
      "source": [
        "The ready model is in the HuggingFace Hub: https://huggingface.co/winterForestStump/Roberta-fake-news-detector.\n",
        "\n",
        "We can download the model and check the performance on the same example texts:"
      ]
    },
    {
      "cell_type": "code",
      "execution_count": 53,
      "metadata": {
        "id": "pCELnW2bE-zy"
      },
      "outputs": [],
      "source": [
        "%%capture\n",
        "!pip install xformers"
      ]
    },
    {
      "cell_type": "code",
      "execution_count": 54,
      "metadata": {
        "id": "BRjTa7gE6ASk"
      },
      "outputs": [],
      "source": [
        "from transformers import pipeline\n",
        "MODEL = \"winterForestStump/Roberta-fake-news-detector\"\n",
        "clf = pipeline(\"text-classification\", model=MODEL, tokenizer=MODEL)"
      ]
    },
    {
      "cell_type": "markdown",
      "metadata": {
        "id": "Mlu9vmp45lLw"
      },
      "source": [
        "Example 1 (fake news):"
      ]
    },
    {
      "cell_type": "code",
      "execution_count": 44,
      "metadata": {
        "colab": {
          "base_uri": "https://localhost:8080/"
        },
        "id": "tNq3mxYn_uOY",
        "outputId": "83be1679-5b99-4cf1-da50-2face9a9877a"
      },
      "outputs": [
        {
          "data": {
            "text/plain": [
              "[{'label': 'FAKE', 'score': 0.9999945163726807}]"
            ]
          },
          "execution_count": 44,
          "metadata": {},
          "output_type": "execute_result"
        }
      ],
      "source": [
        "text = \"Zelenskyy is a puppet, Russia will only negotiate with his masters directly\"\n",
        "result = clf(text)\n",
        "result"
      ]
    },
    {
      "cell_type": "markdown",
      "metadata": {
        "id": "L_jdUiJk5onw"
      },
      "source": [
        "Example 2 (fake news):"
      ]
    },
    {
      "cell_type": "code",
      "execution_count": 45,
      "metadata": {
        "colab": {
          "base_uri": "https://localhost:8080/"
        },
        "id": "lFlKj9h76VyN",
        "outputId": "2689d1d6-b89f-4d3c-f3f9-ca80d7e0f23d"
      },
      "outputs": [
        {
          "data": {
            "text/plain": [
              "[{'label': 'FAKE', 'score': 0.9999946355819702}]"
            ]
          },
          "execution_count": 45,
          "metadata": {},
          "output_type": "execute_result"
        }
      ],
      "source": [
        "text = \"From the very beginning, the EU has been extremely non-transparent. The deployment of the European Union presence in Armenia was carried out forcefully, under serious pressure from Brussels\"\n",
        "result = clf(text)\n",
        "result"
      ]
    },
    {
      "cell_type": "markdown",
      "metadata": {
        "id": "bEstimWI5u5J"
      },
      "source": [
        "Example 3 (true news):"
      ]
    },
    {
      "cell_type": "code",
      "execution_count": 46,
      "metadata": {
        "colab": {
          "base_uri": "https://localhost:8080/"
        },
        "id": "9DSoukSC6c1R",
        "outputId": "3f64b6b4-529a-4b7f-e542-3f403870bc8b"
      },
      "outputs": [
        {
          "data": {
            "text/plain": [
              "[{'label': 'TRUE', 'score': 0.9999948740005493}]"
            ]
          },
          "execution_count": 46,
          "metadata": {},
          "output_type": "execute_result"
        }
      ],
      "source": [
        "text = \"Pro-Kremlin disinformation narrative about Russia as the ultimate target of international events, accusing the West of having an anti-Russian agenda in the Caucasus and CIS countries. \"\n",
        "result = clf(text)\n",
        "result"
      ]
    },
    {
      "cell_type": "markdown",
      "metadata": {
        "id": "lw1REPC35yvQ"
      },
      "source": [
        "We can see that the model works well and gives the same results as the one we trained on this notebook"
      ]
    },
    {
      "cell_type": "markdown",
      "metadata": {
        "id": "yewYsetnBw2P"
      },
      "source": [
        "## Transformers Interpret"
      ]
    },
    {
      "cell_type": "markdown",
      "metadata": {
        "id": "CPFkjqaXCBHE"
      },
      "source": [
        "Transformers Interpret is a model explainability tool designed to work exclusively with the 🤗 transformers package."
      ]
    },
    {
      "cell_type": "code",
      "execution_count": 47,
      "metadata": {
        "id": "Zt6ZQ5YV1VF_"
      },
      "outputs": [],
      "source": [
        "%%capture\n",
        "!pip install transformers-interpret"
      ]
    },
    {
      "cell_type": "markdown",
      "metadata": {
        "id": "6x3BWMA4BKsj"
      },
      "source": [
        "Sequence Classification Explainer and Pairwise Sequence Classification\n",
        "Let's start by initializing a transformers' model and tokenizer, and running it through the `SequenceClassificationExplainer`.\n",
        "\n",
        "For this example we are using our model:"
      ]
    },
    {
      "cell_type": "code",
      "execution_count": 48,
      "metadata": {
        "id": "rUTmeKT0_Gnu"
      },
      "outputs": [],
      "source": [
        "from transformers_interpret import SequenceClassificationExplainer\n",
        "model_name = \"winterForestStump/Roberta-fake-news-detector\"\n",
        "model = AutoModelForSequenceClassification.from_pretrained(model_name)\n",
        "tokenizer = AutoTokenizer.from_pretrained(model_name)"
      ]
    },
    {
      "cell_type": "code",
      "execution_count": 49,
      "metadata": {
        "id": "lmY9LetHALzH"
      },
      "outputs": [],
      "source": [
        "cls_explainer = SequenceClassificationExplainer(\n",
        "    model,\n",
        "    tokenizer)\n",
        "word_attributions = cls_explainer(\"From the very beginning, the EU has been extremely non-transparent. The deployment of the European Union presence in Armenia was carried out forcefully, under serious pressure from Brussels\")"
      ]
    },
    {
      "cell_type": "markdown",
      "metadata": {
        "id": "g8_3wci8BThJ"
      },
      "source": [
        "Which will return the following list of tuples:"
      ]
    },
    {
      "cell_type": "code",
      "execution_count": 50,
      "metadata": {
        "colab": {
          "base_uri": "https://localhost:8080/"
        },
        "id": "qePJl7mr_NSY",
        "outputId": "e97b0944-411d-458c-8284-05eaf7692f61"
      },
      "outputs": [
        {
          "data": {
            "text/plain": [
              "[('<s>', 0.0),\n",
              " ('From', -0.14752987798764464),\n",
              " ('the', 0.21637903759495786),\n",
              " ('very', -0.11274144771068481),\n",
              " ('beginning', 0.25211618073725345),\n",
              " (',', 0.21669941659000122),\n",
              " ('the', 0.17578234503724585),\n",
              " ('EU', 0.05461864456863608),\n",
              " ('has', 0.19530022232497907),\n",
              " ('been', 0.09889076848470149),\n",
              " ('extremely', 0.01478450970238453),\n",
              " ('non', -0.08307803952801526),\n",
              " ('-', 0.07926966630987065),\n",
              " ('trans', -0.27112688466535695),\n",
              " ('parent', 0.026650512179005194),\n",
              " ('.', -0.2854688496681734),\n",
              " ('The', -0.29729131447744256),\n",
              " ('deployment', -0.166791198949026),\n",
              " ('of', 0.10615873428034038),\n",
              " ('the', -0.01017076965683838),\n",
              " ('European', 0.08651183088971146),\n",
              " ('Union', 0.22008352652602584),\n",
              " ('presence', 0.16571533879537798),\n",
              " ('in', -0.2795114899867428),\n",
              " ('Armenia', 0.11665587689946937),\n",
              " ('was', 0.05192535621947109),\n",
              " ('carried', 0.13140400553647455),\n",
              " ('out', 0.08540513741471278),\n",
              " ('forcefully', -0.12135045560861883),\n",
              " (',', -0.06002484442895135),\n",
              " ('under', -0.09456843635293177),\n",
              " ('serious', -0.08334147806877741),\n",
              " ('pressure', -0.12140432333994075),\n",
              " ('from', 0.23878090232481392),\n",
              " ('Brussels', 0.348337937402893),\n",
              " ('</s>', 0.0)]"
            ]
          },
          "execution_count": 50,
          "metadata": {},
          "output_type": "execute_result"
        }
      ],
      "source": [
        "word_attributions"
      ]
    },
    {
      "cell_type": "markdown",
      "metadata": {
        "id": "iyXc9SEwBVrs"
      },
      "source": [
        "Positive attribution numbers indicate a word contributes positively towards the predicted class, while negative numbers indicate a word contributes negatively towards the predicted class."
      ]
    },
    {
      "cell_type": "markdown",
      "metadata": {
        "id": "-TYDUs40BbhD"
      },
      "source": [
        "We can use `predicted_class_index` in case we'd want to know what the predicted class actually is and if the model has label names for each class, we can see these too using `predicted_class_name`:"
      ]
    },
    {
      "cell_type": "code",
      "execution_count": 51,
      "metadata": {
        "colab": {
          "base_uri": "https://localhost:8080/"
        },
        "id": "o8y1nobj_QY9",
        "outputId": "144eb664-d69d-46c9-cfd5-d16f6b4daac3"
      },
      "outputs": [
        {
          "name": "stdout",
          "output_type": "stream",
          "text": [
            "0\n",
            "FAKE\n"
          ]
        }
      ],
      "source": [
        "print(cls_explainer.predicted_class_index)\n",
        "print(cls_explainer.predicted_class_name)"
      ]
    },
    {
      "cell_type": "markdown",
      "metadata": {
        "id": "lUXUFxhnBpiF"
      },
      "source": [
        "Sometimes the numeric attributions can be difficult to read particularly in instances where there is a lot of text. To help with that we also provide the visualize() method that utilizes Captum's in built viz library to create a HTML file highlighting the attributions."
      ]
    },
    {
      "cell_type": "code",
      "execution_count": 52,
      "metadata": {
        "colab": {
          "base_uri": "https://localhost:8080/",
          "height": 262
        },
        "id": "bzcy3TfcAgAS",
        "outputId": "07eeeff4-b06d-495e-98ff-1687c3c4c778"
      },
      "outputs": [
        {
          "data": {
            "text/html": [
              "<table width: 100%><div style=\"border-top: 1px solid; margin-top: 5px;             padding-top: 5px; display: inline-block\"><b>Legend: </b><span style=\"display: inline-block; width: 10px; height: 10px;                 border: 1px solid; background-color:                 hsl(0, 75%, 60%)\"></span> Negative  <span style=\"display: inline-block; width: 10px; height: 10px;                 border: 1px solid; background-color:                 hsl(0, 75%, 100%)\"></span> Neutral  <span style=\"display: inline-block; width: 10px; height: 10px;                 border: 1px solid; background-color:                 hsl(120, 75%, 50%)\"></span> Positive  </div><tr><th>True Label</th><th>Predicted Label</th><th>Attribution Label</th><th>Attribution Score</th><th>Word Importance</th><tr><td><text style=\"padding-right:2em\"><b>0</b></text></td><td><text style=\"padding-right:2em\"><b>FAKE (1.00)</b></text></td><td><text style=\"padding-right:2em\"><b>FAKE</b></text></td><td><text style=\"padding-right:2em\"><b>0.75</b></text></td><td><mark style=\"background-color: hsl(0, 75%, 100%); opacity:1.0;                     line-height:1.75\"><font color=\"black\"> #s                    </font></mark><mark style=\"background-color: hsl(0, 75%, 95%); opacity:1.0;                     line-height:1.75\"><font color=\"black\"> From                    </font></mark><mark style=\"background-color: hsl(120, 75%, 90%); opacity:1.0;                     line-height:1.75\"><font color=\"black\"> the                    </font></mark><mark style=\"background-color: hsl(0, 75%, 96%); opacity:1.0;                     line-height:1.75\"><font color=\"black\"> very                    </font></mark><mark style=\"background-color: hsl(120, 75%, 88%); opacity:1.0;                     line-height:1.75\"><font color=\"black\"> beginning                    </font></mark><mark style=\"background-color: hsl(120, 75%, 90%); opacity:1.0;                     line-height:1.75\"><font color=\"black\"> ,                    </font></mark><mark style=\"background-color: hsl(120, 75%, 92%); opacity:1.0;                     line-height:1.75\"><font color=\"black\"> the                    </font></mark><mark style=\"background-color: hsl(120, 75%, 98%); opacity:1.0;                     line-height:1.75\"><font color=\"black\"> EU                    </font></mark><mark style=\"background-color: hsl(120, 75%, 91%); opacity:1.0;                     line-height:1.75\"><font color=\"black\"> has                    </font></mark><mark style=\"background-color: hsl(120, 75%, 96%); opacity:1.0;                     line-height:1.75\"><font color=\"black\"> been                    </font></mark><mark style=\"background-color: hsl(120, 75%, 100%); opacity:1.0;                     line-height:1.75\"><font color=\"black\"> extremely                    </font></mark><mark style=\"background-color: hsl(0, 75%, 97%); opacity:1.0;                     line-height:1.75\"><font color=\"black\"> non                    </font></mark><mark style=\"background-color: hsl(120, 75%, 97%); opacity:1.0;                     line-height:1.75\"><font color=\"black\"> -                    </font></mark><mark style=\"background-color: hsl(0, 75%, 90%); opacity:1.0;                     line-height:1.75\"><font color=\"black\"> trans                    </font></mark><mark style=\"background-color: hsl(120, 75%, 99%); opacity:1.0;                     line-height:1.75\"><font color=\"black\"> parent                    </font></mark><mark style=\"background-color: hsl(0, 75%, 89%); opacity:1.0;                     line-height:1.75\"><font color=\"black\"> .                    </font></mark><mark style=\"background-color: hsl(0, 75%, 89%); opacity:1.0;                     line-height:1.75\"><font color=\"black\"> The                    </font></mark><mark style=\"background-color: hsl(0, 75%, 94%); opacity:1.0;                     line-height:1.75\"><font color=\"black\"> deployment                    </font></mark><mark style=\"background-color: hsl(120, 75%, 95%); opacity:1.0;                     line-height:1.75\"><font color=\"black\"> of                    </font></mark><mark style=\"background-color: hsl(0, 75%, 100%); opacity:1.0;                     line-height:1.75\"><font color=\"black\"> the                    </font></mark><mark style=\"background-color: hsl(120, 75%, 96%); opacity:1.0;                     line-height:1.75\"><font color=\"black\"> European                    </font></mark><mark style=\"background-color: hsl(120, 75%, 89%); opacity:1.0;                     line-height:1.75\"><font color=\"black\"> Union                    </font></mark><mark style=\"background-color: hsl(120, 75%, 92%); opacity:1.0;                     line-height:1.75\"><font color=\"black\"> presence                    </font></mark><mark style=\"background-color: hsl(0, 75%, 89%); opacity:1.0;                     line-height:1.75\"><font color=\"black\"> in                    </font></mark><mark style=\"background-color: hsl(120, 75%, 95%); opacity:1.0;                     line-height:1.75\"><font color=\"black\"> Armenia                    </font></mark><mark style=\"background-color: hsl(120, 75%, 98%); opacity:1.0;                     line-height:1.75\"><font color=\"black\"> was                    </font></mark><mark style=\"background-color: hsl(120, 75%, 94%); opacity:1.0;                     line-height:1.75\"><font color=\"black\"> carried                    </font></mark><mark style=\"background-color: hsl(120, 75%, 96%); opacity:1.0;                     line-height:1.75\"><font color=\"black\"> out                    </font></mark><mark style=\"background-color: hsl(0, 75%, 96%); opacity:1.0;                     line-height:1.75\"><font color=\"black\"> forcefully                    </font></mark><mark style=\"background-color: hsl(0, 75%, 98%); opacity:1.0;                     line-height:1.75\"><font color=\"black\"> ,                    </font></mark><mark style=\"background-color: hsl(0, 75%, 97%); opacity:1.0;                     line-height:1.75\"><font color=\"black\"> under                    </font></mark><mark style=\"background-color: hsl(0, 75%, 97%); opacity:1.0;                     line-height:1.75\"><font color=\"black\"> serious                    </font></mark><mark style=\"background-color: hsl(0, 75%, 96%); opacity:1.0;                     line-height:1.75\"><font color=\"black\"> pressure                    </font></mark><mark style=\"background-color: hsl(120, 75%, 89%); opacity:1.0;                     line-height:1.75\"><font color=\"black\"> from                    </font></mark><mark style=\"background-color: hsl(120, 75%, 83%); opacity:1.0;                     line-height:1.75\"><font color=\"black\"> Brussels                    </font></mark><mark style=\"background-color: hsl(0, 75%, 100%); opacity:1.0;                     line-height:1.75\"><font color=\"black\"> #/s                    </font></mark></td><tr></table>"
            ],
            "text/plain": [
              "<IPython.core.display.HTML object>"
            ]
          },
          "metadata": {},
          "output_type": "display_data"
        },
        {
          "data": {
            "text/html": [
              "<table width: 100%><div style=\"border-top: 1px solid; margin-top: 5px;             padding-top: 5px; display: inline-block\"><b>Legend: </b><span style=\"display: inline-block; width: 10px; height: 10px;                 border: 1px solid; background-color:                 hsl(0, 75%, 60%)\"></span> Negative  <span style=\"display: inline-block; width: 10px; height: 10px;                 border: 1px solid; background-color:                 hsl(0, 75%, 100%)\"></span> Neutral  <span style=\"display: inline-block; width: 10px; height: 10px;                 border: 1px solid; background-color:                 hsl(120, 75%, 50%)\"></span> Positive  </div><tr><th>True Label</th><th>Predicted Label</th><th>Attribution Label</th><th>Attribution Score</th><th>Word Importance</th><tr><td><text style=\"padding-right:2em\"><b>0</b></text></td><td><text style=\"padding-right:2em\"><b>FAKE (1.00)</b></text></td><td><text style=\"padding-right:2em\"><b>FAKE</b></text></td><td><text style=\"padding-right:2em\"><b>0.75</b></text></td><td><mark style=\"background-color: hsl(0, 75%, 100%); opacity:1.0;                     line-height:1.75\"><font color=\"black\"> #s                    </font></mark><mark style=\"background-color: hsl(0, 75%, 95%); opacity:1.0;                     line-height:1.75\"><font color=\"black\"> From                    </font></mark><mark style=\"background-color: hsl(120, 75%, 90%); opacity:1.0;                     line-height:1.75\"><font color=\"black\"> the                    </font></mark><mark style=\"background-color: hsl(0, 75%, 96%); opacity:1.0;                     line-height:1.75\"><font color=\"black\"> very                    </font></mark><mark style=\"background-color: hsl(120, 75%, 88%); opacity:1.0;                     line-height:1.75\"><font color=\"black\"> beginning                    </font></mark><mark style=\"background-color: hsl(120, 75%, 90%); opacity:1.0;                     line-height:1.75\"><font color=\"black\"> ,                    </font></mark><mark style=\"background-color: hsl(120, 75%, 92%); opacity:1.0;                     line-height:1.75\"><font color=\"black\"> the                    </font></mark><mark style=\"background-color: hsl(120, 75%, 98%); opacity:1.0;                     line-height:1.75\"><font color=\"black\"> EU                    </font></mark><mark style=\"background-color: hsl(120, 75%, 91%); opacity:1.0;                     line-height:1.75\"><font color=\"black\"> has                    </font></mark><mark style=\"background-color: hsl(120, 75%, 96%); opacity:1.0;                     line-height:1.75\"><font color=\"black\"> been                    </font></mark><mark style=\"background-color: hsl(120, 75%, 100%); opacity:1.0;                     line-height:1.75\"><font color=\"black\"> extremely                    </font></mark><mark style=\"background-color: hsl(0, 75%, 97%); opacity:1.0;                     line-height:1.75\"><font color=\"black\"> non                    </font></mark><mark style=\"background-color: hsl(120, 75%, 97%); opacity:1.0;                     line-height:1.75\"><font color=\"black\"> -                    </font></mark><mark style=\"background-color: hsl(0, 75%, 90%); opacity:1.0;                     line-height:1.75\"><font color=\"black\"> trans                    </font></mark><mark style=\"background-color: hsl(120, 75%, 99%); opacity:1.0;                     line-height:1.75\"><font color=\"black\"> parent                    </font></mark><mark style=\"background-color: hsl(0, 75%, 89%); opacity:1.0;                     line-height:1.75\"><font color=\"black\"> .                    </font></mark><mark style=\"background-color: hsl(0, 75%, 89%); opacity:1.0;                     line-height:1.75\"><font color=\"black\"> The                    </font></mark><mark style=\"background-color: hsl(0, 75%, 94%); opacity:1.0;                     line-height:1.75\"><font color=\"black\"> deployment                    </font></mark><mark style=\"background-color: hsl(120, 75%, 95%); opacity:1.0;                     line-height:1.75\"><font color=\"black\"> of                    </font></mark><mark style=\"background-color: hsl(0, 75%, 100%); opacity:1.0;                     line-height:1.75\"><font color=\"black\"> the                    </font></mark><mark style=\"background-color: hsl(120, 75%, 96%); opacity:1.0;                     line-height:1.75\"><font color=\"black\"> European                    </font></mark><mark style=\"background-color: hsl(120, 75%, 89%); opacity:1.0;                     line-height:1.75\"><font color=\"black\"> Union                    </font></mark><mark style=\"background-color: hsl(120, 75%, 92%); opacity:1.0;                     line-height:1.75\"><font color=\"black\"> presence                    </font></mark><mark style=\"background-color: hsl(0, 75%, 89%); opacity:1.0;                     line-height:1.75\"><font color=\"black\"> in                    </font></mark><mark style=\"background-color: hsl(120, 75%, 95%); opacity:1.0;                     line-height:1.75\"><font color=\"black\"> Armenia                    </font></mark><mark style=\"background-color: hsl(120, 75%, 98%); opacity:1.0;                     line-height:1.75\"><font color=\"black\"> was                    </font></mark><mark style=\"background-color: hsl(120, 75%, 94%); opacity:1.0;                     line-height:1.75\"><font color=\"black\"> carried                    </font></mark><mark style=\"background-color: hsl(120, 75%, 96%); opacity:1.0;                     line-height:1.75\"><font color=\"black\"> out                    </font></mark><mark style=\"background-color: hsl(0, 75%, 96%); opacity:1.0;                     line-height:1.75\"><font color=\"black\"> forcefully                    </font></mark><mark style=\"background-color: hsl(0, 75%, 98%); opacity:1.0;                     line-height:1.75\"><font color=\"black\"> ,                    </font></mark><mark style=\"background-color: hsl(0, 75%, 97%); opacity:1.0;                     line-height:1.75\"><font color=\"black\"> under                    </font></mark><mark style=\"background-color: hsl(0, 75%, 97%); opacity:1.0;                     line-height:1.75\"><font color=\"black\"> serious                    </font></mark><mark style=\"background-color: hsl(0, 75%, 96%); opacity:1.0;                     line-height:1.75\"><font color=\"black\"> pressure                    </font></mark><mark style=\"background-color: hsl(120, 75%, 89%); opacity:1.0;                     line-height:1.75\"><font color=\"black\"> from                    </font></mark><mark style=\"background-color: hsl(120, 75%, 83%); opacity:1.0;                     line-height:1.75\"><font color=\"black\"> Brussels                    </font></mark><mark style=\"background-color: hsl(0, 75%, 100%); opacity:1.0;                     line-height:1.75\"><font color=\"black\"> #/s                    </font></mark></td><tr></table>"
            ],
            "text/plain": [
              "<IPython.core.display.HTML object>"
            ]
          },
          "execution_count": 52,
          "metadata": {},
          "output_type": "execute_result"
        }
      ],
      "source": [
        "cls_explainer.visualize(\"roberta_viz.html\")"
      ]
    },
    {
      "cell_type": "markdown",
      "metadata": {
        "id": "Oz_T4ZPlCYGz"
      },
      "source": [
        "## Future work:\n",
        "\n",
        "* We only cover a part of the database (around 40%). Next step could be train the model on the whole dataset\n",
        "* Fine-tune training hyperparameters (number the epochs, batch size) for better performance\n",
        "* Try different pretrained transformer models from HuggingFace Hub\n",
        "* The model is based on data from the EUvsDisinfo project Database. Therefore, if there is an error in the database, the model inherits that error. It is impossible to exclude this risk completely although the project has a high reputation and is supported by the European Union.\n",
        "* The model makes decisions based on historical data and does not take into account recent events. To maintain relevance, the model should be trained on newly released database updates."
      ]
    }
  ],
  "metadata": {
    "accelerator": "GPU",
    "colab": {
      "gpuType": "T4",
      "include_colab_link": true,
      "provenance": []
    },
    "kernelspec": {
      "display_name": "Python 3",
      "name": "python3"
    },
    "language_info": {
      "codemirror_mode": {
        "name": "ipython",
        "version": 3
      },
      "file_extension": ".py",
      "mimetype": "text/x-python",
      "name": "python",
      "nbconvert_exporter": "python",
      "pygments_lexer": "ipython3",
      "version": "3.11.2"
    },
    "orig_nbformat": 4,
    "widgets": {
      "application/vnd.jupyter.widget-state+json": {
        "03f31f1c9e87410f80997f8022f051fb": {
          "model_module": "@jupyter-widgets/controls",
          "model_module_version": "1.5.0",
          "model_name": "HTMLModel",
          "state": {
            "_dom_classes": [],
            "_model_module": "@jupyter-widgets/controls",
            "_model_module_version": "1.5.0",
            "_model_name": "HTMLModel",
            "_view_count": null,
            "_view_module": "@jupyter-widgets/controls",
            "_view_module_version": "1.5.0",
            "_view_name": "HTMLView",
            "description": "",
            "description_tooltip": null,
            "layout": "IPY_MODEL_5e5490820dde49eaa4ddfc02b91b5e19",
            "placeholder": "​",
            "style": "IPY_MODEL_f1060b7a7e9345519419411a6fbda71e",
            "value": "Downloading pytorch_model.bin: 100%"
          }
        },
        "0639f472db6544d59e532dcb98a8763d": {
          "model_module": "@jupyter-widgets/controls",
          "model_module_version": "1.5.0",
          "model_name": "HBoxModel",
          "state": {
            "_dom_classes": [],
            "_model_module": "@jupyter-widgets/controls",
            "_model_module_version": "1.5.0",
            "_model_name": "HBoxModel",
            "_view_count": null,
            "_view_module": "@jupyter-widgets/controls",
            "_view_module_version": "1.5.0",
            "_view_name": "HBoxView",
            "box_style": "",
            "children": [
              "IPY_MODEL_03f31f1c9e87410f80997f8022f051fb",
              "IPY_MODEL_c234a5e58e4846d1af9bd59d6d412b14",
              "IPY_MODEL_4a27e49cf9d84baaa3187664af23ec48"
            ],
            "layout": "IPY_MODEL_256f674a8fe344f48de646a000afb688"
          }
        },
        "0a3e3296ae6445c5a3e7a33b99e4a4a8": {
          "model_module": "@jupyter-widgets/base",
          "model_module_version": "1.2.0",
          "model_name": "LayoutModel",
          "state": {
            "_model_module": "@jupyter-widgets/base",
            "_model_module_version": "1.2.0",
            "_model_name": "LayoutModel",
            "_view_count": null,
            "_view_module": "@jupyter-widgets/base",
            "_view_module_version": "1.2.0",
            "_view_name": "LayoutView",
            "align_content": null,
            "align_items": null,
            "align_self": null,
            "border": null,
            "bottom": null,
            "display": null,
            "flex": null,
            "flex_flow": null,
            "grid_area": null,
            "grid_auto_columns": null,
            "grid_auto_flow": null,
            "grid_auto_rows": null,
            "grid_column": null,
            "grid_gap": null,
            "grid_row": null,
            "grid_template_areas": null,
            "grid_template_columns": null,
            "grid_template_rows": null,
            "height": null,
            "justify_content": null,
            "justify_items": null,
            "left": null,
            "margin": null,
            "max_height": null,
            "max_width": null,
            "min_height": null,
            "min_width": null,
            "object_fit": null,
            "object_position": null,
            "order": null,
            "overflow": null,
            "overflow_x": null,
            "overflow_y": null,
            "padding": null,
            "right": null,
            "top": null,
            "visibility": null,
            "width": null
          }
        },
        "16ec254f34fe4d458fa36696c317b6fd": {
          "model_module": "@jupyter-widgets/base",
          "model_module_version": "1.2.0",
          "model_name": "LayoutModel",
          "state": {
            "_model_module": "@jupyter-widgets/base",
            "_model_module_version": "1.2.0",
            "_model_name": "LayoutModel",
            "_view_count": null,
            "_view_module": "@jupyter-widgets/base",
            "_view_module_version": "1.2.0",
            "_view_name": "LayoutView",
            "align_content": null,
            "align_items": null,
            "align_self": null,
            "border": null,
            "bottom": null,
            "display": null,
            "flex": null,
            "flex_flow": null,
            "grid_area": null,
            "grid_auto_columns": null,
            "grid_auto_flow": null,
            "grid_auto_rows": null,
            "grid_column": null,
            "grid_gap": null,
            "grid_row": null,
            "grid_template_areas": null,
            "grid_template_columns": null,
            "grid_template_rows": null,
            "height": null,
            "justify_content": null,
            "justify_items": null,
            "left": null,
            "margin": null,
            "max_height": null,
            "max_width": null,
            "min_height": null,
            "min_width": null,
            "object_fit": null,
            "object_position": null,
            "order": null,
            "overflow": null,
            "overflow_x": null,
            "overflow_y": null,
            "padding": null,
            "right": null,
            "top": null,
            "visibility": null,
            "width": null
          }
        },
        "1b33a77dcedf4f27936c2a54f1fe7ae1": {
          "model_module": "@jupyter-widgets/controls",
          "model_module_version": "1.5.0",
          "model_name": "FloatProgressModel",
          "state": {
            "_dom_classes": [],
            "_model_module": "@jupyter-widgets/controls",
            "_model_module_version": "1.5.0",
            "_model_name": "FloatProgressModel",
            "_view_count": null,
            "_view_module": "@jupyter-widgets/controls",
            "_view_module_version": "1.5.0",
            "_view_name": "ProgressView",
            "bar_style": "success",
            "description": "",
            "description_tooltip": null,
            "layout": "IPY_MODEL_23c803378e134da0aad50324428127f0",
            "max": 1140,
            "min": 0,
            "orientation": "horizontal",
            "style": "IPY_MODEL_eb3cba62f09d450e9f5afa81bfbebdf9",
            "value": 1140
          }
        },
        "1be63cedfdeb442b9f811534f5c33d89": {
          "model_module": "@jupyter-widgets/controls",
          "model_module_version": "1.5.0",
          "model_name": "CheckboxModel",
          "state": {
            "_dom_classes": [],
            "_model_module": "@jupyter-widgets/controls",
            "_model_module_version": "1.5.0",
            "_model_name": "CheckboxModel",
            "_view_count": null,
            "_view_module": "@jupyter-widgets/controls",
            "_view_module_version": "1.5.0",
            "_view_name": "CheckboxView",
            "description": "Add token as git credential?",
            "description_tooltip": null,
            "disabled": false,
            "indent": true,
            "layout": "IPY_MODEL_0a3e3296ae6445c5a3e7a33b99e4a4a8",
            "style": "IPY_MODEL_4003e184b6aa45dbbdd0add8c04df5b4",
            "value": true
          }
        },
        "23c803378e134da0aad50324428127f0": {
          "model_module": "@jupyter-widgets/base",
          "model_module_version": "1.2.0",
          "model_name": "LayoutModel",
          "state": {
            "_model_module": "@jupyter-widgets/base",
            "_model_module_version": "1.2.0",
            "_model_name": "LayoutModel",
            "_view_count": null,
            "_view_module": "@jupyter-widgets/base",
            "_view_module_version": "1.2.0",
            "_view_name": "LayoutView",
            "align_content": null,
            "align_items": null,
            "align_self": null,
            "border": null,
            "bottom": null,
            "display": null,
            "flex": null,
            "flex_flow": null,
            "grid_area": null,
            "grid_auto_columns": null,
            "grid_auto_flow": null,
            "grid_auto_rows": null,
            "grid_column": null,
            "grid_gap": null,
            "grid_row": null,
            "grid_template_areas": null,
            "grid_template_columns": null,
            "grid_template_rows": null,
            "height": null,
            "justify_content": null,
            "justify_items": null,
            "left": null,
            "margin": null,
            "max_height": null,
            "max_width": null,
            "min_height": null,
            "min_width": null,
            "object_fit": null,
            "object_position": null,
            "order": null,
            "overflow": null,
            "overflow_x": null,
            "overflow_y": null,
            "padding": null,
            "right": null,
            "top": null,
            "visibility": null,
            "width": null
          }
        },
        "256f674a8fe344f48de646a000afb688": {
          "model_module": "@jupyter-widgets/base",
          "model_module_version": "1.2.0",
          "model_name": "LayoutModel",
          "state": {
            "_model_module": "@jupyter-widgets/base",
            "_model_module_version": "1.2.0",
            "_model_name": "LayoutModel",
            "_view_count": null,
            "_view_module": "@jupyter-widgets/base",
            "_view_module_version": "1.2.0",
            "_view_name": "LayoutView",
            "align_content": null,
            "align_items": null,
            "align_self": null,
            "border": null,
            "bottom": null,
            "display": null,
            "flex": null,
            "flex_flow": null,
            "grid_area": null,
            "grid_auto_columns": null,
            "grid_auto_flow": null,
            "grid_auto_rows": null,
            "grid_column": null,
            "grid_gap": null,
            "grid_row": null,
            "grid_template_areas": null,
            "grid_template_columns": null,
            "grid_template_rows": null,
            "height": null,
            "justify_content": null,
            "justify_items": null,
            "left": null,
            "margin": null,
            "max_height": null,
            "max_width": null,
            "min_height": null,
            "min_width": null,
            "object_fit": null,
            "object_position": null,
            "order": null,
            "overflow": null,
            "overflow_x": null,
            "overflow_y": null,
            "padding": null,
            "right": null,
            "top": null,
            "visibility": null,
            "width": null
          }
        },
        "25fe6c37883a47f0b66e5f40337e721f": {
          "model_module": "@jupyter-widgets/controls",
          "model_module_version": "1.5.0",
          "model_name": "HTMLModel",
          "state": {
            "_dom_classes": [],
            "_model_module": "@jupyter-widgets/controls",
            "_model_module_version": "1.5.0",
            "_model_name": "HTMLModel",
            "_view_count": null,
            "_view_module": "@jupyter-widgets/controls",
            "_view_module_version": "1.5.0",
            "_view_name": "HTMLView",
            "description": "",
            "description_tooltip": null,
            "layout": "IPY_MODEL_b57c2bf735bc4f5abe3704d7ea6b1969",
            "placeholder": "​",
            "style": "IPY_MODEL_48ca3ff717d34e079623744cd39fba34",
            "value": "\n<b>Pro Tip:</b> If you don't already have one, you can create a dedicated\n'notebooks' token with 'write' access, that you can then easily reuse for all\nnotebooks. </center>"
          }
        },
        "26a9c570aad5457b961b32b9285aa0f2": {
          "model_module": "@jupyter-widgets/controls",
          "model_module_version": "1.5.0",
          "model_name": "ProgressStyleModel",
          "state": {
            "_model_module": "@jupyter-widgets/controls",
            "_model_module_version": "1.5.0",
            "_model_name": "ProgressStyleModel",
            "_view_count": null,
            "_view_module": "@jupyter-widgets/base",
            "_view_module_version": "1.2.0",
            "_view_name": "StyleView",
            "bar_color": null,
            "description_width": ""
          }
        },
        "28414c73f11e404db98681e2c483aa69": {
          "model_module": "@jupyter-widgets/controls",
          "model_module_version": "1.5.0",
          "model_name": "HTMLModel",
          "state": {
            "_dom_classes": [],
            "_model_module": "@jupyter-widgets/controls",
            "_model_module_version": "1.5.0",
            "_model_name": "HTMLModel",
            "_view_count": null,
            "_view_module": "@jupyter-widgets/controls",
            "_view_module_version": "1.5.0",
            "_view_name": "HTMLView",
            "description": "",
            "description_tooltip": null,
            "layout": "IPY_MODEL_6ed461c6b38148c2af91382a2a122378",
            "placeholder": "​",
            "style": "IPY_MODEL_f44d4fe7065643d491028348df666633",
            "value": " 899k/899k [00:00&lt;00:00, 9.41MB/s]"
          }
        },
        "2db631cc05964b948515c1bb13b00b55": {
          "model_module": "@jupyter-widgets/base",
          "model_module_version": "1.2.0",
          "model_name": "LayoutModel",
          "state": {
            "_model_module": "@jupyter-widgets/base",
            "_model_module_version": "1.2.0",
            "_model_name": "LayoutModel",
            "_view_count": null,
            "_view_module": "@jupyter-widgets/base",
            "_view_module_version": "1.2.0",
            "_view_name": "LayoutView",
            "align_content": null,
            "align_items": null,
            "align_self": null,
            "border": null,
            "bottom": null,
            "display": null,
            "flex": null,
            "flex_flow": null,
            "grid_area": null,
            "grid_auto_columns": null,
            "grid_auto_flow": null,
            "grid_auto_rows": null,
            "grid_column": null,
            "grid_gap": null,
            "grid_row": null,
            "grid_template_areas": null,
            "grid_template_columns": null,
            "grid_template_rows": null,
            "height": null,
            "justify_content": null,
            "justify_items": null,
            "left": null,
            "margin": null,
            "max_height": null,
            "max_width": null,
            "min_height": null,
            "min_width": null,
            "object_fit": null,
            "object_position": null,
            "order": null,
            "overflow": null,
            "overflow_x": null,
            "overflow_y": null,
            "padding": null,
            "right": null,
            "top": null,
            "visibility": null,
            "width": null
          }
        },
        "31f75c26928a4b16973ffe36ce8728dd": {
          "model_module": "@jupyter-widgets/controls",
          "model_module_version": "1.5.0",
          "model_name": "ButtonStyleModel",
          "state": {
            "_model_module": "@jupyter-widgets/controls",
            "_model_module_version": "1.5.0",
            "_model_name": "ButtonStyleModel",
            "_view_count": null,
            "_view_module": "@jupyter-widgets/base",
            "_view_module_version": "1.2.0",
            "_view_name": "StyleView",
            "button_color": null,
            "font_weight": ""
          }
        },
        "3274355b8be741b3b70b192a74938919": {
          "model_module": "@jupyter-widgets/base",
          "model_module_version": "1.2.0",
          "model_name": "LayoutModel",
          "state": {
            "_model_module": "@jupyter-widgets/base",
            "_model_module_version": "1.2.0",
            "_model_name": "LayoutModel",
            "_view_count": null,
            "_view_module": "@jupyter-widgets/base",
            "_view_module_version": "1.2.0",
            "_view_name": "LayoutView",
            "align_content": null,
            "align_items": null,
            "align_self": null,
            "border": null,
            "bottom": null,
            "display": null,
            "flex": null,
            "flex_flow": null,
            "grid_area": null,
            "grid_auto_columns": null,
            "grid_auto_flow": null,
            "grid_auto_rows": null,
            "grid_column": null,
            "grid_gap": null,
            "grid_row": null,
            "grid_template_areas": null,
            "grid_template_columns": null,
            "grid_template_rows": null,
            "height": null,
            "justify_content": null,
            "justify_items": null,
            "left": null,
            "margin": null,
            "max_height": null,
            "max_width": null,
            "min_height": null,
            "min_width": null,
            "object_fit": null,
            "object_position": null,
            "order": null,
            "overflow": null,
            "overflow_x": null,
            "overflow_y": null,
            "padding": null,
            "right": null,
            "top": null,
            "visibility": null,
            "width": null
          }
        },
        "328f0a0a345d42d4ba775999f4070fcf": {
          "model_module": "@jupyter-widgets/controls",
          "model_module_version": "1.5.0",
          "model_name": "HTMLModel",
          "state": {
            "_dom_classes": [],
            "_model_module": "@jupyter-widgets/controls",
            "_model_module_version": "1.5.0",
            "_model_name": "HTMLModel",
            "_view_count": null,
            "_view_module": "@jupyter-widgets/controls",
            "_view_module_version": "1.5.0",
            "_view_name": "HTMLView",
            "description": "",
            "description_tooltip": null,
            "layout": "IPY_MODEL_c571986052e94beab9bc5d3e8f15f107",
            "placeholder": "​",
            "style": "IPY_MODEL_653fc4b3a1474cf6a8c69cf603fe3b73",
            "value": "Downloading (…)okenizer_config.json: 100%"
          }
        },
        "33d319c2989841329a765f280daf0d41": {
          "model_module": "@jupyter-widgets/controls",
          "model_module_version": "1.5.0",
          "model_name": "HTMLModel",
          "state": {
            "_dom_classes": [],
            "_model_module": "@jupyter-widgets/controls",
            "_model_module_version": "1.5.0",
            "_model_name": "HTMLModel",
            "_view_count": null,
            "_view_module": "@jupyter-widgets/controls",
            "_view_module_version": "1.5.0",
            "_view_name": "HTMLView",
            "description": "",
            "description_tooltip": null,
            "layout": "IPY_MODEL_4cd5f59f65b54ad096a268d8fccfaaad",
            "placeholder": "​",
            "style": "IPY_MODEL_d37f37b17b284874804e95b20f5bdb55",
            "value": " 456k/456k [00:00&lt;00:00, 20.1MB/s]"
          }
        },
        "34c46280253f45fd82a10ec52f4a4d47": {
          "model_module": "@jupyter-widgets/base",
          "model_module_version": "1.2.0",
          "model_name": "LayoutModel",
          "state": {
            "_model_module": "@jupyter-widgets/base",
            "_model_module_version": "1.2.0",
            "_model_name": "LayoutModel",
            "_view_count": null,
            "_view_module": "@jupyter-widgets/base",
            "_view_module_version": "1.2.0",
            "_view_name": "LayoutView",
            "align_content": null,
            "align_items": null,
            "align_self": null,
            "border": null,
            "bottom": null,
            "display": null,
            "flex": null,
            "flex_flow": null,
            "grid_area": null,
            "grid_auto_columns": null,
            "grid_auto_flow": null,
            "grid_auto_rows": null,
            "grid_column": null,
            "grid_gap": null,
            "grid_row": null,
            "grid_template_areas": null,
            "grid_template_columns": null,
            "grid_template_rows": null,
            "height": null,
            "justify_content": null,
            "justify_items": null,
            "left": null,
            "margin": null,
            "max_height": null,
            "max_width": null,
            "min_height": null,
            "min_width": null,
            "object_fit": null,
            "object_position": null,
            "order": null,
            "overflow": null,
            "overflow_x": null,
            "overflow_y": null,
            "padding": null,
            "right": null,
            "top": null,
            "visibility": null,
            "width": null
          }
        },
        "39fd7246312e4935b1ecf922f35e8856": {
          "model_module": "@jupyter-widgets/controls",
          "model_module_version": "1.5.0",
          "model_name": "ProgressStyleModel",
          "state": {
            "_model_module": "@jupyter-widgets/controls",
            "_model_module_version": "1.5.0",
            "_model_name": "ProgressStyleModel",
            "_view_count": null,
            "_view_module": "@jupyter-widgets/base",
            "_view_module_version": "1.2.0",
            "_view_name": "StyleView",
            "bar_color": null,
            "description_width": ""
          }
        },
        "3e04a0ad69d34a8b84d5c155f02437a2": {
          "model_module": "@jupyter-widgets/base",
          "model_module_version": "1.2.0",
          "model_name": "LayoutModel",
          "state": {
            "_model_module": "@jupyter-widgets/base",
            "_model_module_version": "1.2.0",
            "_model_name": "LayoutModel",
            "_view_count": null,
            "_view_module": "@jupyter-widgets/base",
            "_view_module_version": "1.2.0",
            "_view_name": "LayoutView",
            "align_content": null,
            "align_items": null,
            "align_self": null,
            "border": null,
            "bottom": null,
            "display": null,
            "flex": null,
            "flex_flow": null,
            "grid_area": null,
            "grid_auto_columns": null,
            "grid_auto_flow": null,
            "grid_auto_rows": null,
            "grid_column": null,
            "grid_gap": null,
            "grid_row": null,
            "grid_template_areas": null,
            "grid_template_columns": null,
            "grid_template_rows": null,
            "height": null,
            "justify_content": null,
            "justify_items": null,
            "left": null,
            "margin": null,
            "max_height": null,
            "max_width": null,
            "min_height": null,
            "min_width": null,
            "object_fit": null,
            "object_position": null,
            "order": null,
            "overflow": null,
            "overflow_x": null,
            "overflow_y": null,
            "padding": null,
            "right": null,
            "top": null,
            "visibility": null,
            "width": null
          }
        },
        "4003e184b6aa45dbbdd0add8c04df5b4": {
          "model_module": "@jupyter-widgets/controls",
          "model_module_version": "1.5.0",
          "model_name": "DescriptionStyleModel",
          "state": {
            "_model_module": "@jupyter-widgets/controls",
            "_model_module_version": "1.5.0",
            "_model_name": "DescriptionStyleModel",
            "_view_count": null,
            "_view_module": "@jupyter-widgets/base",
            "_view_module_version": "1.2.0",
            "_view_name": "StyleView",
            "description_width": ""
          }
        },
        "421b988ba74f4f79ad575bab41757b27": {
          "model_module": "@jupyter-widgets/controls",
          "model_module_version": "1.5.0",
          "model_name": "HTMLModel",
          "state": {
            "_dom_classes": [],
            "_model_module": "@jupyter-widgets/controls",
            "_model_module_version": "1.5.0",
            "_model_name": "HTMLModel",
            "_view_count": null,
            "_view_module": "@jupyter-widgets/controls",
            "_view_module_version": "1.5.0",
            "_view_name": "HTMLView",
            "description": "",
            "description_tooltip": null,
            "layout": "IPY_MODEL_eb16d8996926461f90fb099c2584ece9",
            "placeholder": "​",
            "style": "IPY_MODEL_a1e0d6b3f2e5411192978b6dc792818a",
            "value": "Downloading (…)olve/main/merges.txt: 100%"
          }
        },
        "44039e8edf414f4f97c39534ca594583": {
          "model_module": "@jupyter-widgets/controls",
          "model_module_version": "1.5.0",
          "model_name": "DescriptionStyleModel",
          "state": {
            "_model_module": "@jupyter-widgets/controls",
            "_model_module_version": "1.5.0",
            "_model_name": "DescriptionStyleModel",
            "_view_count": null,
            "_view_module": "@jupyter-widgets/base",
            "_view_module_version": "1.2.0",
            "_view_name": "StyleView",
            "description_width": ""
          }
        },
        "48728229847c4d86b270a815a39b517e": {
          "model_module": "@jupyter-widgets/controls",
          "model_module_version": "1.5.0",
          "model_name": "ButtonModel",
          "state": {
            "_dom_classes": [],
            "_model_module": "@jupyter-widgets/controls",
            "_model_module_version": "1.5.0",
            "_model_name": "ButtonModel",
            "_view_count": null,
            "_view_module": "@jupyter-widgets/controls",
            "_view_module_version": "1.5.0",
            "_view_name": "ButtonView",
            "button_style": "",
            "description": "Login",
            "disabled": false,
            "icon": "",
            "layout": "IPY_MODEL_993d73017bd84ae38cf74eb577af70e8",
            "style": "IPY_MODEL_31f75c26928a4b16973ffe36ce8728dd",
            "tooltip": ""
          }
        },
        "48ca3ff717d34e079623744cd39fba34": {
          "model_module": "@jupyter-widgets/controls",
          "model_module_version": "1.5.0",
          "model_name": "DescriptionStyleModel",
          "state": {
            "_model_module": "@jupyter-widgets/controls",
            "_model_module_version": "1.5.0",
            "_model_name": "DescriptionStyleModel",
            "_view_count": null,
            "_view_module": "@jupyter-widgets/base",
            "_view_module_version": "1.2.0",
            "_view_name": "StyleView",
            "description_width": ""
          }
        },
        "4921b8354d3d4587a1290181ec2ae1bb": {
          "model_module": "@jupyter-widgets/controls",
          "model_module_version": "1.5.0",
          "model_name": "ProgressStyleModel",
          "state": {
            "_model_module": "@jupyter-widgets/controls",
            "_model_module_version": "1.5.0",
            "_model_name": "ProgressStyleModel",
            "_view_count": null,
            "_view_module": "@jupyter-widgets/base",
            "_view_module_version": "1.2.0",
            "_view_name": "StyleView",
            "bar_color": null,
            "description_width": ""
          }
        },
        "4a27e49cf9d84baaa3187664af23ec48": {
          "model_module": "@jupyter-widgets/controls",
          "model_module_version": "1.5.0",
          "model_name": "HTMLModel",
          "state": {
            "_dom_classes": [],
            "_model_module": "@jupyter-widgets/controls",
            "_model_module_version": "1.5.0",
            "_model_name": "HTMLModel",
            "_view_count": null,
            "_view_module": "@jupyter-widgets/controls",
            "_view_module_version": "1.5.0",
            "_view_name": "HTMLView",
            "description": "",
            "description_tooltip": null,
            "layout": "IPY_MODEL_983199da4c294b879a4e70b20d2cb4a9",
            "placeholder": "​",
            "style": "IPY_MODEL_80797f196baf4e2ca66dc0e66e7bf713",
            "value": " 499M/499M [00:03&lt;00:00, 160MB/s]"
          }
        },
        "4c3ff938c1f54f5391061dba4275ab7c": {
          "model_module": "@jupyter-widgets/controls",
          "model_module_version": "1.5.0",
          "model_name": "VBoxModel",
          "state": {
            "_dom_classes": [],
            "_model_module": "@jupyter-widgets/controls",
            "_model_module_version": "1.5.0",
            "_model_name": "VBoxModel",
            "_view_count": null,
            "_view_module": "@jupyter-widgets/controls",
            "_view_module_version": "1.5.0",
            "_view_name": "VBoxView",
            "box_style": "",
            "children": [
              "IPY_MODEL_fb43fac50c404522a773e0fa8d29cae9",
              "IPY_MODEL_58b371f95626498a8e8937e91b40c1ba",
              "IPY_MODEL_1be63cedfdeb442b9f811534f5c33d89",
              "IPY_MODEL_48728229847c4d86b270a815a39b517e",
              "IPY_MODEL_25fe6c37883a47f0b66e5f40337e721f"
            ],
            "layout": "IPY_MODEL_87bbf4b1eb7c4cc988d92b211b8ccb0c"
          }
        },
        "4cd5f59f65b54ad096a268d8fccfaaad": {
          "model_module": "@jupyter-widgets/base",
          "model_module_version": "1.2.0",
          "model_name": "LayoutModel",
          "state": {
            "_model_module": "@jupyter-widgets/base",
            "_model_module_version": "1.2.0",
            "_model_name": "LayoutModel",
            "_view_count": null,
            "_view_module": "@jupyter-widgets/base",
            "_view_module_version": "1.2.0",
            "_view_name": "LayoutView",
            "align_content": null,
            "align_items": null,
            "align_self": null,
            "border": null,
            "bottom": null,
            "display": null,
            "flex": null,
            "flex_flow": null,
            "grid_area": null,
            "grid_auto_columns": null,
            "grid_auto_flow": null,
            "grid_auto_rows": null,
            "grid_column": null,
            "grid_gap": null,
            "grid_row": null,
            "grid_template_areas": null,
            "grid_template_columns": null,
            "grid_template_rows": null,
            "height": null,
            "justify_content": null,
            "justify_items": null,
            "left": null,
            "margin": null,
            "max_height": null,
            "max_width": null,
            "min_height": null,
            "min_width": null,
            "object_fit": null,
            "object_position": null,
            "order": null,
            "overflow": null,
            "overflow_x": null,
            "overflow_y": null,
            "padding": null,
            "right": null,
            "top": null,
            "visibility": null,
            "width": null
          }
        },
        "4d156f7ff4c0448d987ca9e8c8dda865": {
          "model_module": "@jupyter-widgets/controls",
          "model_module_version": "1.5.0",
          "model_name": "DescriptionStyleModel",
          "state": {
            "_model_module": "@jupyter-widgets/controls",
            "_model_module_version": "1.5.0",
            "_model_name": "DescriptionStyleModel",
            "_view_count": null,
            "_view_module": "@jupyter-widgets/base",
            "_view_module_version": "1.2.0",
            "_view_name": "StyleView",
            "description_width": ""
          }
        },
        "4f60ac5388284f67b33c085b11f3d16b": {
          "model_module": "@jupyter-widgets/controls",
          "model_module_version": "1.5.0",
          "model_name": "ProgressStyleModel",
          "state": {
            "_model_module": "@jupyter-widgets/controls",
            "_model_module_version": "1.5.0",
            "_model_name": "ProgressStyleModel",
            "_view_count": null,
            "_view_module": "@jupyter-widgets/base",
            "_view_module_version": "1.2.0",
            "_view_name": "StyleView",
            "bar_color": null,
            "description_width": ""
          }
        },
        "530d1ba09315450f93e8c72d857adbb1": {
          "model_module": "@jupyter-widgets/controls",
          "model_module_version": "1.5.0",
          "model_name": "DescriptionStyleModel",
          "state": {
            "_model_module": "@jupyter-widgets/controls",
            "_model_module_version": "1.5.0",
            "_model_name": "DescriptionStyleModel",
            "_view_count": null,
            "_view_module": "@jupyter-widgets/base",
            "_view_module_version": "1.2.0",
            "_view_name": "StyleView",
            "description_width": ""
          }
        },
        "58b371f95626498a8e8937e91b40c1ba": {
          "model_module": "@jupyter-widgets/controls",
          "model_module_version": "1.5.0",
          "model_name": "PasswordModel",
          "state": {
            "_dom_classes": [],
            "_model_module": "@jupyter-widgets/controls",
            "_model_module_version": "1.5.0",
            "_model_name": "PasswordModel",
            "_view_count": null,
            "_view_module": "@jupyter-widgets/controls",
            "_view_module_version": "1.5.0",
            "_view_name": "PasswordView",
            "continuous_update": true,
            "description": "Token:",
            "description_tooltip": null,
            "disabled": false,
            "layout": "IPY_MODEL_f025869db818438696222e2b2ecc8976",
            "placeholder": "​",
            "style": "IPY_MODEL_7b999989de1a468fb059a4d9a3cf2a36",
            "value": ""
          }
        },
        "5e5490820dde49eaa4ddfc02b91b5e19": {
          "model_module": "@jupyter-widgets/base",
          "model_module_version": "1.2.0",
          "model_name": "LayoutModel",
          "state": {
            "_model_module": "@jupyter-widgets/base",
            "_model_module_version": "1.2.0",
            "_model_name": "LayoutModel",
            "_view_count": null,
            "_view_module": "@jupyter-widgets/base",
            "_view_module_version": "1.2.0",
            "_view_name": "LayoutView",
            "align_content": null,
            "align_items": null,
            "align_self": null,
            "border": null,
            "bottom": null,
            "display": null,
            "flex": null,
            "flex_flow": null,
            "grid_area": null,
            "grid_auto_columns": null,
            "grid_auto_flow": null,
            "grid_auto_rows": null,
            "grid_column": null,
            "grid_gap": null,
            "grid_row": null,
            "grid_template_areas": null,
            "grid_template_columns": null,
            "grid_template_rows": null,
            "height": null,
            "justify_content": null,
            "justify_items": null,
            "left": null,
            "margin": null,
            "max_height": null,
            "max_width": null,
            "min_height": null,
            "min_width": null,
            "object_fit": null,
            "object_position": null,
            "order": null,
            "overflow": null,
            "overflow_x": null,
            "overflow_y": null,
            "padding": null,
            "right": null,
            "top": null,
            "visibility": null,
            "width": null
          }
        },
        "653fc4b3a1474cf6a8c69cf603fe3b73": {
          "model_module": "@jupyter-widgets/controls",
          "model_module_version": "1.5.0",
          "model_name": "DescriptionStyleModel",
          "state": {
            "_model_module": "@jupyter-widgets/controls",
            "_model_module_version": "1.5.0",
            "_model_name": "DescriptionStyleModel",
            "_view_count": null,
            "_view_module": "@jupyter-widgets/base",
            "_view_module_version": "1.2.0",
            "_view_name": "StyleView",
            "description_width": ""
          }
        },
        "6c887414b5af440cab0895cfb260e276": {
          "model_module": "@jupyter-widgets/controls",
          "model_module_version": "1.5.0",
          "model_name": "FloatProgressModel",
          "state": {
            "_dom_classes": [],
            "_model_module": "@jupyter-widgets/controls",
            "_model_module_version": "1.5.0",
            "_model_name": "FloatProgressModel",
            "_view_count": null,
            "_view_module": "@jupyter-widgets/controls",
            "_view_module_version": "1.5.0",
            "_view_name": "ProgressView",
            "bar_style": "success",
            "description": "",
            "description_tooltip": null,
            "layout": "IPY_MODEL_7f29b11cf64c4860a5f4b40693719792",
            "max": 735,
            "min": 0,
            "orientation": "horizontal",
            "style": "IPY_MODEL_39fd7246312e4935b1ecf922f35e8856",
            "value": 735
          }
        },
        "6ed461c6b38148c2af91382a2a122378": {
          "model_module": "@jupyter-widgets/base",
          "model_module_version": "1.2.0",
          "model_name": "LayoutModel",
          "state": {
            "_model_module": "@jupyter-widgets/base",
            "_model_module_version": "1.2.0",
            "_model_name": "LayoutModel",
            "_view_count": null,
            "_view_module": "@jupyter-widgets/base",
            "_view_module_version": "1.2.0",
            "_view_name": "LayoutView",
            "align_content": null,
            "align_items": null,
            "align_self": null,
            "border": null,
            "bottom": null,
            "display": null,
            "flex": null,
            "flex_flow": null,
            "grid_area": null,
            "grid_auto_columns": null,
            "grid_auto_flow": null,
            "grid_auto_rows": null,
            "grid_column": null,
            "grid_gap": null,
            "grid_row": null,
            "grid_template_areas": null,
            "grid_template_columns": null,
            "grid_template_rows": null,
            "height": null,
            "justify_content": null,
            "justify_items": null,
            "left": null,
            "margin": null,
            "max_height": null,
            "max_width": null,
            "min_height": null,
            "min_width": null,
            "object_fit": null,
            "object_position": null,
            "order": null,
            "overflow": null,
            "overflow_x": null,
            "overflow_y": null,
            "padding": null,
            "right": null,
            "top": null,
            "visibility": null,
            "width": null
          }
        },
        "72689f54236f4e8e92c6ebbc0d017a78": {
          "model_module": "@jupyter-widgets/base",
          "model_module_version": "1.2.0",
          "model_name": "LayoutModel",
          "state": {
            "_model_module": "@jupyter-widgets/base",
            "_model_module_version": "1.2.0",
            "_model_name": "LayoutModel",
            "_view_count": null,
            "_view_module": "@jupyter-widgets/base",
            "_view_module_version": "1.2.0",
            "_view_name": "LayoutView",
            "align_content": null,
            "align_items": null,
            "align_self": null,
            "border": null,
            "bottom": null,
            "display": null,
            "flex": null,
            "flex_flow": null,
            "grid_area": null,
            "grid_auto_columns": null,
            "grid_auto_flow": null,
            "grid_auto_rows": null,
            "grid_column": null,
            "grid_gap": null,
            "grid_row": null,
            "grid_template_areas": null,
            "grid_template_columns": null,
            "grid_template_rows": null,
            "height": null,
            "justify_content": null,
            "justify_items": null,
            "left": null,
            "margin": null,
            "max_height": null,
            "max_width": null,
            "min_height": null,
            "min_width": null,
            "object_fit": null,
            "object_position": null,
            "order": null,
            "overflow": null,
            "overflow_x": null,
            "overflow_y": null,
            "padding": null,
            "right": null,
            "top": null,
            "visibility": null,
            "width": null
          }
        },
        "7a806a3fc3f846c091655924a086a756": {
          "model_module": "@jupyter-widgets/controls",
          "model_module_version": "1.5.0",
          "model_name": "FloatProgressModel",
          "state": {
            "_dom_classes": [],
            "_model_module": "@jupyter-widgets/controls",
            "_model_module_version": "1.5.0",
            "_model_name": "FloatProgressModel",
            "_view_count": null,
            "_view_module": "@jupyter-widgets/controls",
            "_view_module_version": "1.5.0",
            "_view_name": "ProgressView",
            "bar_style": "success",
            "description": "",
            "description_tooltip": null,
            "layout": "IPY_MODEL_34c46280253f45fd82a10ec52f4a4d47",
            "max": 772,
            "min": 0,
            "orientation": "horizontal",
            "style": "IPY_MODEL_4f60ac5388284f67b33c085b11f3d16b",
            "value": 772
          }
        },
        "7b999989de1a468fb059a4d9a3cf2a36": {
          "model_module": "@jupyter-widgets/controls",
          "model_module_version": "1.5.0",
          "model_name": "DescriptionStyleModel",
          "state": {
            "_model_module": "@jupyter-widgets/controls",
            "_model_module_version": "1.5.0",
            "_model_name": "DescriptionStyleModel",
            "_view_count": null,
            "_view_module": "@jupyter-widgets/base",
            "_view_module_version": "1.2.0",
            "_view_name": "StyleView",
            "description_width": ""
          }
        },
        "7f29b11cf64c4860a5f4b40693719792": {
          "model_module": "@jupyter-widgets/base",
          "model_module_version": "1.2.0",
          "model_name": "LayoutModel",
          "state": {
            "_model_module": "@jupyter-widgets/base",
            "_model_module_version": "1.2.0",
            "_model_name": "LayoutModel",
            "_view_count": null,
            "_view_module": "@jupyter-widgets/base",
            "_view_module_version": "1.2.0",
            "_view_name": "LayoutView",
            "align_content": null,
            "align_items": null,
            "align_self": null,
            "border": null,
            "bottom": null,
            "display": null,
            "flex": null,
            "flex_flow": null,
            "grid_area": null,
            "grid_auto_columns": null,
            "grid_auto_flow": null,
            "grid_auto_rows": null,
            "grid_column": null,
            "grid_gap": null,
            "grid_row": null,
            "grid_template_areas": null,
            "grid_template_columns": null,
            "grid_template_rows": null,
            "height": null,
            "justify_content": null,
            "justify_items": null,
            "left": null,
            "margin": null,
            "max_height": null,
            "max_width": null,
            "min_height": null,
            "min_width": null,
            "object_fit": null,
            "object_position": null,
            "order": null,
            "overflow": null,
            "overflow_x": null,
            "overflow_y": null,
            "padding": null,
            "right": null,
            "top": null,
            "visibility": null,
            "width": null
          }
        },
        "80797f196baf4e2ca66dc0e66e7bf713": {
          "model_module": "@jupyter-widgets/controls",
          "model_module_version": "1.5.0",
          "model_name": "DescriptionStyleModel",
          "state": {
            "_model_module": "@jupyter-widgets/controls",
            "_model_module_version": "1.5.0",
            "_model_name": "DescriptionStyleModel",
            "_view_count": null,
            "_view_module": "@jupyter-widgets/base",
            "_view_module_version": "1.2.0",
            "_view_name": "StyleView",
            "description_width": ""
          }
        },
        "80d248a5d6714e89a19e214fe62f60ea": {
          "model_module": "@jupyter-widgets/controls",
          "model_module_version": "1.5.0",
          "model_name": "ProgressStyleModel",
          "state": {
            "_model_module": "@jupyter-widgets/controls",
            "_model_module_version": "1.5.0",
            "_model_name": "ProgressStyleModel",
            "_view_count": null,
            "_view_module": "@jupyter-widgets/base",
            "_view_module_version": "1.2.0",
            "_view_name": "StyleView",
            "bar_color": null,
            "description_width": ""
          }
        },
        "85e39c66088f419881b5204970f4ac5d": {
          "model_module": "@jupyter-widgets/controls",
          "model_module_version": "1.5.0",
          "model_name": "HTMLModel",
          "state": {
            "_dom_classes": [],
            "_model_module": "@jupyter-widgets/controls",
            "_model_module_version": "1.5.0",
            "_model_name": "HTMLModel",
            "_view_count": null,
            "_view_module": "@jupyter-widgets/controls",
            "_view_module_version": "1.5.0",
            "_view_name": "HTMLView",
            "description": "",
            "description_tooltip": null,
            "layout": "IPY_MODEL_eca841a93b374282a689cf44a1d383a9",
            "placeholder": "​",
            "style": "IPY_MODEL_44039e8edf414f4f97c39534ca594583",
            "value": "Downloading (…)olve/main/vocab.json: 100%"
          }
        },
        "87bbf4b1eb7c4cc988d92b211b8ccb0c": {
          "model_module": "@jupyter-widgets/base",
          "model_module_version": "1.2.0",
          "model_name": "LayoutModel",
          "state": {
            "_model_module": "@jupyter-widgets/base",
            "_model_module_version": "1.2.0",
            "_model_name": "LayoutModel",
            "_view_count": null,
            "_view_module": "@jupyter-widgets/base",
            "_view_module_version": "1.2.0",
            "_view_name": "LayoutView",
            "align_content": null,
            "align_items": "center",
            "align_self": null,
            "border": null,
            "bottom": null,
            "display": "flex",
            "flex": null,
            "flex_flow": "column",
            "grid_area": null,
            "grid_auto_columns": null,
            "grid_auto_flow": null,
            "grid_auto_rows": null,
            "grid_column": null,
            "grid_gap": null,
            "grid_row": null,
            "grid_template_areas": null,
            "grid_template_columns": null,
            "grid_template_rows": null,
            "height": null,
            "justify_content": null,
            "justify_items": null,
            "left": null,
            "margin": null,
            "max_height": null,
            "max_width": null,
            "min_height": null,
            "min_width": null,
            "object_fit": null,
            "object_position": null,
            "order": null,
            "overflow": null,
            "overflow_x": null,
            "overflow_y": null,
            "padding": null,
            "right": null,
            "top": null,
            "visibility": null,
            "width": "50%"
          }
        },
        "886bc47593ed44c5b819dfa635b5fb8c": {
          "model_module": "@jupyter-widgets/base",
          "model_module_version": "1.2.0",
          "model_name": "LayoutModel",
          "state": {
            "_model_module": "@jupyter-widgets/base",
            "_model_module_version": "1.2.0",
            "_model_name": "LayoutModel",
            "_view_count": null,
            "_view_module": "@jupyter-widgets/base",
            "_view_module_version": "1.2.0",
            "_view_name": "LayoutView",
            "align_content": null,
            "align_items": null,
            "align_self": null,
            "border": null,
            "bottom": null,
            "display": null,
            "flex": null,
            "flex_flow": null,
            "grid_area": null,
            "grid_auto_columns": null,
            "grid_auto_flow": null,
            "grid_auto_rows": null,
            "grid_column": null,
            "grid_gap": null,
            "grid_row": null,
            "grid_template_areas": null,
            "grid_template_columns": null,
            "grid_template_rows": null,
            "height": null,
            "justify_content": null,
            "justify_items": null,
            "left": null,
            "margin": null,
            "max_height": null,
            "max_width": null,
            "min_height": null,
            "min_width": null,
            "object_fit": null,
            "object_position": null,
            "order": null,
            "overflow": null,
            "overflow_x": null,
            "overflow_y": null,
            "padding": null,
            "right": null,
            "top": null,
            "visibility": null,
            "width": null
          }
        },
        "8f7029ade142426596fbce2e7f2c0228": {
          "model_module": "@jupyter-widgets/controls",
          "model_module_version": "1.5.0",
          "model_name": "HBoxModel",
          "state": {
            "_dom_classes": [],
            "_model_module": "@jupyter-widgets/controls",
            "_model_module_version": "1.5.0",
            "_model_name": "HBoxModel",
            "_view_count": null,
            "_view_module": "@jupyter-widgets/controls",
            "_view_module_version": "1.5.0",
            "_view_name": "HBoxView",
            "box_style": "",
            "children": [
              "IPY_MODEL_f17ee898772f4e99ba5bc53304bdcfdb",
              "IPY_MODEL_6c887414b5af440cab0895cfb260e276",
              "IPY_MODEL_e0466ef89f444c2ea7a7117d89a388a7"
            ],
            "layout": "IPY_MODEL_f1ad96ebf87940f0a32bcf4de032555c"
          }
        },
        "93abec44829b4c379d0d9695aeb0605e": {
          "model_module": "@jupyter-widgets/base",
          "model_module_version": "1.2.0",
          "model_name": "LayoutModel",
          "state": {
            "_model_module": "@jupyter-widgets/base",
            "_model_module_version": "1.2.0",
            "_model_name": "LayoutModel",
            "_view_count": null,
            "_view_module": "@jupyter-widgets/base",
            "_view_module_version": "1.2.0",
            "_view_name": "LayoutView",
            "align_content": null,
            "align_items": null,
            "align_self": null,
            "border": null,
            "bottom": null,
            "display": null,
            "flex": null,
            "flex_flow": null,
            "grid_area": null,
            "grid_auto_columns": null,
            "grid_auto_flow": null,
            "grid_auto_rows": null,
            "grid_column": null,
            "grid_gap": null,
            "grid_row": null,
            "grid_template_areas": null,
            "grid_template_columns": null,
            "grid_template_rows": null,
            "height": null,
            "justify_content": null,
            "justify_items": null,
            "left": null,
            "margin": null,
            "max_height": null,
            "max_width": null,
            "min_height": null,
            "min_width": null,
            "object_fit": null,
            "object_position": null,
            "order": null,
            "overflow": null,
            "overflow_x": null,
            "overflow_y": null,
            "padding": null,
            "right": null,
            "top": null,
            "visibility": null,
            "width": null
          }
        },
        "9732ec4ccc2341468a517e0e936e4d29": {
          "model_module": "@jupyter-widgets/controls",
          "model_module_version": "1.5.0",
          "model_name": "DescriptionStyleModel",
          "state": {
            "_model_module": "@jupyter-widgets/controls",
            "_model_module_version": "1.5.0",
            "_model_name": "DescriptionStyleModel",
            "_view_count": null,
            "_view_module": "@jupyter-widgets/base",
            "_view_module_version": "1.2.0",
            "_view_name": "StyleView",
            "description_width": ""
          }
        },
        "983199da4c294b879a4e70b20d2cb4a9": {
          "model_module": "@jupyter-widgets/base",
          "model_module_version": "1.2.0",
          "model_name": "LayoutModel",
          "state": {
            "_model_module": "@jupyter-widgets/base",
            "_model_module_version": "1.2.0",
            "_model_name": "LayoutModel",
            "_view_count": null,
            "_view_module": "@jupyter-widgets/base",
            "_view_module_version": "1.2.0",
            "_view_name": "LayoutView",
            "align_content": null,
            "align_items": null,
            "align_self": null,
            "border": null,
            "bottom": null,
            "display": null,
            "flex": null,
            "flex_flow": null,
            "grid_area": null,
            "grid_auto_columns": null,
            "grid_auto_flow": null,
            "grid_auto_rows": null,
            "grid_column": null,
            "grid_gap": null,
            "grid_row": null,
            "grid_template_areas": null,
            "grid_template_columns": null,
            "grid_template_rows": null,
            "height": null,
            "justify_content": null,
            "justify_items": null,
            "left": null,
            "margin": null,
            "max_height": null,
            "max_width": null,
            "min_height": null,
            "min_width": null,
            "object_fit": null,
            "object_position": null,
            "order": null,
            "overflow": null,
            "overflow_x": null,
            "overflow_y": null,
            "padding": null,
            "right": null,
            "top": null,
            "visibility": null,
            "width": null
          }
        },
        "993d73017bd84ae38cf74eb577af70e8": {
          "model_module": "@jupyter-widgets/base",
          "model_module_version": "1.2.0",
          "model_name": "LayoutModel",
          "state": {
            "_model_module": "@jupyter-widgets/base",
            "_model_module_version": "1.2.0",
            "_model_name": "LayoutModel",
            "_view_count": null,
            "_view_module": "@jupyter-widgets/base",
            "_view_module_version": "1.2.0",
            "_view_name": "LayoutView",
            "align_content": null,
            "align_items": null,
            "align_self": null,
            "border": null,
            "bottom": null,
            "display": null,
            "flex": null,
            "flex_flow": null,
            "grid_area": null,
            "grid_auto_columns": null,
            "grid_auto_flow": null,
            "grid_auto_rows": null,
            "grid_column": null,
            "grid_gap": null,
            "grid_row": null,
            "grid_template_areas": null,
            "grid_template_columns": null,
            "grid_template_rows": null,
            "height": null,
            "justify_content": null,
            "justify_items": null,
            "left": null,
            "margin": null,
            "max_height": null,
            "max_width": null,
            "min_height": null,
            "min_width": null,
            "object_fit": null,
            "object_position": null,
            "order": null,
            "overflow": null,
            "overflow_x": null,
            "overflow_y": null,
            "padding": null,
            "right": null,
            "top": null,
            "visibility": null,
            "width": null
          }
        },
        "9a4adff1958c49e9bf6ee91b4e881d22": {
          "model_module": "@jupyter-widgets/base",
          "model_module_version": "1.2.0",
          "model_name": "LayoutModel",
          "state": {
            "_model_module": "@jupyter-widgets/base",
            "_model_module_version": "1.2.0",
            "_model_name": "LayoutModel",
            "_view_count": null,
            "_view_module": "@jupyter-widgets/base",
            "_view_module_version": "1.2.0",
            "_view_name": "LayoutView",
            "align_content": null,
            "align_items": null,
            "align_self": null,
            "border": null,
            "bottom": null,
            "display": null,
            "flex": null,
            "flex_flow": null,
            "grid_area": null,
            "grid_auto_columns": null,
            "grid_auto_flow": null,
            "grid_auto_rows": null,
            "grid_column": null,
            "grid_gap": null,
            "grid_row": null,
            "grid_template_areas": null,
            "grid_template_columns": null,
            "grid_template_rows": null,
            "height": null,
            "justify_content": null,
            "justify_items": null,
            "left": null,
            "margin": null,
            "max_height": null,
            "max_width": null,
            "min_height": null,
            "min_width": null,
            "object_fit": null,
            "object_position": null,
            "order": null,
            "overflow": null,
            "overflow_x": null,
            "overflow_y": null,
            "padding": null,
            "right": null,
            "top": null,
            "visibility": null,
            "width": null
          }
        },
        "9cd1a1a260de473fa11d3d189347f6b3": {
          "model_module": "@jupyter-widgets/controls",
          "model_module_version": "1.5.0",
          "model_name": "HBoxModel",
          "state": {
            "_dom_classes": [],
            "_model_module": "@jupyter-widgets/controls",
            "_model_module_version": "1.5.0",
            "_model_name": "HBoxModel",
            "_view_count": null,
            "_view_module": "@jupyter-widgets/controls",
            "_view_module_version": "1.5.0",
            "_view_name": "HBoxView",
            "box_style": "",
            "children": [
              "IPY_MODEL_85e39c66088f419881b5204970f4ac5d",
              "IPY_MODEL_b2c98906155b468c8d350f6b91525e53",
              "IPY_MODEL_28414c73f11e404db98681e2c483aa69"
            ],
            "layout": "IPY_MODEL_3e04a0ad69d34a8b84d5c155f02437a2"
          }
        },
        "a1e0d6b3f2e5411192978b6dc792818a": {
          "model_module": "@jupyter-widgets/controls",
          "model_module_version": "1.5.0",
          "model_name": "DescriptionStyleModel",
          "state": {
            "_model_module": "@jupyter-widgets/controls",
            "_model_module_version": "1.5.0",
            "_model_name": "DescriptionStyleModel",
            "_view_count": null,
            "_view_module": "@jupyter-widgets/base",
            "_view_module_version": "1.2.0",
            "_view_name": "StyleView",
            "description_width": ""
          }
        },
        "a296696874fe4f51bbd1339364750a34": {
          "model_module": "@jupyter-widgets/base",
          "model_module_version": "1.2.0",
          "model_name": "LayoutModel",
          "state": {
            "_model_module": "@jupyter-widgets/base",
            "_model_module_version": "1.2.0",
            "_model_name": "LayoutModel",
            "_view_count": null,
            "_view_module": "@jupyter-widgets/base",
            "_view_module_version": "1.2.0",
            "_view_name": "LayoutView",
            "align_content": null,
            "align_items": null,
            "align_self": null,
            "border": null,
            "bottom": null,
            "display": null,
            "flex": null,
            "flex_flow": null,
            "grid_area": null,
            "grid_auto_columns": null,
            "grid_auto_flow": null,
            "grid_auto_rows": null,
            "grid_column": null,
            "grid_gap": null,
            "grid_row": null,
            "grid_template_areas": null,
            "grid_template_columns": null,
            "grid_template_rows": null,
            "height": null,
            "justify_content": null,
            "justify_items": null,
            "left": null,
            "margin": null,
            "max_height": null,
            "max_width": null,
            "min_height": null,
            "min_width": null,
            "object_fit": null,
            "object_position": null,
            "order": null,
            "overflow": null,
            "overflow_x": null,
            "overflow_y": null,
            "padding": null,
            "right": null,
            "top": null,
            "visibility": null,
            "width": null
          }
        },
        "abdda07543ff4cfd910b7ce62e67db44": {
          "model_module": "@jupyter-widgets/controls",
          "model_module_version": "1.5.0",
          "model_name": "FloatProgressModel",
          "state": {
            "_dom_classes": [],
            "_model_module": "@jupyter-widgets/controls",
            "_model_module_version": "1.5.0",
            "_model_name": "FloatProgressModel",
            "_view_count": null,
            "_view_module": "@jupyter-widgets/controls",
            "_view_module_version": "1.5.0",
            "_view_name": "ProgressView",
            "bar_style": "success",
            "description": "",
            "description_tooltip": null,
            "layout": "IPY_MODEL_93abec44829b4c379d0d9695aeb0605e",
            "max": 456318,
            "min": 0,
            "orientation": "horizontal",
            "style": "IPY_MODEL_26a9c570aad5457b961b32b9285aa0f2",
            "value": 456318
          }
        },
        "aeb4afc5e9b94156883f08c86dbf983a": {
          "model_module": "@jupyter-widgets/base",
          "model_module_version": "1.2.0",
          "model_name": "LayoutModel",
          "state": {
            "_model_module": "@jupyter-widgets/base",
            "_model_module_version": "1.2.0",
            "_model_name": "LayoutModel",
            "_view_count": null,
            "_view_module": "@jupyter-widgets/base",
            "_view_module_version": "1.2.0",
            "_view_name": "LayoutView",
            "align_content": null,
            "align_items": null,
            "align_self": null,
            "border": null,
            "bottom": null,
            "display": null,
            "flex": null,
            "flex_flow": null,
            "grid_area": null,
            "grid_auto_columns": null,
            "grid_auto_flow": null,
            "grid_auto_rows": null,
            "grid_column": null,
            "grid_gap": null,
            "grid_row": null,
            "grid_template_areas": null,
            "grid_template_columns": null,
            "grid_template_rows": null,
            "height": null,
            "justify_content": null,
            "justify_items": null,
            "left": null,
            "margin": null,
            "max_height": null,
            "max_width": null,
            "min_height": null,
            "min_width": null,
            "object_fit": null,
            "object_position": null,
            "order": null,
            "overflow": null,
            "overflow_x": null,
            "overflow_y": null,
            "padding": null,
            "right": null,
            "top": null,
            "visibility": null,
            "width": null
          }
        },
        "b276bb09980d45c18a362eb7853816ba": {
          "model_module": "@jupyter-widgets/controls",
          "model_module_version": "1.5.0",
          "model_name": "HBoxModel",
          "state": {
            "_dom_classes": [],
            "_model_module": "@jupyter-widgets/controls",
            "_model_module_version": "1.5.0",
            "_model_name": "HBoxModel",
            "_view_count": null,
            "_view_module": "@jupyter-widgets/controls",
            "_view_module_version": "1.5.0",
            "_view_name": "HBoxView",
            "box_style": "",
            "children": [
              "IPY_MODEL_f79af33fa1bd4bafb11a2bdfcbbcc89d",
              "IPY_MODEL_7a806a3fc3f846c091655924a086a756",
              "IPY_MODEL_fb681ec3e8a64f698a85788097b59087"
            ],
            "layout": "IPY_MODEL_2db631cc05964b948515c1bb13b00b55"
          }
        },
        "b2c98906155b468c8d350f6b91525e53": {
          "model_module": "@jupyter-widgets/controls",
          "model_module_version": "1.5.0",
          "model_name": "FloatProgressModel",
          "state": {
            "_dom_classes": [],
            "_model_module": "@jupyter-widgets/controls",
            "_model_module_version": "1.5.0",
            "_model_name": "FloatProgressModel",
            "_view_count": null,
            "_view_module": "@jupyter-widgets/controls",
            "_view_module_version": "1.5.0",
            "_view_name": "ProgressView",
            "bar_style": "success",
            "description": "",
            "description_tooltip": null,
            "layout": "IPY_MODEL_16ec254f34fe4d458fa36696c317b6fd",
            "max": 898822,
            "min": 0,
            "orientation": "horizontal",
            "style": "IPY_MODEL_80d248a5d6714e89a19e214fe62f60ea",
            "value": 898822
          }
        },
        "b57c2bf735bc4f5abe3704d7ea6b1969": {
          "model_module": "@jupyter-widgets/base",
          "model_module_version": "1.2.0",
          "model_name": "LayoutModel",
          "state": {
            "_model_module": "@jupyter-widgets/base",
            "_model_module_version": "1.2.0",
            "_model_name": "LayoutModel",
            "_view_count": null,
            "_view_module": "@jupyter-widgets/base",
            "_view_module_version": "1.2.0",
            "_view_name": "LayoutView",
            "align_content": null,
            "align_items": null,
            "align_self": null,
            "border": null,
            "bottom": null,
            "display": null,
            "flex": null,
            "flex_flow": null,
            "grid_area": null,
            "grid_auto_columns": null,
            "grid_auto_flow": null,
            "grid_auto_rows": null,
            "grid_column": null,
            "grid_gap": null,
            "grid_row": null,
            "grid_template_areas": null,
            "grid_template_columns": null,
            "grid_template_rows": null,
            "height": null,
            "justify_content": null,
            "justify_items": null,
            "left": null,
            "margin": null,
            "max_height": null,
            "max_width": null,
            "min_height": null,
            "min_width": null,
            "object_fit": null,
            "object_position": null,
            "order": null,
            "overflow": null,
            "overflow_x": null,
            "overflow_y": null,
            "padding": null,
            "right": null,
            "top": null,
            "visibility": null,
            "width": null
          }
        },
        "c234a5e58e4846d1af9bd59d6d412b14": {
          "model_module": "@jupyter-widgets/controls",
          "model_module_version": "1.5.0",
          "model_name": "FloatProgressModel",
          "state": {
            "_dom_classes": [],
            "_model_module": "@jupyter-widgets/controls",
            "_model_module_version": "1.5.0",
            "_model_name": "FloatProgressModel",
            "_view_count": null,
            "_view_module": "@jupyter-widgets/controls",
            "_view_module_version": "1.5.0",
            "_view_name": "ProgressView",
            "bar_style": "success",
            "description": "",
            "description_tooltip": null,
            "layout": "IPY_MODEL_9a4adff1958c49e9bf6ee91b4e881d22",
            "max": 498657517,
            "min": 0,
            "orientation": "horizontal",
            "style": "IPY_MODEL_4921b8354d3d4587a1290181ec2ae1bb",
            "value": 498657517
          }
        },
        "c571986052e94beab9bc5d3e8f15f107": {
          "model_module": "@jupyter-widgets/base",
          "model_module_version": "1.2.0",
          "model_name": "LayoutModel",
          "state": {
            "_model_module": "@jupyter-widgets/base",
            "_model_module_version": "1.2.0",
            "_model_name": "LayoutModel",
            "_view_count": null,
            "_view_module": "@jupyter-widgets/base",
            "_view_module_version": "1.2.0",
            "_view_name": "LayoutView",
            "align_content": null,
            "align_items": null,
            "align_self": null,
            "border": null,
            "bottom": null,
            "display": null,
            "flex": null,
            "flex_flow": null,
            "grid_area": null,
            "grid_auto_columns": null,
            "grid_auto_flow": null,
            "grid_auto_rows": null,
            "grid_column": null,
            "grid_gap": null,
            "grid_row": null,
            "grid_template_areas": null,
            "grid_template_columns": null,
            "grid_template_rows": null,
            "height": null,
            "justify_content": null,
            "justify_items": null,
            "left": null,
            "margin": null,
            "max_height": null,
            "max_width": null,
            "min_height": null,
            "min_width": null,
            "object_fit": null,
            "object_position": null,
            "order": null,
            "overflow": null,
            "overflow_x": null,
            "overflow_y": null,
            "padding": null,
            "right": null,
            "top": null,
            "visibility": null,
            "width": null
          }
        },
        "d37f37b17b284874804e95b20f5bdb55": {
          "model_module": "@jupyter-widgets/controls",
          "model_module_version": "1.5.0",
          "model_name": "DescriptionStyleModel",
          "state": {
            "_model_module": "@jupyter-widgets/controls",
            "_model_module_version": "1.5.0",
            "_model_name": "DescriptionStyleModel",
            "_view_count": null,
            "_view_module": "@jupyter-widgets/base",
            "_view_module_version": "1.2.0",
            "_view_name": "StyleView",
            "description_width": ""
          }
        },
        "d4471ab47ea44ba390bbf0e648a0a17c": {
          "model_module": "@jupyter-widgets/controls",
          "model_module_version": "1.5.0",
          "model_name": "DescriptionStyleModel",
          "state": {
            "_model_module": "@jupyter-widgets/controls",
            "_model_module_version": "1.5.0",
            "_model_name": "DescriptionStyleModel",
            "_view_count": null,
            "_view_module": "@jupyter-widgets/base",
            "_view_module_version": "1.2.0",
            "_view_name": "StyleView",
            "description_width": ""
          }
        },
        "d4a6e545209f469c83ebf140efd8f1c1": {
          "model_module": "@jupyter-widgets/base",
          "model_module_version": "1.2.0",
          "model_name": "LayoutModel",
          "state": {
            "_model_module": "@jupyter-widgets/base",
            "_model_module_version": "1.2.0",
            "_model_name": "LayoutModel",
            "_view_count": null,
            "_view_module": "@jupyter-widgets/base",
            "_view_module_version": "1.2.0",
            "_view_name": "LayoutView",
            "align_content": null,
            "align_items": null,
            "align_self": null,
            "border": null,
            "bottom": null,
            "display": null,
            "flex": null,
            "flex_flow": null,
            "grid_area": null,
            "grid_auto_columns": null,
            "grid_auto_flow": null,
            "grid_auto_rows": null,
            "grid_column": null,
            "grid_gap": null,
            "grid_row": null,
            "grid_template_areas": null,
            "grid_template_columns": null,
            "grid_template_rows": null,
            "height": null,
            "justify_content": null,
            "justify_items": null,
            "left": null,
            "margin": null,
            "max_height": null,
            "max_width": null,
            "min_height": null,
            "min_width": null,
            "object_fit": null,
            "object_position": null,
            "order": null,
            "overflow": null,
            "overflow_x": null,
            "overflow_y": null,
            "padding": null,
            "right": null,
            "top": null,
            "visibility": null,
            "width": null
          }
        },
        "deeb21f6db0c42b08258d31b80b39348": {
          "model_module": "@jupyter-widgets/base",
          "model_module_version": "1.2.0",
          "model_name": "LayoutModel",
          "state": {
            "_model_module": "@jupyter-widgets/base",
            "_model_module_version": "1.2.0",
            "_model_name": "LayoutModel",
            "_view_count": null,
            "_view_module": "@jupyter-widgets/base",
            "_view_module_version": "1.2.0",
            "_view_name": "LayoutView",
            "align_content": null,
            "align_items": null,
            "align_self": null,
            "border": null,
            "bottom": null,
            "display": null,
            "flex": null,
            "flex_flow": null,
            "grid_area": null,
            "grid_auto_columns": null,
            "grid_auto_flow": null,
            "grid_auto_rows": null,
            "grid_column": null,
            "grid_gap": null,
            "grid_row": null,
            "grid_template_areas": null,
            "grid_template_columns": null,
            "grid_template_rows": null,
            "height": null,
            "justify_content": null,
            "justify_items": null,
            "left": null,
            "margin": null,
            "max_height": null,
            "max_width": null,
            "min_height": null,
            "min_width": null,
            "object_fit": null,
            "object_position": null,
            "order": null,
            "overflow": null,
            "overflow_x": null,
            "overflow_y": null,
            "padding": null,
            "right": null,
            "top": null,
            "visibility": null,
            "width": null
          }
        },
        "e0466ef89f444c2ea7a7117d89a388a7": {
          "model_module": "@jupyter-widgets/controls",
          "model_module_version": "1.5.0",
          "model_name": "HTMLModel",
          "state": {
            "_dom_classes": [],
            "_model_module": "@jupyter-widgets/controls",
            "_model_module_version": "1.5.0",
            "_model_name": "HTMLModel",
            "_view_count": null,
            "_view_module": "@jupyter-widgets/controls",
            "_view_module_version": "1.5.0",
            "_view_name": "HTMLView",
            "description": "",
            "description_tooltip": null,
            "layout": "IPY_MODEL_3274355b8be741b3b70b192a74938919",
            "placeholder": "​",
            "style": "IPY_MODEL_4d156f7ff4c0448d987ca9e8c8dda865",
            "value": " 735/735 [00:00&lt;00:00, 41.7kB/s]"
          }
        },
        "e5884350601f49f693a7c7747dff53da": {
          "model_module": "@jupyter-widgets/controls",
          "model_module_version": "1.5.0",
          "model_name": "HBoxModel",
          "state": {
            "_dom_classes": [],
            "_model_module": "@jupyter-widgets/controls",
            "_model_module_version": "1.5.0",
            "_model_name": "HBoxModel",
            "_view_count": null,
            "_view_module": "@jupyter-widgets/controls",
            "_view_module_version": "1.5.0",
            "_view_name": "HBoxView",
            "box_style": "",
            "children": [
              "IPY_MODEL_421b988ba74f4f79ad575bab41757b27",
              "IPY_MODEL_abdda07543ff4cfd910b7ce62e67db44",
              "IPY_MODEL_33d319c2989841329a765f280daf0d41"
            ],
            "layout": "IPY_MODEL_a296696874fe4f51bbd1339364750a34"
          }
        },
        "e8454143b4174643b902a18443d1ec67": {
          "model_module": "@jupyter-widgets/controls",
          "model_module_version": "1.5.0",
          "model_name": "DescriptionStyleModel",
          "state": {
            "_model_module": "@jupyter-widgets/controls",
            "_model_module_version": "1.5.0",
            "_model_name": "DescriptionStyleModel",
            "_view_count": null,
            "_view_module": "@jupyter-widgets/base",
            "_view_module_version": "1.2.0",
            "_view_name": "StyleView",
            "description_width": ""
          }
        },
        "eb16d8996926461f90fb099c2584ece9": {
          "model_module": "@jupyter-widgets/base",
          "model_module_version": "1.2.0",
          "model_name": "LayoutModel",
          "state": {
            "_model_module": "@jupyter-widgets/base",
            "_model_module_version": "1.2.0",
            "_model_name": "LayoutModel",
            "_view_count": null,
            "_view_module": "@jupyter-widgets/base",
            "_view_module_version": "1.2.0",
            "_view_name": "LayoutView",
            "align_content": null,
            "align_items": null,
            "align_self": null,
            "border": null,
            "bottom": null,
            "display": null,
            "flex": null,
            "flex_flow": null,
            "grid_area": null,
            "grid_auto_columns": null,
            "grid_auto_flow": null,
            "grid_auto_rows": null,
            "grid_column": null,
            "grid_gap": null,
            "grid_row": null,
            "grid_template_areas": null,
            "grid_template_columns": null,
            "grid_template_rows": null,
            "height": null,
            "justify_content": null,
            "justify_items": null,
            "left": null,
            "margin": null,
            "max_height": null,
            "max_width": null,
            "min_height": null,
            "min_width": null,
            "object_fit": null,
            "object_position": null,
            "order": null,
            "overflow": null,
            "overflow_x": null,
            "overflow_y": null,
            "padding": null,
            "right": null,
            "top": null,
            "visibility": null,
            "width": null
          }
        },
        "eb3cba62f09d450e9f5afa81bfbebdf9": {
          "model_module": "@jupyter-widgets/controls",
          "model_module_version": "1.5.0",
          "model_name": "ProgressStyleModel",
          "state": {
            "_model_module": "@jupyter-widgets/controls",
            "_model_module_version": "1.5.0",
            "_model_name": "ProgressStyleModel",
            "_view_count": null,
            "_view_module": "@jupyter-widgets/base",
            "_view_module_version": "1.2.0",
            "_view_name": "StyleView",
            "bar_color": null,
            "description_width": ""
          }
        },
        "ec0bde366fb244a684d8d67f45d598b6": {
          "model_module": "@jupyter-widgets/base",
          "model_module_version": "1.2.0",
          "model_name": "LayoutModel",
          "state": {
            "_model_module": "@jupyter-widgets/base",
            "_model_module_version": "1.2.0",
            "_model_name": "LayoutModel",
            "_view_count": null,
            "_view_module": "@jupyter-widgets/base",
            "_view_module_version": "1.2.0",
            "_view_name": "LayoutView",
            "align_content": null,
            "align_items": null,
            "align_self": null,
            "border": null,
            "bottom": null,
            "display": null,
            "flex": null,
            "flex_flow": null,
            "grid_area": null,
            "grid_auto_columns": null,
            "grid_auto_flow": null,
            "grid_auto_rows": null,
            "grid_column": null,
            "grid_gap": null,
            "grid_row": null,
            "grid_template_areas": null,
            "grid_template_columns": null,
            "grid_template_rows": null,
            "height": null,
            "justify_content": null,
            "justify_items": null,
            "left": null,
            "margin": null,
            "max_height": null,
            "max_width": null,
            "min_height": null,
            "min_width": null,
            "object_fit": null,
            "object_position": null,
            "order": null,
            "overflow": null,
            "overflow_x": null,
            "overflow_y": null,
            "padding": null,
            "right": null,
            "top": null,
            "visibility": null,
            "width": null
          }
        },
        "ec218bd4cb184ffabc513773c1510a6f": {
          "model_module": "@jupyter-widgets/controls",
          "model_module_version": "1.5.0",
          "model_name": "HBoxModel",
          "state": {
            "_dom_classes": [],
            "_model_module": "@jupyter-widgets/controls",
            "_model_module_version": "1.5.0",
            "_model_name": "HBoxModel",
            "_view_count": null,
            "_view_module": "@jupyter-widgets/controls",
            "_view_module_version": "1.5.0",
            "_view_name": "HBoxView",
            "box_style": "",
            "children": [
              "IPY_MODEL_328f0a0a345d42d4ba775999f4070fcf",
              "IPY_MODEL_1b33a77dcedf4f27936c2a54f1fe7ae1",
              "IPY_MODEL_f177892c034c4b0f9fd190b2282a0b12"
            ],
            "layout": "IPY_MODEL_ec0bde366fb244a684d8d67f45d598b6"
          }
        },
        "eca841a93b374282a689cf44a1d383a9": {
          "model_module": "@jupyter-widgets/base",
          "model_module_version": "1.2.0",
          "model_name": "LayoutModel",
          "state": {
            "_model_module": "@jupyter-widgets/base",
            "_model_module_version": "1.2.0",
            "_model_name": "LayoutModel",
            "_view_count": null,
            "_view_module": "@jupyter-widgets/base",
            "_view_module_version": "1.2.0",
            "_view_name": "LayoutView",
            "align_content": null,
            "align_items": null,
            "align_self": null,
            "border": null,
            "bottom": null,
            "display": null,
            "flex": null,
            "flex_flow": null,
            "grid_area": null,
            "grid_auto_columns": null,
            "grid_auto_flow": null,
            "grid_auto_rows": null,
            "grid_column": null,
            "grid_gap": null,
            "grid_row": null,
            "grid_template_areas": null,
            "grid_template_columns": null,
            "grid_template_rows": null,
            "height": null,
            "justify_content": null,
            "justify_items": null,
            "left": null,
            "margin": null,
            "max_height": null,
            "max_width": null,
            "min_height": null,
            "min_width": null,
            "object_fit": null,
            "object_position": null,
            "order": null,
            "overflow": null,
            "overflow_x": null,
            "overflow_y": null,
            "padding": null,
            "right": null,
            "top": null,
            "visibility": null,
            "width": null
          }
        },
        "ed4778140fa24a4aaa60633c3d80b3b9": {
          "model_module": "@jupyter-widgets/controls",
          "model_module_version": "1.5.0",
          "model_name": "DescriptionStyleModel",
          "state": {
            "_model_module": "@jupyter-widgets/controls",
            "_model_module_version": "1.5.0",
            "_model_name": "DescriptionStyleModel",
            "_view_count": null,
            "_view_module": "@jupyter-widgets/base",
            "_view_module_version": "1.2.0",
            "_view_name": "StyleView",
            "description_width": ""
          }
        },
        "f025869db818438696222e2b2ecc8976": {
          "model_module": "@jupyter-widgets/base",
          "model_module_version": "1.2.0",
          "model_name": "LayoutModel",
          "state": {
            "_model_module": "@jupyter-widgets/base",
            "_model_module_version": "1.2.0",
            "_model_name": "LayoutModel",
            "_view_count": null,
            "_view_module": "@jupyter-widgets/base",
            "_view_module_version": "1.2.0",
            "_view_name": "LayoutView",
            "align_content": null,
            "align_items": null,
            "align_self": null,
            "border": null,
            "bottom": null,
            "display": null,
            "flex": null,
            "flex_flow": null,
            "grid_area": null,
            "grid_auto_columns": null,
            "grid_auto_flow": null,
            "grid_auto_rows": null,
            "grid_column": null,
            "grid_gap": null,
            "grid_row": null,
            "grid_template_areas": null,
            "grid_template_columns": null,
            "grid_template_rows": null,
            "height": null,
            "justify_content": null,
            "justify_items": null,
            "left": null,
            "margin": null,
            "max_height": null,
            "max_width": null,
            "min_height": null,
            "min_width": null,
            "object_fit": null,
            "object_position": null,
            "order": null,
            "overflow": null,
            "overflow_x": null,
            "overflow_y": null,
            "padding": null,
            "right": null,
            "top": null,
            "visibility": null,
            "width": null
          }
        },
        "f1060b7a7e9345519419411a6fbda71e": {
          "model_module": "@jupyter-widgets/controls",
          "model_module_version": "1.5.0",
          "model_name": "DescriptionStyleModel",
          "state": {
            "_model_module": "@jupyter-widgets/controls",
            "_model_module_version": "1.5.0",
            "_model_name": "DescriptionStyleModel",
            "_view_count": null,
            "_view_module": "@jupyter-widgets/base",
            "_view_module_version": "1.2.0",
            "_view_name": "StyleView",
            "description_width": ""
          }
        },
        "f177892c034c4b0f9fd190b2282a0b12": {
          "model_module": "@jupyter-widgets/controls",
          "model_module_version": "1.5.0",
          "model_name": "HTMLModel",
          "state": {
            "_dom_classes": [],
            "_model_module": "@jupyter-widgets/controls",
            "_model_module_version": "1.5.0",
            "_model_name": "HTMLModel",
            "_view_count": null,
            "_view_module": "@jupyter-widgets/controls",
            "_view_module_version": "1.5.0",
            "_view_name": "HTMLView",
            "description": "",
            "description_tooltip": null,
            "layout": "IPY_MODEL_deeb21f6db0c42b08258d31b80b39348",
            "placeholder": "​",
            "style": "IPY_MODEL_9732ec4ccc2341468a517e0e936e4d29",
            "value": " 1.14k/1.14k [00:00&lt;00:00, 59.5kB/s]"
          }
        },
        "f17ee898772f4e99ba5bc53304bdcfdb": {
          "model_module": "@jupyter-widgets/controls",
          "model_module_version": "1.5.0",
          "model_name": "HTMLModel",
          "state": {
            "_dom_classes": [],
            "_model_module": "@jupyter-widgets/controls",
            "_model_module_version": "1.5.0",
            "_model_name": "HTMLModel",
            "_view_count": null,
            "_view_module": "@jupyter-widgets/controls",
            "_view_module_version": "1.5.0",
            "_view_name": "HTMLView",
            "description": "",
            "description_tooltip": null,
            "layout": "IPY_MODEL_aeb4afc5e9b94156883f08c86dbf983a",
            "placeholder": "​",
            "style": "IPY_MODEL_d4471ab47ea44ba390bbf0e648a0a17c",
            "value": "Downloading (…)lve/main/config.json: 100%"
          }
        },
        "f1ad96ebf87940f0a32bcf4de032555c": {
          "model_module": "@jupyter-widgets/base",
          "model_module_version": "1.2.0",
          "model_name": "LayoutModel",
          "state": {
            "_model_module": "@jupyter-widgets/base",
            "_model_module_version": "1.2.0",
            "_model_name": "LayoutModel",
            "_view_count": null,
            "_view_module": "@jupyter-widgets/base",
            "_view_module_version": "1.2.0",
            "_view_name": "LayoutView",
            "align_content": null,
            "align_items": null,
            "align_self": null,
            "border": null,
            "bottom": null,
            "display": null,
            "flex": null,
            "flex_flow": null,
            "grid_area": null,
            "grid_auto_columns": null,
            "grid_auto_flow": null,
            "grid_auto_rows": null,
            "grid_column": null,
            "grid_gap": null,
            "grid_row": null,
            "grid_template_areas": null,
            "grid_template_columns": null,
            "grid_template_rows": null,
            "height": null,
            "justify_content": null,
            "justify_items": null,
            "left": null,
            "margin": null,
            "max_height": null,
            "max_width": null,
            "min_height": null,
            "min_width": null,
            "object_fit": null,
            "object_position": null,
            "order": null,
            "overflow": null,
            "overflow_x": null,
            "overflow_y": null,
            "padding": null,
            "right": null,
            "top": null,
            "visibility": null,
            "width": null
          }
        },
        "f44d4fe7065643d491028348df666633": {
          "model_module": "@jupyter-widgets/controls",
          "model_module_version": "1.5.0",
          "model_name": "DescriptionStyleModel",
          "state": {
            "_model_module": "@jupyter-widgets/controls",
            "_model_module_version": "1.5.0",
            "_model_name": "DescriptionStyleModel",
            "_view_count": null,
            "_view_module": "@jupyter-widgets/base",
            "_view_module_version": "1.2.0",
            "_view_name": "StyleView",
            "description_width": ""
          }
        },
        "f79af33fa1bd4bafb11a2bdfcbbcc89d": {
          "model_module": "@jupyter-widgets/controls",
          "model_module_version": "1.5.0",
          "model_name": "HTMLModel",
          "state": {
            "_dom_classes": [],
            "_model_module": "@jupyter-widgets/controls",
            "_model_module_version": "1.5.0",
            "_model_name": "HTMLModel",
            "_view_count": null,
            "_view_module": "@jupyter-widgets/controls",
            "_view_module_version": "1.5.0",
            "_view_name": "HTMLView",
            "description": "",
            "description_tooltip": null,
            "layout": "IPY_MODEL_72689f54236f4e8e92c6ebbc0d017a78",
            "placeholder": "​",
            "style": "IPY_MODEL_ed4778140fa24a4aaa60633c3d80b3b9",
            "value": "Downloading (…)cial_tokens_map.json: 100%"
          }
        },
        "fb43fac50c404522a773e0fa8d29cae9": {
          "model_module": "@jupyter-widgets/controls",
          "model_module_version": "1.5.0",
          "model_name": "HTMLModel",
          "state": {
            "_dom_classes": [],
            "_model_module": "@jupyter-widgets/controls",
            "_model_module_version": "1.5.0",
            "_model_name": "HTMLModel",
            "_view_count": null,
            "_view_module": "@jupyter-widgets/controls",
            "_view_module_version": "1.5.0",
            "_view_name": "HTMLView",
            "description": "",
            "description_tooltip": null,
            "layout": "IPY_MODEL_886bc47593ed44c5b819dfa635b5fb8c",
            "placeholder": "​",
            "style": "IPY_MODEL_530d1ba09315450f93e8c72d857adbb1",
            "value": "<center> <img\nsrc=https://huggingface.co/front/assets/huggingface_logo-noborder.svg\nalt='Hugging Face'> <br> Copy a token from <a\nhref=\"https://huggingface.co/settings/tokens\" target=\"_blank\">your Hugging Face\ntokens page</a> and paste it below. <br> Immediately click login after copying\nyour token or it might be stored in plain text in this notebook file. </center>"
          }
        },
        "fb681ec3e8a64f698a85788097b59087": {
          "model_module": "@jupyter-widgets/controls",
          "model_module_version": "1.5.0",
          "model_name": "HTMLModel",
          "state": {
            "_dom_classes": [],
            "_model_module": "@jupyter-widgets/controls",
            "_model_module_version": "1.5.0",
            "_model_name": "HTMLModel",
            "_view_count": null,
            "_view_module": "@jupyter-widgets/controls",
            "_view_module_version": "1.5.0",
            "_view_name": "HTMLView",
            "description": "",
            "description_tooltip": null,
            "layout": "IPY_MODEL_d4a6e545209f469c83ebf140efd8f1c1",
            "placeholder": "​",
            "style": "IPY_MODEL_e8454143b4174643b902a18443d1ec67",
            "value": " 772/772 [00:00&lt;00:00, 35.0kB/s]"
          }
        }
      }
    }
  },
  "nbformat": 4,
  "nbformat_minor": 0
}
